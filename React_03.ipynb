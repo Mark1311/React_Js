{
 "cells": [
  {
   "cell_type": "markdown",
   "id": "d6f4184f",
   "metadata": {},
   "source": [
    "# What is the difference between functional and class components?\n"
   ]
  },
  {
   "cell_type": "markdown",
   "id": "a38ae5ee",
   "metadata": {},
   "source": [
    "### Syntax aur Structure:"
   ]
  },
  {
   "cell_type": "markdown",
   "id": "3bbfbf78",
   "metadata": {},
   "source": [
    "Functional Components:\n",
    "\n",
    "* Yeh JavaScript functions hote hain jo props accept karte hain aur UI return karte hain.\n",
    "\n",
    "* Hooks ke introduction ke baad yeh state aur lifecycle methods ko handle kar sakte hain."
   ]
  },
  {
   "cell_type": "code",
   "execution_count": null,
   "id": "d6cb8f0c",
   "metadata": {
    "vscode": {
     "languageId": "javascript"
    }
   },
   "outputs": [],
   "source": [
    "function Greeting(props) {\n",
    "  return <h1>Hello, {props.name}!</h1>;\n",
    "}\n"
   ]
  },
  {
   "cell_type": "markdown",
   "id": "5c0da4f5",
   "metadata": {},
   "source": [
    "Class Components:\n",
    "\n",
    "* Yeh ES6 classes par based hote hain aur React ke lifecycle methods aur state ko handle karte hain."
   ]
  },
  {
   "cell_type": "code",
   "execution_count": null,
   "id": "522712bc",
   "metadata": {
    "vscode": {
     "languageId": "javascript"
    }
   },
   "outputs": [],
   "source": [
    "class Greeting extends React.Component {\n",
    "  render() {\n",
    "    return <h1>Hello, {this.props.name}!</h1>;\n",
    "  }\n",
    "}"
   ]
  },
  {
   "cell_type": "markdown",
   "id": "196cdae0",
   "metadata": {},
   "source": [
    "### State Management:"
   ]
  },
  {
   "cell_type": "markdown",
   "id": "226d5384",
   "metadata": {},
   "source": [
    "Functional Components:\n",
    "\n",
    "* Pehle stateless hote the, lekin React Hooks (like useState, useEffect) ke baad functional components mein state aur lifecycle management possible hai."
   ]
  },
  {
   "cell_type": "code",
   "execution_count": null,
   "id": "8104bf87",
   "metadata": {
    "vscode": {
     "languageId": "javascript"
    }
   },
   "outputs": [],
   "source": [
    "function Counter() {\n",
    "  const [count, setCount] = React.useState(0);\n",
    "  return <button onClick={() => setCount(count + 1)}>Count: {count}</button>;\n",
    "}\n"
   ]
  },
  {
   "cell_type": "markdown",
   "id": "3fd80032",
   "metadata": {},
   "source": [
    "Class Components:\n",
    "\n",
    "* State ko this.state ke through define aur update kiya jata hai using this.setState."
   ]
  },
  {
   "cell_type": "code",
   "execution_count": null,
   "id": "9b9f9947",
   "metadata": {
    "vscode": {
     "languageId": "javascript"
    }
   },
   "outputs": [],
   "source": [
    "class Counter extends React.Component {\n",
    "  constructor() {\n",
    "    super();\n",
    "    this.state = { count: 0 };\n",
    "  }\n",
    "  render() {\n",
    "    return (\n",
    "      <button onClick={() => this.setState({ count: this.state.count + 1 })}>\n",
    "        Count: {this.state.count}\n",
    "      </button>\n",
    "    );\n",
    "  }\n",
    "}\n"
   ]
  },
  {
   "cell_type": "markdown",
   "id": "ca734e3c",
   "metadata": {},
   "source": [
    "### Lifecycle Methods:\n"
   ]
  },
  {
   "cell_type": "markdown",
   "id": "9744cbbf",
   "metadata": {},
   "source": [
    "Functional Components:\n",
    "\n",
    "* Lifecycle methods ka direct support nahi hota, lekin Hooks jaise useEffect se lifecycle events ko handle kar sakte hain."
   ]
  },
  {
   "cell_type": "code",
   "execution_count": null,
   "id": "c5f76402",
   "metadata": {
    "vscode": {
     "languageId": "javascript"
    }
   },
   "outputs": [],
   "source": [
    "React.useEffect(() => {\n",
    "  console.log(\"Component mounted or updated\");\n",
    "}, [dependency]);\n"
   ]
  },
  {
   "cell_type": "markdown",
   "id": "07604556",
   "metadata": {},
   "source": [
    "Class Components:\n",
    "\n",
    "* Lifecycle methods ka built-in support hota hai, jaise:\n",
    "\n",
    "1. componentDidMount\n",
    "\n",
    "2. componentDidUpdate\n",
    "\n",
    "3.  componentWillUnmount"
   ]
  },
  {
   "cell_type": "code",
   "execution_count": null,
   "id": "625b14c5",
   "metadata": {
    "vscode": {
     "languageId": "javascript"
    }
   },
   "outputs": [],
   "source": [
    "class Example extends React.Component {\n",
    "  componentDidMount() {\n",
    "    console.log(\"Component mounted\");\n",
    "  }\n",
    "  render() {\n",
    "    return <div>Class Component</div>;\n",
    "  }\n",
    "}"
   ]
  },
  {
   "cell_type": "markdown",
   "id": "8859eba2",
   "metadata": {},
   "source": [
    "### Performance"
   ]
  },
  {
   "cell_type": "markdown",
   "id": "eac8dfcb",
   "metadata": {},
   "source": [
    "Functional Components:\n",
    "\n",
    "* Functional components lightweight hote hain, aur hooks ke wajah se cleaner aur faster hote hain.\n",
    "\n",
    "* Purane React versions mein functional components faster hote the kyunki lifecycle handling nahi hoti thi, lekin ab dono comparable hain.\n",
    "\n",
    "Class Components:\n",
    "\n",
    "* Slightly heavier syntax aur this binding ki wajah se thoda complex aur verbose hote hain."
   ]
  },
  {
   "cell_type": "markdown",
   "id": "df0243e4",
   "metadata": {},
   "source": [
    "### Readability and Code Size:\n"
   ]
  },
  {
   "cell_type": "markdown",
   "id": "37e0d2e6",
   "metadata": {},
   "source": [
    "Functional Components:\n",
    "\n",
    "* Code concise aur readable hota hai, especially hooks ke baad.\n",
    "\n",
    "* Simple use cases ke liye functional components recommend kiye jate hain.\n",
    "\n",
    "Class Components:\n",
    "\n",
    "* Code verbose hota hai kyunki constructors, lifecycle methods aur this binding likhna padta hai.\n",
    "\n"
   ]
  },
  {
   "cell_type": "markdown",
   "id": "76ecaf67",
   "metadata": {},
   "source": [
    "| **Aspect**            | **Functional Components**            | **Class Components**                                   |\n",
    "| --------------------- | ------------------------------------ | ------------------------------------------------------ |\n",
    "| **Syntax**            | JavaScript functions                 | ES6 Classes                                            |\n",
    "| **State Handling**    | Hooks (`useState`, `useEffect`)      | `this.state`, `this.setState`                          |\n",
    "| **Lifecycle Methods** | `useEffect` for all lifecycle events | Separate lifecycle methods (`componentDidMount`, etc.) |\n",
    "| **Code Size**         | Concise and readable                 | Verbose and complex                                    |\n",
    "| **Performance**       | Lightweight and efficient            | Slightly heavier                                       |\n",
    "| **Usage**             | Recommended for modern React apps    | Used in legacy or existing projects                    |\n",
    "| **Trend**             | Modern, widely adopted               | Legacy and declining usage                             |\n"
   ]
  },
  {
   "cell_type": "markdown",
   "id": "b1ff6548",
   "metadata": {},
   "source": [
    "### Interview Tip:\n",
    "\n",
    "* \"Functional components hooks ke saath modern aur clean solution dete hain. Ab React ke most use cases mein functional components hi preferred hain.\"\n",
    "\n",
    "* Lekin agar legacy code handle karna ho ya lifecycle methods ko specific tarike se use karna ho, toh class components ka knowledge zaroori hai."
   ]
  },
  {
   "cell_type": "markdown",
   "id": "70af0840",
   "metadata": {},
   "source": [
    "# What is prop drilling?\n"
   ]
  },
  {
   "cell_type": "markdown",
   "id": "7dc7f496",
   "metadata": {},
   "source": [
    "Prop Drilling ek concept hai React mein, jisme ek component ko data (props) pass karte hue multiple intermediate components ke through jana padta hai, even agar un beech ke components ko woh data directly use karne ki zarurat na ho.\n",
    "\n",
    "#### Prop Drilling Ka Matlab\n",
    "\n",
    "Jab parent component ka data kisi deeply nested child component tak pahunchana ho, toh us data (prop) ko hierarchy ke sabhi components ko pass karna padta hai. Ye process tedious aur messy ho sakta hai, especially jab component tree kaafi bada ho."
   ]
  },
  {
   "cell_type": "code",
   "execution_count": null,
   "id": "dca85444",
   "metadata": {
    "vscode": {
     "languageId": "javascript"
    }
   },
   "outputs": [],
   "source": [
    "function App() {\n",
    "  const userName = \"Bittu\";\n",
    "\n",
    "  return <Parent userName={userName} />;\n",
    "}\n",
    "\n",
    "function Parent(props) {\n",
    "  return <Child userName={props.userName} />;\n",
    "}\n",
    "\n",
    "function Child(props) {\n",
    "  return <GrandChild userName={props.userName} />;\n",
    "}\n",
    "\n",
    "function GrandChild(props) {\n",
    "  return <h1>Hello, {props.userName}!</h1>;\n",
    "}\n"
   ]
  },
  {
   "cell_type": "markdown",
   "id": "ce0ec556",
   "metadata": {},
   "source": [
    "Yahaan App component ka userName prop GrandChild component tak pahunchana tha, lekin har intermediate component (Parent aur Child) ko unnecessary props pass karni pad rahi hai."
   ]
  },
  {
   "cell_type": "markdown",
   "id": "a4d281d9",
   "metadata": {},
   "source": [
    "### Problems with Prop Drilling:\n",
    "\n",
    "Unnecessary Complexity:\n",
    "* Beech ke components ko data pass karna padta hai, chahe unhe zarurat na ho.\n",
    "\n",
    "Maintainability Issues:\n",
    "* Agar hierarchy badalti hai, toh sabhi intermediate components ko update karna padta hai.\n",
    "\n",
    "Code Duplication:\n",
    "* Bar-bar props ko pass karne ki wajah se repetitive aur verbose code ban jata hai."
   ]
  },
  {
   "cell_type": "markdown",
   "id": "8a976592",
   "metadata": {},
   "source": [
    "### Solutions to Avoid Prop Drilling:"
   ]
  },
  {
   "cell_type": "markdown",
   "id": "f358fcbe",
   "metadata": {},
   "source": [
    "##### Context API:\n",
    "React ka built-in solution hai, jo data ko directly deeply nested components tak pahunchane deta hai bina intermediate components ke through jaaye."
   ]
  },
  {
   "cell_type": "code",
   "execution_count": null,
   "id": "0cb92648",
   "metadata": {
    "vscode": {
     "languageId": "javascript"
    }
   },
   "outputs": [],
   "source": [
    "const UserContext = React.createContext();\n",
    "\n",
    "function App() {\n",
    "  return (\n",
    "    <UserContext.Provider value=\"Bittu\">\n",
    "      <GrandChild />\n",
    "    </UserContext.Provider>\n",
    "  );\n",
    "}\n",
    "\n",
    "function GrandChild() {\n",
    "  const userName = React.useContext(UserContext);\n",
    "  return <h1>Hello, {userName}!</h1>;\n",
    "}\n"
   ]
  },
  {
   "cell_type": "markdown",
   "id": "a2d3752f",
   "metadata": {},
   "source": [
    "# What are the different ways to style React components?\n"
   ]
  },
  {
   "cell_type": "markdown",
   "id": "d06a8795",
   "metadata": {},
   "source": [
    "| **Method**            | **Advantages**                         | **Disadvantages**                       |\n",
    "| --------------------- | -------------------------------------- | --------------------------------------- |\n",
    "| **Inline Styles**     | Quick, simple                          | Hard to maintain, limited CSS support   |\n",
    "| **CSS Stylesheets**   | Easy to use, reusable                  | Global scope, potential class conflicts |\n",
    "| **CSS Modules**       | Scoped styles, maintainable            | Slightly more setup                     |\n",
    "| **Styled Components** | Dynamic styles, no separate files      | Runtime overhead                        |\n",
    "| **Tailwind CSS**      | Rapid styling, utility-first classes   | Learning curve                          |\n",
    "| **Emotion**           | Lightweight, flexible                  | Advanced setup                          |\n",
    "| **SCSS/SASS**         | Nesting, variables, and mixins support | Requires build setup                    |\n"
   ]
  },
  {
   "cell_type": "markdown",
   "id": "208dbb20",
   "metadata": {},
   "source": [
    "# What is the difference between controlled and uncontrolled components?\n"
   ]
  },
  {
   "cell_type": "markdown",
   "id": "189941b2",
   "metadata": {},
   "source": [
    "### 1. Controlled Components\n",
    "\n",
    "* Definition: Aise components jaha form element ka state React ke control mein hota hai. Form ke values (like input, textarea) ko React state ke zariye manage kiya jata hai.\n",
    "\n",
    "* Data Flow: React state ek single source of truth hota hai."
   ]
  },
  {
   "cell_type": "code",
   "execution_count": null,
   "id": "a1f9977e",
   "metadata": {
    "vscode": {
     "languageId": "javascript"
    }
   },
   "outputs": [],
   "source": [
    "function ControlledComponent() {\n",
    "  const [value, setValue] = React.useState(\"\");\n",
    "\n",
    "  const handleChange = (e) => {\n",
    "    setValue(e.target.value);\n",
    "  };\n",
    "\n",
    "  return (\n",
    "    <div>\n",
    "      <input type=\"text\" value={value} onChange={handleChange} />\n",
    "      <p>Current Value: {value}</p>\n",
    "    </div>\n",
    "  );\n",
    "}\n"
   ]
  },
  {
   "cell_type": "markdown",
   "id": "d0e044f6",
   "metadata": {},
   "source": [
    "Features:\n",
    "\n",
    "* React ke state aur UI synchronised hote hain.\n",
    "\n",
    "* Value directly value attribute aur onChange event ke zariye handle hoti hai.\n",
    "\n",
    "Pros:\n",
    "\n",
    "* Predictable aur easier to debug.\n",
    "\n",
    "* Validation aur data transformation React ke andar hi handle kar sakte hain.\n",
    "\n",
    "Cons:\n",
    "\n",
    "* Slightly verbose code.\n",
    "\n",
    "* Performance issues ho sakte hain agar bohot saare inputs ho."
   ]
  },
  {
   "cell_type": "markdown",
   "id": "c39e5752",
   "metadata": {},
   "source": [
    "### 2. Uncontrolled Components\n",
    "\n",
    "* Definition: Aise components jaha form element ka state React ke control mein nahi hota, balki DOM ka control hota hai. Value ko directly DOM ke reference se access kiya jata hai.\n",
    "\n",
    "* Data Flow: Data DOM ke andar hi manage hota hai."
   ]
  },
  {
   "cell_type": "code",
   "execution_count": null,
   "id": "352adbec",
   "metadata": {
    "vscode": {
     "languageId": "javascript"
    }
   },
   "outputs": [],
   "source": [
    "function UncontrolledComponent() {\n",
    "  const inputRef = React.useRef();\n",
    "\n",
    "  const handleSubmit = () => {\n",
    "    alert(`Input Value: ${inputRef.current.value}`);\n",
    "  };\n",
    "\n",
    "  return (\n",
    "    <div>\n",
    "      <input type=\"text\" ref={inputRef} />\n",
    "      <button onClick={handleSubmit}>Submit</button>\n",
    "    </div>\n",
    "  );\n",
    "}\n"
   ]
  },
  {
   "cell_type": "markdown",
   "id": "c6015a71",
   "metadata": {},
   "source": [
    "Features:\n",
    "\n",
    "* Value ref ke zariye directly DOM se fetch ki jati hai.\n",
    "\n",
    "* React ke state ka involvement nahi hota.\n",
    "\n",
    "Pros:\n",
    "\n",
    "* Less boilerplate code.\n",
    "\n",
    "* Performance better ho sakta hai jab bohot saare inputs ho.\n",
    "\n",
    "Cons:\n",
    "\n",
    "* React aur DOM ke beech synchronization nahi hota.\n",
    "\n",
    "* Validation aur data handling thoda mushkil hota hai."
   ]
  },
  {
   "cell_type": "markdown",
   "id": "08a32df3",
   "metadata": {},
   "source": [
    "| **Aspect**           | **Controlled Components**                         | **Uncontrolled Components**                      |\n",
    "| -------------------- | ------------------------------------------------- | ------------------------------------------------ |\n",
    "| **State Management** | State React ke control mein hota hai              | State DOM ke control mein hota hai               |\n",
    "| **Data Flow**        | React state as single source of truth             | DOM element ka internal state use hota hai       |\n",
    "| **Accessing Values** | `value` attribute aur `onChange` ke zariye        | `ref` ke through DOM se value fetch hoti hai     |\n",
    "| **Validation**       | React ke andar easy to handle                     | Manual validation karni padti hai                |\n",
    "| **Code Complexity**  | Slightly verbose                                  | Cleaner and less boilerplate                     |\n",
    "| **Use Cases**        | Complex forms with validations                    | Simple forms or when direct DOM access is needed |\n",
    "| **Example Use**      | `<input value={state} onChange={handleChange} />` | `<input ref={inputRef} />`                       |\n"
   ]
  },
  {
   "cell_type": "markdown",
   "id": "b19e6b1e",
   "metadata": {},
   "source": [
    "##### When to Use?\n",
    "\n",
    "Controlled Components:\n",
    "\n",
    "* Jab form ke values aur validations ka control React state ke through karna ho.\n",
    "\n",
    "* Jab complex forms ho (e.g., multi-step forms, dynamic inputs).\n",
    "\n",
    "Uncontrolled Components:\n",
    "\n",
    "* Jab simple forms ya inputs ho.\n",
    "\n",
    "* Jab DOM ke reference se quick access chahiye (e.g., file upload, legacy code integration)."
   ]
  },
  {
   "cell_type": "markdown",
   "id": "c23cde21",
   "metadata": {},
   "source": [
    "# How do you apply conditional class names?\n"
   ]
  },
  {
   "cell_type": "code",
   "execution_count": null,
   "id": "f9b4cc58",
   "metadata": {
    "vscode": {
     "languageId": "javascript"
    }
   },
   "outputs": [],
   "source": [
    "//  Using Ternary Operator\n",
    "\n",
    "function ConditionalClassExample({ isActive }) {\n",
    "  return (\n",
    "    <div className={isActive ? \"active-class\" : \"inactive-class\"}>\n",
    "      Conditional Class Example\n",
    "    </div>\n",
    "  );\n",
    "}\n",
    "\n",
    "// Using Logical Operators\n",
    "\n",
    "function LogicalClassExample({ isPrimary, isDisabled }) {\n",
    "  return (\n",
    "    <button\n",
    "      className={`button ${isPrimary && \"primary\"} ${\n",
    "        isDisabled && \"disabled\"\n",
    "      }`}\n",
    "    >\n",
    "      Logical Class Example\n",
    "    </button>\n",
    "  );\n",
    "}\n",
    "\n",
    "\n",
    "// Using Template Literals\n",
    "\n",
    "function TemplateLiteralExample({ isHighlighted }) {\n",
    "  return (\n",
    "    <p className={`text ${isHighlighted ? \"highlight\" : \"\"}`}>\n",
    "      Highlighted Text\n",
    "    </p>\n",
    "  );\n",
    "}\n",
    "\n"
   ]
  },
  {
   "cell_type": "markdown",
   "id": "3b5a88ff",
   "metadata": {},
   "source": [
    "| **Method**             | **Advantages**                          | **Disadvantages**                     |\n",
    "| ---------------------- | --------------------------------------- | ------------------------------------- |\n",
    "| **Ternary Operator**   | Simple for basic conditions             | Becomes verbose for multiple classes  |\n",
    "| **Logical Operators**  | Easy to use for multiple conditions     | Less readable in complex logic        |\n",
    "| **Template Literals**  | Clear syntax for dynamic classes        | Can become messy for multiple classes |\n"
   ]
  },
  {
   "cell_type": "markdown",
   "id": "ac00462f",
   "metadata": {},
   "source": [
    "# What is the Context API?\n"
   ]
  },
  {
   "cell_type": "markdown",
   "id": "0fb9caab",
   "metadata": {},
   "source": [
    "Context API ek React ka built-in feature hai jo components ke beech data ko directly share karne ka solution provide karta hai bina props ko multiple levels tak drill kiye. Iska use global state management ke liye hota hai, jaise ki user authentication, theme settings, ya language preferences.\n",
    "\n",
    "##### Context API Ka Use Kyun Karte Hain?\n",
    "\n",
    "Jab aapko ek parent component se deeply nested child component tak data pass karna hota hai, toh aapko har intermediate component ke through props pass karna padta hai. Isse prop drilling hoti hai, jo code ko complex aur difficult to maintain bana deti hai.\n",
    "\n",
    "* Context API is problem ko solve karta hai by:\n",
    "\n",
    "1. Data ko globally accessible banana.\n",
    "\n",
    "2. Intermediate components ko bypass karte hue direct child components tak data pahunchana.\n",
    "\n"
   ]
  },
  {
   "cell_type": "markdown",
   "id": "fee5754a",
   "metadata": {},
   "source": [
    "### Context API Ka Workflow"
   ]
  },
  {
   "cell_type": "markdown",
   "id": "1c01a993",
   "metadata": {},
   "source": [
    "##### Context Create Karna\n",
    "Ek context object banate hain jo global data ko hold karega.\n"
   ]
  },
  {
   "cell_type": "code",
   "execution_count": null,
   "id": "dafa4d42",
   "metadata": {
    "vscode": {
     "languageId": "javascript"
    }
   },
   "outputs": [],
   "source": [
    "const ThemeContext = React.createContext();"
   ]
  },
  {
   "cell_type": "markdown",
   "id": "94b22208",
   "metadata": {},
   "source": [
    "##### Provider Component\n",
    "Provider component data ko provide karta hai jo context ke andar accessible hoga. Ye top-level component ke around wrap hota hai."
   ]
  },
  {
   "cell_type": "code",
   "execution_count": null,
   "id": "ab31c49f",
   "metadata": {
    "vscode": {
     "languageId": "javascript"
    }
   },
   "outputs": [],
   "source": [
    "function App() {\n",
    "  return (\n",
    "    <ThemeContext.Provider value=\"dark\">\n",
    "      <Toolbar />\n",
    "    </ThemeContext.Provider>\n",
    "  );\n",
    "}"
   ]
  },
  {
   "cell_type": "markdown",
   "id": "6c91474b",
   "metadata": {},
   "source": [
    "##### Consumer Component\n",
    "Consumer component context ke data ko access karta hai."
   ]
  },
  {
   "cell_type": "code",
   "execution_count": null,
   "id": "df0624cd",
   "metadata": {
    "vscode": {
     "languageId": "javascript"
    }
   },
   "outputs": [],
   "source": [
    "function Toolbar() {\n",
    "  return (\n",
    "    <ThemeContext.Consumer>\n",
    "      {(value) => <div>Current Theme: {value}</div>}\n",
    "    </ThemeContext.Consumer>\n",
    "  );\n",
    "}"
   ]
  },
  {
   "cell_type": "markdown",
   "id": "2255c30b",
   "metadata": {},
   "source": [
    "### Modern Way: useContext Hook"
   ]
  },
  {
   "cell_type": "code",
   "execution_count": null,
   "id": "910094c0",
   "metadata": {
    "vscode": {
     "languageId": "javascript"
    }
   },
   "outputs": [],
   "source": [
    "const ThemeContext = React.createContext();\n",
    "\n",
    "function App() {\n",
    "  return (\n",
    "    <ThemeContext.Provider value=\"dark\">\n",
    "      <Toolbar />\n",
    "    </ThemeContext.Provider>\n",
    "  );\n",
    "}\n",
    "\n",
    "function Toolbar() {\n",
    "  const theme = React.useContext(ThemeContext);\n",
    "  return <div>Current Theme: {theme}</div>;\n",
    "}\n"
   ]
  },
  {
   "cell_type": "markdown",
   "id": "ed69e573",
   "metadata": {},
   "source": [
    "Advantages of Context API\n",
    "* Avoid Prop Drilling: Data ko intermediate components ke beech pass karne ki zarurat nahi hoti.\n",
    "\n",
    "* Global State Management: User info, theme, language settings jaise global states handle karna easy hota hai.\n",
    "\n",
    "* Built-in Feature: External library ki zarurat nahi hoti (like Redux or MobX).\n",
    "\n",
    "Disadvantages of Context API\n",
    "* Re-rendering Issue: Agar context ka value change hota hai, toh saare consumer components re-render ho jate hain.\n",
    "\n",
    "* Complexity for Large Applications: For large-scale apps, Redux ya MobX jaise advanced state management tools zyada efficient hote hain.\n",
    "\n"
   ]
  },
  {
   "cell_type": "markdown",
   "id": "9881b933",
   "metadata": {},
   "source": [
    "# Practical Example"
   ]
  },
  {
   "cell_type": "code",
   "execution_count": null,
   "id": "147f573f",
   "metadata": {
    "vscode": {
     "languageId": "javascript"
    }
   },
   "outputs": [],
   "source": [
    "const ThemeContext = React.createContext();\n",
    "\n",
    "function App() {\n",
    "  const [theme, setTheme] = React.useState(\"light\");\n",
    "\n",
    "  const toggleTheme = () => {\n",
    "    setTheme((prevTheme) => (prevTheme === \"light\" ? \"dark\" : \"light\"));\n",
    "  };\n",
    "\n",
    "  return (\n",
    "    <ThemeContext.Provider value={theme}>\n",
    "      <button onClick={toggleTheme}>Toggle Theme</button>\n",
    "      <Toolbar />\n",
    "    </ThemeContext.Provider>\n",
    "  );\n",
    "}\n",
    "\n",
    "function Toolbar() {\n",
    "  const theme = React.useContext(ThemeContext);\n",
    "  return <div style={{ background: theme === \"light\" ? \"#fff\" : \"#333\", color: theme === \"light\" ? \"#000\" : \"#fff\" }}>Current Theme: {theme}</div>;\n",
    "}"
   ]
  },
  {
   "cell_type": "markdown",
   "id": "0cf3df87",
   "metadata": {},
   "source": [
    "# What are hooks in React?\n"
   ]
  },
  {
   "cell_type": "markdown",
   "id": "acfff4df",
   "metadata": {},
   "source": [
    "#### Hooks Ki Definition\n",
    "* Hooks ek tarika hai jisse functional components me state, lifecycle methods, aur other React features ka use kiya jata hai.\n",
    "\n",
    "* Hooks ka use karne ke liye React 16.8 ya usse higher version ki zarurat hoti hai.\n",
    "\n",
    "#### Why Use Hooks?\n",
    "Hooks se pehle, agar aapko state ya lifecycle methods ka use karna hota tha, toh aapko class components likhne padte the. Class components:\n",
    "\n",
    "1. Verbose aur complex hote hain.\n",
    "\n",
    "2. Reusability aur readability mein problem hoti thi.\n",
    "\n",
    "Hooks:\n",
    "\n",
    "* Functional components ko lightweight aur reusable banate hain.\n",
    "\n",
    "* Clean aur simple syntax provide karte hain.\n"
   ]
  },
  {
   "cell_type": "markdown",
   "id": "e740006f",
   "metadata": {},
   "source": [
    "Advantages of Hooks\n",
    "* Simplified Code: Hooks ke saath functional components ka code zyada readable aur concise hota hai.\n",
    "\n",
    "* No Class Components Needed: State aur lifecycle features ke liye classes ki zarurat nahi hoti.\n",
    "\n",
    "* Reusability: Custom hooks bana kar functionality ko share karna easy hota hai.\n",
    "\n",
    "* Better Testing: Hooks ke saath components test karna zyada straightforward hota hai.\n",
    "\n",
    "Summary\n",
    "* Hooks React ke functional components ko state aur lifecycle management ki capability dete hain.\n",
    "\n",
    "* Common hooks: useState, useEffect, useContext, useReducer.\n",
    "\n",
    "* Hooks ne React ke development ko modern aur simpler banaya hai, jo ki cleaner syntax aur better reusability provide karta hai."
   ]
  },
  {
   "cell_type": "markdown",
   "id": "ce480903",
   "metadata": {},
   "source": [
    "# Event Listener"
   ]
  },
  {
   "cell_type": "markdown",
   "id": "24c1dbd1",
   "metadata": {},
   "source": [
    "React mein Event Listener ek function hai jo user ke actions (jaise click, key press, mouse move, etc.) ko detect karta hai aur unke respond mein specific code execute karta hai. Ye React ke event handling system ka ek important part hai.\n",
    "\n",
    "React ka event system browser ke native DOM events ka wrapper hai, jise Synthetic Events kehte hain. Ye cross-browser compatibility aur performance optimize karta hai."
   ]
  },
  {
   "cell_type": "code",
   "execution_count": null,
   "id": "762fc78d",
   "metadata": {
    "vscode": {
     "languageId": "javascript"
    }
   },
   "outputs": [],
   "source": [
    "function ClickExample() {\n",
    "  function handleClick() {\n",
    "    alert(\"Button Clicked!\");\n",
    "  }\n",
    "\n",
    "  return <button onClick={handleClick}>Click Me</button>;\n",
    "}\n"
   ]
  },
  {
   "cell_type": "markdown",
   "id": "cca9abba",
   "metadata": {},
   "source": [
    "How Event Listener Works in React\n",
    "\n",
    "1. Event Binding:\n",
    "* React ke andar on<EventName> attribute ke zariye event listener attach kiya jata hai.\n",
    "\n",
    "2. Synthetic Event:\n",
    "* React ke events (e.g., onClick, onChange) synthetic events hote hain jo browser ke native events ko wrap karte hain.\n",
    "\n",
    "3. Function Execution:\n",
    "* Jab specified event (e.g., click) trigger hota hai, React ka synthetic event listener associated function ko call karta hai."
   ]
  },
  {
   "cell_type": "markdown",
   "id": "96220aa1",
   "metadata": {},
   "source": [
    "| **Event Listener** | **Description**                                         |\n",
    "| ------------------ | ------------------------------------------------------- |\n",
    "| `onClick`          | Element click hone par trigger hota hai.                |\n",
    "| `onChange`         | Input ke value change hone par trigger hota hai.        |\n",
    "| `onSubmit`         | Form submit hone par execute hota hai.                  |\n",
    "| `onMouseEnter`     | Mouse kisi element ke upar aane par trigger hota hai.   |\n",
    "| `onMouseLeave`     | Mouse kisi element se bahar jaane par trigger hota hai. |\n",
    "| `onKeyDown`        | Keyboard key press hone par execute hota hai.           |\n",
    "| `onFocus`          | Input field focus hone par trigger hota hai.            |\n",
    "| `onBlur`           | Input field blur hone par trigger hota hai.             |\n"
   ]
  },
  {
   "cell_type": "code",
   "execution_count": null,
   "id": "bf6daff2",
   "metadata": {
    "vscode": {
     "languageId": "javascript"
    }
   },
   "outputs": [],
   "source": [
    "// 1. Click Event\n",
    "\n",
    "function ClickEvent() {\n",
    "  function handleClick() {\n",
    "    alert(\"Button Clicked!\");\n",
    "  }\n",
    "\n",
    "  return <button onClick={handleClick}>Click Me</button>;\n",
    "}\n",
    "\n",
    "// 2. Input Change Event\n",
    "\n",
    "\n",
    "function InputChangeEvent() {\n",
    "  function handleChange(event) {\n",
    "    console.log(\"Input Value:\", event.target.value);\n",
    "  }\n",
    "\n",
    "  return <input type=\"text\" onChange={handleChange} />;\n",
    "}\n",
    "\n",
    "// 3. Form Submit Event\n",
    "\n",
    "\n",
    "function SubmitEvent() {\n",
    "  function handleSubmit(event) {\n",
    "    event.preventDefault(); // Default behavior ko stop karta hai.\n",
    "    alert(\"Form Submitted!\");\n",
    "  }\n",
    "\n",
    "  return (\n",
    "    <form onSubmit={handleSubmit}>\n",
    "      <button type=\"submit\">Submit</button>\n",
    "    </form>\n",
    "  );\n",
    "}\n",
    "// 4. Mouse Events\n",
    "\n",
    "\n",
    "function MouseEvent() {\n",
    "  function handleMouseEnter() {\n",
    "    console.log(\"Mouse Entered!\");\n",
    "  }\n",
    "\n",
    "  function handleMouseLeave() {\n",
    "    console.log(\"Mouse Left!\");\n",
    "  }\n",
    "\n",
    "  return (\n",
    "    <div onMouseEnter={handleMouseEnter} onMouseLeave={handleMouseLeave}>\n",
    "      Hover Over Me!\n",
    "    </div>\n",
    "  );\n",
    "}"
   ]
  },
  {
   "cell_type": "markdown",
   "id": "65d02e9f",
   "metadata": {},
   "source": [
    "# What is React Fiber?\n"
   ]
  },
  {
   "cell_type": "markdown",
   "id": "88439fd1",
   "metadata": {},
   "source": [
    "React Fiber ek React ka underlying reconciliation algorithm hai, jo React applications ke UI rendering aur updates ko manage karne ke liye use hota hai. Fiber ko React 16 se introduce kiya gaya tha, aur iska goal tha React ko fast, smooth, aur modern applications ke liye efficient banana.\n",
    "\n",
    "#### React Fiber Kya Hai?\n",
    "* React Fiber ek reconciliation engine hai jo UI rendering aur updates ke process ko optimize karta hai.\n",
    "\n",
    "* Iska primary focus hai large and complex UIs ke liye better performance ensure karna, especially animations, transitions, or interactions ke liye.\n",
    "\n",
    "* Ye ek incremental rendering system hai jo rendering tasks ko chhoti-chhoti units (fibers) mein tod deta hai, jisse app responsive lagti hai.\n",
    "\n",
    "#### Why React Fiber?\n",
    "Traditional React reconciliation algorithm synchronous tha, matlab jab React koi update karta tha, toh wo saare tasks complete hone tak JavaScript thread ko block kar deta tha. Ye large UIs ke liye performance issues create karta tha.\n",
    "\n",
    "React Fiber:\n",
    "\n",
    "* Rendering ko asynchronous banata hai (interruptible rendering).\n",
    "\n",
    "* User interactions ke liye responsiveness improve karta hai.\n",
    "\n",
    "* Animations aur transitions smooth banata hai.\n",
    "\n",
    "#### Key Features of React Fiber\n",
    "\n",
    "1. Incremental Rendering\n",
    "* Fiber algorithm rendering tasks ko chhoti-chhoti parts mein todta hai, aur unhe ek priority ke basis par execute karta hai.\n",
    "\n",
    "* High-priority tasks: User interactions, animations, etc.\n",
    "\n",
    "* Low-priority tasks: Background data fetching, non-visible updates, etc.\n",
    "\n",
    "* Ye approach cooperative scheduling kehlaata hai, jisme React important tasks pehle complete karta hai aur baaki kam-priority tasks baad mein.\n",
    "\n",
    "2. Interruptible Rendering\n",
    "* Fiber rendering process ko interrupt hone ki permission deta hai, jisse React higher-priority tasks ko handle kar sakta hai.\n",
    "\n",
    "For example:\n",
    "\n",
    "* Agar ek user scroll kar raha hai aur simultaneously state update ho raha hai, toh React pehle scrolling ko prioritize karega aur state update baad mein karega.\n",
    "\n",
    "3. Better Reconciliation\n",
    "* Fiber reconciliation kaafi granular aur efficient hai:\n",
    "\n",
    "* Ye diffing process mein sirf updated parts ko re-render karta hai, na ki poore tree ko.\n",
    "\n",
    "* Isse performance improve hoti hai.\n",
    "\n",
    "4. Backward Compatibility\n",
    "* Fiber React ke purane versions ke saath backward compatible hai, jisme developers ko apne existing codebase mein koi changes karne ki zarurat nahi hoti."
   ]
  },
  {
   "cell_type": "markdown",
   "id": "21b0ba1b",
   "metadata": {},
   "source": [
    "#### Advantages of React Fiber\n",
    "1. Smooth Animations and Transitions\n",
    "* Fiber UI updates ke liye incremental rendering approach use karta hai, jo animations aur transitions ko smooth banata hai.\n",
    "\n",
    "2. Improved Performance\n",
    "* Interruptible rendering ke wajah se high-priority tasks delay nahi hote.\n",
    "\n",
    "3. Better User Experience\n",
    "* User interactions responsive lagte hain, kyunki React sabse pehle user ke actions handle karta hai.\n",
    "\n",
    "4. Scalability\n",
    "* Large UIs ke liye React Fiber zyada efficient hai."
   ]
  },
  {
   "cell_type": "markdown",
   "id": "18197796",
   "metadata": {},
   "source": [
    "# What are custom hooks and why are they useful?\n"
   ]
  },
  {
   "cell_type": "markdown",
   "id": "56dab88e",
   "metadata": {},
   "source": [
    "Custom Hooks React ke functional components me reusable logic likhne ka ek tarika hai. Agar aapke multiple components mein same logic repeat ho raha hai (e.g., state management, API calls, subscriptions), toh aap is logic ko ek custom hook ke roop me extract kar ke reuse kar sakte hain.\n",
    "\n",
    "#### Custom Hooks Kya Hain?\n",
    "1. Custom Hook ek JavaScript function hai jo use se start hota hai (e.g., useFetch, useCounter).\n",
    "\n",
    "2. Ye React ke built-in hooks ka use karke ek encapsulated logic provide karta hai.\n",
    "\n",
    "3. Ye stateful logic ko functional components ke beech share karna easy banata hai.\n",
    "\n",
    "#### Custom Hooks Ka Structure\n",
    "Custom hook kaafi similar hota hai functional component se:\n",
    "\n",
    "* Ye ek function hota hai jo hooks ka use karta hai.\n",
    "\n",
    "* Ye component ke andar state aur side-effects ko manage karta hai.\n",
    "\n",
    "* Isme logic reusable hota hai."
   ]
  },
  {
   "cell_type": "code",
   "execution_count": null,
   "id": "416faf1e",
   "metadata": {
    "vscode": {
     "languageId": "javascript"
    }
   },
   "outputs": [],
   "source": [
    "import { useState } from \"react\";\n",
    "\n",
    "function useCounter(initialValue = 0) {\n",
    "  const [count, setCount] = useState(initialValue);\n",
    "\n",
    "  const increment = () => setCount(count + 1);\n",
    "  const decrement = () => setCount(count - 1);\n",
    "\n",
    "  return { count, increment, decrement };\n",
    "}\n",
    "\n",
    "export default useCounter;\n"
   ]
  },
  {
   "cell_type": "code",
   "execution_count": null,
   "id": "4cc3f7d7",
   "metadata": {
    "vscode": {
     "languageId": "javascript"
    }
   },
   "outputs": [],
   "source": [
    "function CounterComponent() {\n",
    "  const { count, increment, decrement } = useCounter(10);\n",
    "\n",
    "  return (\n",
    "    <div>\n",
    "      <p>Count: {count}</p>\n",
    "      <button onClick={increment}>Increment</button>\n",
    "      <button onClick={decrement}>Decrement</button>\n",
    "    </div>\n",
    "  );\n",
    "}\n"
   ]
  },
  {
   "cell_type": "markdown",
   "id": "cba69ee5",
   "metadata": {},
   "source": [
    "##### Why Custom Hooks Are Useful\n",
    "1. Reusability\n",
    "* Custom hooks allow logic reuse across multiple components.\n",
    "\n",
    "* DRY (Don't Repeat Yourself) principle ko follow karte hain.\n",
    "\n",
    "2. Cleaner Code\n",
    "* Complex logic ko hooks me encapsulate karke component ka code simpler aur readable banata hai.\n",
    "\n",
    "3. Separation of Concerns\n",
    "* Business logic ko component ke UI logic se separate karne me help karta hai.\n",
    "\n",
    "4. Testability\n",
    "* Custom hooks ko isolate karke test karna easy hota hai.\n",
    "\n",
    "5. State and Side Effect Management\n",
    "* Aap state aur side effects ko ek saath manage kar sakte hain."
   ]
  },
  {
   "cell_type": "markdown",
   "id": "04bed52f",
   "metadata": {},
   "source": [
    "| **Aspect**           | **Custom Hook**                                           | **Normal Function**                              |\n",
    "| -------------------- | --------------------------------------------------------- | ------------------------------------------------ |\n",
    "| **Stateful Logic**   | Stateful logic handle karta hai                           | Stateless hota hai                               |\n",
    "| **React Dependency** | Built-in hooks ka use karta hai                           | Hooks ka use nahi karta                          |\n",
    "| **Reusability**      | Logic ko multiple components me reuse karta hai           | Stateless functions me sirf logic reuse hota hai |\n",
    "| **React Lifecycle**  | Lifecycle methods ka support deta hai (e.g., `useEffect`) | Lifecycle methods nahi hote                      |\n"
   ]
  },
  {
   "cell_type": "markdown",
   "id": "1d5d3d45",
   "metadata": {},
   "source": [
    "# Common Causes of Unnecessary Re-renders\n"
   ]
  },
  {
   "cell_type": "markdown",
   "id": "c92700bc",
   "metadata": {},
   "source": [
    "| **Cause**                              | **Solution**                                  |\n",
    "| -------------------------------------- | --------------------------------------------- |\n",
    "| Parent component re-renders            | Use `React.memo` or optimize parent logic.    |\n",
    "| Non-memoized functions passed as props | Use `useCallback` for functions.              |\n",
    "| State updates causing re-renders       | Avoid deep state mutations, use `useReducer`. |\n",
    "| Arrays/objects passed as props         | Use `useMemo` to memoize arrays/objects.      |\n",
    "| Incorrect dependency arrays            | Ensure proper `useEffect` dependencies.       |\n"
   ]
  },
  {
   "cell_type": "markdown",
   "id": "3ac14c0d",
   "metadata": {},
   "source": [
    "# What are keys in React and why are they important?\n"
   ]
  },
  {
   "cell_type": "markdown",
   "id": "f4735af1",
   "metadata": {},
   "source": [
    "Keys React me ek unique identifier hote hain jo React ko batate hain ki ek list me kaunsa item change, add, ya remove hua hai. Ye mainly dynamic lists ke liye use hote hain aur React ke reconciliation process me important role play karte hain.\n",
    "\n",
    "Keys Kya Hain?\n",
    "* Keys ek unique identifier hote hain jo map(), lists, ya dynamic elements ke saath use hote hain.\n",
    "\n",
    "* Ye React ko efficiently DOM updates karne me madad karte hain by uniquely identifying elements."
   ]
  },
  {
   "cell_type": "code",
   "execution_count": null,
   "id": "a252a878",
   "metadata": {
    "vscode": {
     "languageId": "javascript"
    }
   },
   "outputs": [],
   "source": [
    "const items = [\"Apple\", \"Banana\", \"Cherry\"];\n",
    "\n",
    "function ItemList() {\n",
    "  return (\n",
    "    <ul>\n",
    "      {items.map((item, index) => (\n",
    "        <li key={index}>{item}</li>\n",
    "      ))}\n",
    "    </ul>\n",
    "  );\n",
    "}\n"
   ]
  },
  {
   "cell_type": "markdown",
   "id": "9cc07e1a",
   "metadata": {},
   "source": [
    "Keys Kyun Zaroori Hain?\n",
    "\n",
    "Efficient Updates:\n",
    "* React keys ki help se identify karta hai ki kaunsa list item modify, add, ya delete hua hai.\n",
    "\n",
    "Performance Optimization:\n",
    "* Agar unique keys na ho, toh React puri list ko re-render kar dega, jo performance degrade kar sakta hai.\n",
    "\n",
    "Avoid UI Bugs:\n",
    "* Galat ya missing keys unpredictable behavior ya rendering issues cause kar sakti hain.\n",
    "\n"
   ]
  },
  {
   "cell_type": "markdown",
   "id": "7ab0eab4",
   "metadata": {},
   "source": [
    "React Keys Ka Importance Reconciliation Mein\n",
    "\n",
    "React ke Virtual DOM me jab koi update hota hai, toh React changes ko efficiently apply karta hai:\n",
    "\n",
    "Keys ke bina:\n",
    "* React puri list ko destroy aur dubara render karta hai.\n",
    "\n",
    "Keys ke sath:\n",
    "* React sirf usi list item ko update karta hai jo badla hai."
   ]
  },
  {
   "cell_type": "markdown",
   "id": "205a6be4",
   "metadata": {},
   "source": [
    "# How do you optimize performance in a React app?\n"
   ]
  },
  {
   "cell_type": "markdown",
   "id": "4bc40b8d",
   "metadata": {},
   "source": [
    "Use React.memo\n",
    "\n",
    "* Prevents unnecessary re-renders of functional components when props haven't changed.\n",
    "\n",
    "Use useCallback\n",
    "\n",
    "* Memoizes functions to avoid creating new references on each render.\n",
    "\n",
    "Use useMemo\n",
    "\n",
    "* Memoizes expensive computations to avoid recalculating on every render.\n",
    "\n",
    "Code Splitting\n",
    "\n",
    "* Dynamically load components with React.lazy and React.Suspense to reduce initial bundle size.\n",
    "\n",
    "Virtualize Long Lists\n",
    "\n",
    "* Use libraries like react-window or react-virtualized to render only visible list items.\n",
    "\n",
    "Optimize Images\n",
    "\n",
    "* Use compressed images, lazy loading, and modern formats like WebP.\n",
    "\n",
    "Avoid Inline Functions in JSX\n",
    "\n",
    "* Define event handlers outside JSX to prevent new function creation on every render.\n",
    "\n",
    "Optimize State Management\n",
    "\n",
    "* Minimize state updates and avoid deeply nested state.\n",
    "\n",
    "Avoid Unnecessary Re-renders\n",
    "\n",
    "* Use React.memo for child components and optimize parent state.\n",
    "\n",
    "Use Production Build\n",
    "\n",
    "* Deploy apps using npm run build for optimized performance.\n",
    "\n",
    "Remove Console Logs\n",
    "\n",
    "* Clean up debugging statements before deploying.\n",
    "\n",
    "Use Static Content Memoization\n",
    "\n",
    "* Memoize static values or use constants for unchanging data.\n",
    "\n",
    "Batch State Updates\n",
    "\n",
    "* React automatically batches state updates, but ensure you don't split them unnecessarily.\n",
    "\n",
    "Virtual DOM Keys\n",
    "\n",
    "* Always use unique keys for lists to optimize reconciliation.\n",
    "\n",
    "Optimize CSS and Styles\n",
    "\n",
    "* Avoid inline styles; prefer CSS-in-JS libraries or precompiled CSS."
   ]
  },
  {
   "cell_type": "markdown",
   "id": "141a97b4",
   "metadata": {},
   "source": [
    "# What is the difference between <Link> and <a> in React Router?\n"
   ]
  },
  {
   "cell_type": "markdown",
   "id": "8343910d",
   "metadata": {},
   "source": [
    "| **Aspect**          | **`<Link>`**                                                                                       | **`<a>`**                                                                             |\n",
    "| ------------------- | -------------------------------------------------------------------------------------------------- | ------------------------------------------------------------------------------------- |\n",
    "| **Purpose**         | Used for navigation within a React Router app without refreshing the page.                         | Used for navigation to any URL, including external links, causing a full page reload. |\n",
    "| **Behavior**        | Prevents the default page reload by leveraging React Router's client-side routing.                 | Triggers a full-page reload by default.                                               |\n",
    "| **Performance**     | More efficient as it doesn’t reload the page and only updates the necessary part of the UI.        | Less efficient due to complete page reload, losing the current state of the app.      |\n",
    "| **Routing Context** | Works with the React Router's routing context to navigate between routes.                          | Doesn't interact with React Router; relies on the browser's default behavior.         |\n",
    "| **Usage Scenario**  | For internal navigation within the app's defined routes.                                           | For external links or scenarios where a full page reload is required.                 |\n",
    "| **Props Support**   | Accepts React Router-specific props like `to`, `replace`, and `state`.                             | Supports standard HTML anchor attributes like `href`, `target`, and `rel`.            |\n",
    "| **State Passing**   | Allows passing state through `to` prop (e.g., `{ pathname: \"/about\", state: { data: \"value\" } }`). | Cannot pass state directly; only uses query parameters or URL fragments.              |\n"
   ]
  },
  {
   "cell_type": "code",
   "execution_count": null,
   "id": "57d54133",
   "metadata": {
    "vscode": {
     "languageId": "javascript"
    }
   },
   "outputs": [],
   "source": [
    "import { Link } from \"react-router-dom\";\n",
    "\n",
    "function Navigation() {\n",
    "  return (\n",
    "    <nav>\n",
    "      <Link to=\"/home\">Home</Link>\n",
    "      <Link to=\"/about\">About</Link>\n",
    "    </nav>\n",
    "  );\n",
    "}\n"
   ]
  },
  {
   "cell_type": "markdown",
   "id": "9d4f7696",
   "metadata": {},
   "source": [
    "No page reload.\n",
    "\n",
    "Optimized for React Router's client-side navigation."
   ]
  },
  {
   "cell_type": "markdown",
   "id": "b073eecc",
   "metadata": {},
   "source": [
    "function ExternalLink() {\n",
    "  return (\n",
    "    <a href=\"https://www.example.com\" target=\"_blank\" rel=\"noopener noreferrer\">\n",
    "      Visit Example\n",
    "    </a>\n",
    "  );\n",
    "}\n"
   ]
  },
  {
   "cell_type": "markdown",
   "id": "cde4968f",
   "metadata": {},
   "source": [
    "Page reloads when clicked.\n",
    "\n",
    "Suitable for linking to external websites."
   ]
  },
  {
   "cell_type": "markdown",
   "id": "e9d3c371",
   "metadata": {},
   "source": [
    "# How did you make API calls in your project?\n"
   ]
  },
  {
   "cell_type": "markdown",
   "id": "8128cb35",
   "metadata": {},
   "source": [
    "####  Using fetch()"
   ]
  },
  {
   "cell_type": "code",
   "execution_count": null,
   "id": "87783ceb",
   "metadata": {
    "vscode": {
     "languageId": "javascript"
    }
   },
   "outputs": [],
   "source": [
    "import React, { useState, useEffect } from \"react\";\n",
    "\n",
    "function FetchExample() {\n",
    "  const [data, setData] = useState(null);\n",
    "  const [loading, setLoading] = useState(true);\n",
    "\n",
    "  useEffect(() => {\n",
    "    fetch(\"https://jsonplaceholder.typicode.com/posts\")\n",
    "      .then((response) => response.json()) // Convert response to JSON\n",
    "      .then((data) => {\n",
    "        setData(data);\n",
    "        setLoading(false);\n",
    "      })\n",
    "      .catch((error) => console.error(\"Error fetching data:\", error));\n",
    "  }, []);\n",
    "\n",
    "  if (loading) return <p>Loading...</p>;\n",
    "\n",
    "  return (\n",
    "    <ul>\n",
    "      {data.map((post) => (\n",
    "        <li key={post.id}>{post.title}</li>\n",
    "      ))}\n",
    "    </ul>\n",
    "  );\n",
    "}\n",
    "\n",
    "export default FetchExample;\n"
   ]
  },
  {
   "cell_type": "markdown",
   "id": "f70e9fe5",
   "metadata": {},
   "source": [
    "####  Using Axios "
   ]
  },
  {
   "cell_type": "code",
   "execution_count": null,
   "id": "bf455710",
   "metadata": {
    "vscode": {
     "languageId": "javascript"
    }
   },
   "outputs": [],
   "source": [
    "import React, { useState, useEffect } from \"react\";\n",
    "import axios from \"axios\";\n",
    "\n",
    "function AxiosExample() {\n",
    "  const [data, setData] = useState([]);\n",
    "  const [loading, setLoading] = useState(true);\n",
    "\n",
    "  useEffect(() => {\n",
    "    axios\n",
    "      .get(\"https://jsonplaceholder.typicode.com/posts\")\n",
    "      .then((response) => {\n",
    "        setData(response.data); // Axios automatically parses JSON\n",
    "        setLoading(false);\n",
    "      })\n",
    "      .catch((error) => console.error(\"Error fetching data:\", error));\n",
    "  }, []);\n",
    "\n",
    "  if (loading) return <p>Loading...</p>;\n",
    "\n",
    "  return (\n",
    "    <ul>\n",
    "      {data.map((post) => (\n",
    "        <li key={post.id}>{post.title}</li>\n",
    "      ))}\n",
    "    </ul>\n",
    "  );\n",
    "}\n",
    "\n",
    "export default AxiosExample;\n"
   ]
  },
  {
   "cell_type": "markdown",
   "id": "06cbea7e",
   "metadata": {},
   "source": [
    "#### Using Async/Await for Cleaner Syntax"
   ]
  },
  {
   "cell_type": "code",
   "execution_count": null,
   "id": "773cb58c",
   "metadata": {
    "vscode": {
     "languageId": "javascript"
    }
   },
   "outputs": [],
   "source": [
    "import React, { useState, useEffect } from \"react\";\n",
    "\n",
    "function AsyncAwaitExample() {\n",
    "  const [data, setData] = useState(null);\n",
    "  const [loading, setLoading] = useState(true);\n",
    "\n",
    "  useEffect(() => {\n",
    "    const fetchData = async () => {\n",
    "      try {\n",
    "        const response = await fetch(\"https://jsonplaceholder.typicode.com/posts\");\n",
    "        const result = await response.json();\n",
    "        setData(result);\n",
    "      } catch (error) {\n",
    "        console.error(\"Error fetching data:\", error);\n",
    "      } finally {\n",
    "        setLoading(false);\n",
    "      }\n",
    "    };\n",
    "\n",
    "    fetchData();\n",
    "  }, []);\n",
    "\n",
    "  if (loading) return <p>Loading...</p>;\n",
    "\n",
    "  return (\n",
    "    <ul>\n",
    "      {data.map((post) => (\n",
    "        <li key={post.id}>{post.title}</li>\n",
    "      ))}\n",
    "    </ul>\n",
    "  );\n",
    "}\n",
    "\n",
    "export default AsyncAwaitExample;\n"
   ]
  },
  {
   "cell_type": "markdown",
   "id": "3625f649",
   "metadata": {},
   "source": [
    "# What is the React.memo()?"
   ]
  },
  {
   "cell_type": "markdown",
   "id": "8661222e",
   "metadata": {},
   "source": [
    "React.memo() ek higher-order component (HOC) hai jo functional components ko optimize karne ke liye use hota hai. Yeh component ko wrap karke unnecessary re-rendering ko prevent karta hai agar uske props same hain. Matlab, agar props mein koi change nahi hai, toh component dubara render nahi hoga.\n",
    "\n",
    "Definition:\n",
    "\n",
    "React.memo() ek performance optimization tool hai jo React functional components ke liye hai. Agar parent component re-render hota hai, toh child component sirf tabhi re-render hoga jab uske props badlenge."
   ]
  },
  {
   "cell_type": "code",
   "execution_count": null,
   "id": "f0efbd0a",
   "metadata": {
    "vscode": {
     "languageId": "javascript"
    }
   },
   "outputs": [],
   "source": [
    "const MemoizedComponent = React.memo(OriginalComponent);"
   ]
  },
  {
   "cell_type": "markdown",
   "id": "eba69e64",
   "metadata": {},
   "source": [
    "#### Kaise Kaam Karta Hai?\n",
    "Props Compare Karta Hai: React.memo() automatically shallow comparison karta hai props ka.\n",
    "\n",
    "Same Props Ke Liye Render Skip Karega: Agar props same hain, toh component dubara render nahi karega.\n",
    "\n",
    "Different Props Ke Liye Render Karega: Agar props badalte hain, toh normal re-render hoga.\n",
    "\n"
   ]
  },
  {
   "cell_type": "code",
   "execution_count": null,
   "id": "291ea33a",
   "metadata": {
    "vscode": {
     "languageId": "javascript"
    }
   },
   "outputs": [],
   "source": [
    "function ChildComponent({ name }) {\n",
    "  console.log(\"Child rendered\");\n",
    "  return <div>Hello, {name}!</div>;\n",
    "}\n",
    "\n",
    "function ParentComponent() {\n",
    "  const [count, setCount] = React.useState(0);\n",
    "\n",
    "  return (\n",
    "    <div>\n",
    "      <button onClick={() => setCount(count + 1)}>Increment</button>\n",
    "      <ChildComponent name=\"John\" />\n",
    "    </div>\n",
    "  );\n",
    "}\n"
   ]
  },
  {
   "cell_type": "markdown",
   "id": "e232cdb6",
   "metadata": {},
   "source": [
    "##### Kab Use Karein?\n",
    "Jab functional components heavy calculations karte ho aur baar-baar render karne ki zarurat na ho.\n",
    "\n",
    "Jab props rarely change hote hain.\n",
    "\n",
    "Jab performance optimization required ho."
   ]
  },
  {
   "cell_type": "markdown",
   "id": "41c2588f",
   "metadata": {},
   "source": [
    "#  ▪️ Pure Components\n"
   ]
  },
  {
   "cell_type": "markdown",
   "id": "7dafd245",
   "metadata": {},
   "source": [
    "Pure Component React ka ek special type ka class-based component hai jo sirf tabhi re-render hota hai jab uska state ya props change hota hai. Yeh performance optimize karne ke liye shallow comparison ka use karta hai, jisme previous aur current props/state ko compare kiya jata hai. Agar koi change nahi hota, toh re-render avoid hota hai.\n",
    "\n",
    "#### Key Features of Pure Component:\n",
    "1. Shallow Comparison:\n",
    "\n",
    "* Yeh props aur state ka shallow comparison karta hai:\n",
    "\n",
    "* Agar primitive values (numbers, strings) same hain, toh re-render nahi karega.\n",
    "\n",
    "* Agar objects/arrays ka reference same hai, toh yeh unko bhi change nahi maanega.\n",
    "\n",
    "2. Class-Based Component:\n",
    "* Pure Component sirf class components mein kaam karta hai.\n",
    "\n",
    "* Functional components mein iske liye React.memo() ka use hota hai.\n",
    "\n",
    "3. Performance Optimization:\n",
    "\n",
    "* Yeh unnecessary renders ko rokh kar app ko fast banata hai."
   ]
  },
  {
   "cell_type": "code",
   "execution_count": null,
   "id": "c96c85ab",
   "metadata": {
    "vscode": {
     "languageId": "javascript"
    }
   },
   "outputs": [],
   "source": [
    "import React, { PureComponent } from \"react\";\n",
    "\n",
    "class MyComponent extends PureComponent {\n",
    "  render() {\n",
    "    console.log(\"Rendered\");\n",
    "    return <div>Hello, {this.props.name}!</div>;\n",
    "  }\n",
    "}\n",
    "\n",
    "export default MyComponent;"
   ]
  },
  {
   "cell_type": "markdown",
   "id": "602afe55",
   "metadata": {},
   "source": [
    "| **Feature**      | **Pure Component**               | **Regular Component**             |\n",
    "| ---------------- | -------------------------------- | --------------------------------- |\n",
    "| **Re-rendering** | Sirf props/state change hone par | Har baar re-render hota hai       |\n",
    "| **Comparison**   | Shallow comparison karta hai     | No comparison logic               |\n",
    "| **Performance**  | Zyada optimized hai              | Unnecessary renders ho sakte hain |\n"
   ]
  },
  {
   "cell_type": "markdown",
   "id": "c52b327c",
   "metadata": {},
   "source": [
    "# How do you optimize performance in a React app?"
   ]
  },
  {
   "cell_type": "markdown",
   "id": "69e9997b",
   "metadata": {},
   "source": [
    "1. Component Re-Rendering Ko Control Karein\n",
    "\n",
    "React.memo() ka use karein functional components ke unnecessary re-render ko rokne ke liye.\n",
    "\n",
    "Class components ke liye PureComponent ka use karein.\n",
    "\n",
    "2. State Management Ko Optimize Karein\n",
    "\n",
    "State share karne ke liye lifting state up ka use karein.\n",
    "\n",
    "Context API ka overuse avoid karein, kyunki yeh multiple components ko re-render kara sakta hai.\n",
    "\n",
    "3. Code-Splitting with Lazy Loading\n",
    "\n",
    "Components ko dynamically load karne ke liye React.lazy() aur Suspense ka use karein.\n",
    "\n",
    "4. Virtualization for Long Lists\n",
    "\n",
    "Large lists ke liye React Virtualized ya React Window libraries ka use karein, jo sirf visible items render karti hain.\n",
    "\n",
    "5. Inline Functions Ko Avoid Karein\n",
    "\n",
    "useCallback ka use karke event handlers ko memoize karein, taki unnecessary re-renders na ho.\n",
    "\n",
    "6. Expensive Computations Optimize Karein\n",
    "\n",
    "useMemo ka use karein expensive calculations ke result ko memoize karne ke liye.\n",
    "\n",
    "useCallback ka use karein functions ke reference ko memoize karne ke liye.\n",
    "\n",
    "7. Images Optimize Karein\n",
    "\n",
    "Lazy loading aur compressed formats jaise WebP ka use karein.\n",
    "\n",
    "8. Code Ko Minify aur Bundle Karein\n",
    "\n",
    "Webpack ya Vite ka use karke JavaScript aur CSS ko minify karein aur bundle karein.\n",
    "\n",
    "9. Production Build Use Karein\n",
    "\n",
    "Deployment ke liye production build (npm run build) ka use karein, jo zyada optimized hoti hai.\n",
    "\n",
    "10. Server-Side Rendering (SSR)\n",
    "\n",
    "Frameworks jaise Next.js ka use karke content ko server-side render karein, jo faster loading provide karta hai.\n",
    "\n",
    "11. User Input Debounce/Throttle Karein\n",
    "\n",
    "Heavy operations jaise search ke liye debounce ya throttle ka use karein, taki performance better ho.\n",
    "\n",
    "12. Avoid Large Bundle Sizes\n",
    "\n",
    "Use tree-shaking to remove unused code during the bundling process.\n",
    "\n",
    "Import only the required parts of libraries (e.g., lodash-es instead of lodash).\n",
    "\n",
    "13. Use React DevTools Profiler\n",
    "\n",
    "React DevTools ka Profiler use karke identify karein ki kaunse components frequently re-render ho rahe hain aur optimization ki zarurat hai.\n",
    "\n",
    "14. Implement Error Boundaries\n",
    "\n",
    "Error Boundaries ka use karke app ko crash hone se bacha sakte hain aur performance ko impact hone se rok sakte hain.\n",
    "\n",
    "15. Optimize Event Listeners\n",
    "\n",
    "Event listeners ko throttle/debounce karein aur unmount hone par cleanup zaroor karein.\n",
    "\n",
    "16. Optimize CSS\n",
    "\n",
    "Use CSS-in-JS libraries like Emotion or Styled Components for dynamic styling.\n",
    "\n",
    "Avoid unused CSS aur Critical CSS implement karein.\n",
    "\n",
    "17. Keep Components Small and Reusable\n",
    "\n",
    "Large components ko chhote functional components mein divide karein.\n",
    "\n",
    "Reusability badhane ke liye shared components ka use karein.\n",
    "\n",
    "18. Optimize Third-Party Libraries\n",
    "\n",
    "Avoid unnecessary libraries.\n",
    "\n",
    "Check for lightweight alternatives or only import what’s needed.\n",
    "\n",
    "19. Use Web Workers for Heavy Computations\n",
    "\n",
    "Heavy computations ko main thread se hatane ke liye Web Workers ka use karein.\n",
    "\n",
    "20. Optimize API Calls\n",
    "\n",
    "API responses ko cache karein aur pagination implement karein.\n",
    "\n",
    "Use libraries like React Query or SWR for efficient data fetching.\n",
    "\n",
    "21. Use Static Assets Efficiently\n",
    "\n",
    "Static assets ko CDN (Content Delivery Network) par host karein.\n",
    "\n",
    "Proper caching strategies implement karein.\n",
    "\n",
    "22. Prevent Memory Leaks\n",
    "\n",
    "useEffect cleanup functions ka use karein to prevent memory leaks."
   ]
  },
  {
   "cell_type": "markdown",
   "id": "b0509078",
   "metadata": {},
   "source": [
    "# What is Webpack in React?"
   ]
  },
  {
   "cell_type": "markdown",
   "id": "37854902",
   "metadata": {},
   "source": [
    "Webpack ek popular module bundler hai jo React applications ko efficiently manage aur optimize karne ke liye use hota hai. Yeh different files (JavaScript, CSS, images, etc.) ko ek single bundled file ya multiple optimized files mein combine karta hai, jo browser ke liye load karna easy hota hai.\n",
    "\n",
    "Webpack Ka Role in React:\n",
    "\n",
    "1. Code Bundling:\n",
    "\n",
    "Webpack React ke alag-alag modules ko ek single file mein bundle karta hai.\n",
    "\n",
    "Yeh React apps ko efficiently deploy karne mein madad karta hai.\n",
    "\n",
    "2. Module Handling:\n",
    "\n",
    "JavaScript ke alawa CSS, images, fonts, aur other assets ko bhi manage karta hai.\n",
    "\n",
    "3. Hot Module Replacement (HMR):\n",
    "\n",
    "Development ke time changes ko real-time mein browser par reflect karta hai bina poore app ko reload kiye.\n",
    "\n",
    "4. Tree Shaking:\n",
    "\n",
    "Unused code ko automatically remove karta hai, jo final bundle size reduce karta hai.\n",
    "\n",
    "5. Plugins Aur Loaders:\n",
    "\n",
    "Webpack ko customize karne ke liye plugins aur loaders ka use hota hai, jisme CSS, images, aur transpiling ke liye specific tools integrate hote hain."
   ]
  }
 ],
 "metadata": {
  "kernelspec": {
   "display_name": "Python 3",
   "language": "python",
   "name": "python3"
  },
  "language_info": {
   "codemirror_mode": {
    "name": "ipython",
    "version": 3
   },
   "file_extension": ".py",
   "mimetype": "text/x-python",
   "name": "python",
   "nbconvert_exporter": "python",
   "pygments_lexer": "ipython3",
   "version": "3.12.6"
  }
 },
 "nbformat": 4,
 "nbformat_minor": 5
}
