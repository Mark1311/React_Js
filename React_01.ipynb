{
 "cells": [
  {
   "cell_type": "markdown",
   "id": "570e9d57-390b-4dc0-8ea8-eea223467b40",
   "metadata": {},
   "source": [
    "# React Js"
   ]
  },
  {
   "cell_type": "markdown",
   "id": "de24beb6-02e0-4089-b0ff-00dc38a88501",
   "metadata": {},
   "source": [
    "### What is React?"
   ]
  },
  {
   "cell_type": "markdown",
   "id": "9dd199fc-c54d-4d85-a131-825c6f9cf5a9",
   "metadata": {},
   "source": [
    "React JS ek JavaScript library hai jo user interfaces (UI) banane ke liye use hoti hai. Yeh Facebook ne develop ki thi aur ab open-source hai. React ka main goal hai ki web applications ko efficient aur interactive banaya ja sake, especially jab applications me complex UI hota hai.\n",
    "\n",
    "React ka kaam hota hai components ko banane mein. Ek component ek chhota part hota hai jo kisi UI ka hissa hota hai, jaise ek button, form, ya ek entire page. React ke components ko ek baar define karne ke baad aap unhe reuse kar sakte hain, jisse development kaafi fast aur efficient ho jata hai.\n",
    "\n",
    "React ka ek aur important feature hai Virtual DOM. Virtual DOM ek in-memory representation hoti hai actual DOM ki. Jab bhi application mein koi change hota hai, React Virtual DOM ko update karta hai, phir actual DOM ko efficiently update karta hai. Is se performance improve hoti hai, kyunki React sirf unhi parts ko update karta hai jo change hue hote hain, pure page ko nahi.\n",
    "\n",
    "React mein sab kuch components hote hain. Components ko aap soch sakte hain jaise ek chhota building block jo ek UI element ko represent karta hai. Har component apne aap mein independent hota hai aur apne state aur logic ko handle karta hai. Components do tarah ke hote hain:\n",
    "\n",
    "##### Functional Components:\n",
    "\n",
    "Yeh simple JavaScript functions hote hain jo props (data) ko accept karte hain aur ek UI render karte hain.\n",
    "\n",
    "##### Class Components: \n",
    "\n",
    "Yeh React ke purane version mein use hote the. Inmein state aur lifecycle methods hote hain, jo functional components mein pehle available nahi the.\n",
    "\n",
    "Ab React mein mostly functional components use kiye ja rahe hain, kyunki React ne Hooks introduce kiye hain jo functional components ko state aur side-effects handle karne mein madad karte hain."
   ]
  },
  {
   "cell_type": "markdown",
   "id": "391a8d8c-36f4-4c0d-b83c-366cb61940c5",
   "metadata": {},
   "source": [
    "# React JS ke Advantages:-"
   ]
  },
  {
   "cell_type": "markdown",
   "id": "df72ef2d-2a99-4ac9-b903-d20521ec1725",
   "metadata": {},
   "source": [
    "#### Performance Optimization: \n",
    "\n",
    "Virtual DOM aur efficient rendering ki wajah se React applications high performance provide karte hain. Yeh browser ke real DOM se efficiently deal karta hai.\n",
    "\n",
    "#### Reusable Components: \n",
    "\n",
    "Aap ek baar component bana kar use multiple places par use kar sakte hain. Yeh code reuse ko promote karta hai aur development ko speed up karta hai.\n",
    "\n",
    "#### Large Community & Ecosystem: \n",
    "    \n",
    "React ka ek bohot bada aur active community hai. Aapko React-related libraries, tools, aur resources easily mil jaate hain. Yeh aapko apne projects mein quickly implement karne mein madad karta hai.\n",
    "\n",
    "#### Easy to Learn & Use: \n",
    "    \n",
    "React ko seekhna relatively easy hai, especially agar aapko JavaScript ki basic understanding ho. JSX ki syntax intuitive hoti hai aur React ka ecosystem kaafi developer-friendly hai.\n",
    "\n",
    "#### SEO Friendly: \n",
    "    \n",
    "React ke server-side rendering (SSR) features ke saath, React applications SEO-friendly ban sakte hain. Yeh search engines ko aapke page ko better index karne mein madad karta hai.\n",
    "\n",
    "#### Strong Tooling Support: \n",
    "    \n",
    "React ke paas excellent tooling support hai, jaise React Developer Tools, create-react-app (for project setup), and various build tools like Webpack. Yeh aapke development process ko smooth aur efficient bana dete hain.\n",
    "\n",
    "#### Wide Adoption in Industry: \n",
    "    \n",
    "React ka use bohot saari large companies, jaise Facebook, Instagram, Airbnb, Netflix, and Uber ne kiya hai. Yeh demonstrate karta hai ki React ek reliable aur scalable solution hai for building modern web applications.\n",
    "\n",
    "#### Declarative Syntax: \n",
    "\n",
    "React mein declarative approach ka use hota hai, jisme aap simply yeh batate hain ki UI kaise dikhna chahiye, aur React usko efficiently render kar deta hai. Yeh imperative programming ke comparison mein zyada user-friendly hota hai.\n",
    "\n",
    "#### Fast Rendering: \n",
    "\n",
    "React ka diffing algorithm, jo Virtual DOM ka use karta hai, bahut fast hai. Iska matlab hai ki UI ko jaldi se render kiya jaata hai, jo end-user ke experience ko improve karta hai."
   ]
  },
  {
   "cell_type": "markdown",
   "id": "a6d318ba-a875-4455-ab0a-a0bb1ad40f70",
   "metadata": {},
   "source": [
    "# React JS ke Features"
   ]
  },
  {
   "cell_type": "markdown",
   "id": "233264db-f0c8-4df0-a69f-43fb85b83a74",
   "metadata": {},
   "source": [
    "#### Component-Based Architecture: \n",
    "\n",
    "React ka architecture component-based hai, matlab aap UI ko chhote, reusable components mein divide kar sakte hain. Har component apne aap mein independent hota hai aur apne state aur behavior ko manage karta hai.\n",
    "\n",
    "#### Virtual DOM: \n",
    "    \n",
    "React virtual DOM ka use karta hai, jo ki real DOM ka lightweight version hota hai. Jab bhi koi change hota hai, React pehle virtual DOM mein update karta hai aur phir real DOM ko efficiently update karta hai. Isse performance boost milta hai.\n",
    "\n",
    "#### Unidirectional Data Flow: \n",
    "    \n",
    "React mein data ka flow one-way hota hai, yaani data parent se child components tak jata hai. Isse debugging asaan ho jaata hai aur code ko maintain karna easy ho jata hai.\n",
    "\n",
    "#### JSX (JavaScript XML): \n",
    "    \n",
    "React mein JSX ka use hota hai jo HTML aur JavaScript ko combine karta hai. Yeh ek syntax extension hai jisme aap JavaScript code ko directly HTML-like syntax mein likhte hain. Yeh development ko simple aur more readable banata hai.\n",
    "\n",
    "#### Declarative UI: \n",
    "    \n",
    "React declarative approach follow karta hai, jisme aap apni UI ko ek description ki tarah define karte hain. Iska matlab hai ki aap simply state aur data ko define karte hain aur React apne aap UI ko update kar deta hai.\n",
    "\n",
    "#### React Hooks: \n",
    "\n",
    "React ne functional components mein hooks introduce kiye hain, jaise useState, useEffect, useContext, etc. Yeh state aur side effects ko manage karne ke liye use hota hai, aur functional components ko zyada powerful banata hai.\n",
    "\n",
    "#### React Router: \n",
    "    \n",
    "React Router ek package hai jo single-page applications (SPA) mein routing manage karne ke liye use hota hai. Yeh aapko dynamic routing aur URL handling ka facility deta hai.\n",
    "\n",
    "#### React Router:\n",
    "\n",
    "React Router ek library hai jo React applications me client-side routing ko enable karti hai. Yeh single-page applications me multiple views ko handle karta hai bina page ko reload kiye."
   ]
  },
  {
   "cell_type": "markdown",
   "id": "2b0cc316-6000-4fae-bec5-3de98a1e192d",
   "metadata": {},
   "source": [
    "### JSX in React:"
   ]
  },
  {
   "cell_type": "markdown",
   "id": "e2efa1dd-9912-46ad-8099-9532693c9713",
   "metadata": {},
   "source": [
    "JSX (JavaScript XML) React mein ek syntax extension hai jo JavaScript ko HTML jaise structure mein likhne ki suvidha deta hai. Yeh React mein components ko define karne ke liye use hota hai.\n",
    "\n",
    "JSX ka main purpose yeh hai ki hum JavaScript aur HTML ko ek hi file mein combine kar sakein, jisse code likhna aur samajhna dono asaan ho jata hai. JSX mein hum HTML tags jaise syntax ka istemal karte hain, lekin yeh JavaScript mein compile hota hai."
   ]
  },
  {
   "cell_type": "code",
   "execution_count": null,
   "id": "27b54345-5f08-40db-ab35-f46a60802130",
   "metadata": {
    "vscode": {
     "languageId": "javascript"
    }
   },
   "outputs": [],
   "source": [
    "import React from 'react';\n",
    "\n",
    "function App() {\n",
    "  return (\n",
    "    <div>\n",
    "      <h1>Hello, World!</h1>\n",
    "    </div>\n",
    "  );\n",
    "}\n",
    "\n",
    "export default App;"
   ]
  },
  {
   "cell_type": "markdown",
   "id": "47fe4761-fa27-44ff-9e22-397de81fc607",
   "metadata": {},
   "source": [
    "##### JSX ke benefits:\n",
    "\n",
    "Readability: HTML jaise syntax ki wajah se code ko samajhna aasaan hota hai.\n",
    "\n",
    "Brevity: Shorter aur cleaner code likha ja sakta hai.\n",
    "\n",
    "Component-based structure: React mein components ka use easily kiya ja sakta hai."
   ]
  },
  {
   "cell_type": "markdown",
   "id": "b880585f-3a76-4caf-a775-2fa710686cea",
   "metadata": {},
   "source": [
    "# How work JSX?"
   ]
  },
  {
   "cell_type": "markdown",
   "id": "b9366db4-f594-471a-a74e-c153247c2af7",
   "metadata": {},
   "source": [
    "#### JSX Syntax: \n",
    "\n",
    "JSX ka syntax HTML ki tarah dikhta hai, lekin React usse JavaScript mein convert karta hai. JSX ek JavaScript expression hai, jise React.createElement() function ke through JavaScript mein convert kiya jata hai."
   ]
  },
  {
   "cell_type": "code",
   "execution_count": null,
   "id": "1e0046b1-ca3e-4475-b86f-3f4b89bfa4df",
   "metadata": {
    "vscode": {
     "languageId": "javascript"
    }
   },
   "outputs": [],
   "source": [
    "const element = <h1>Hello, World!</h1>"
   ]
  },
  {
   "cell_type": "markdown",
   "id": "054d840a-049f-4273-8f14-3d291d160b0b",
   "metadata": {},
   "source": [
    "Yeh code direct HTML jaise dikh raha hai, lekin jab browser ya React compiler isse process karta hai, toh yeh React.createElement() \n",
    "function mein convert ho jata hai:"
   ]
  },
  {
   "cell_type": "code",
   "execution_count": null,
   "id": "c97a18ed-1f4a-4268-bc25-be416278c5aa",
   "metadata": {
    "vscode": {
     "languageId": "javascript"
    }
   },
   "outputs": [],
   "source": [
    "const element = React.createElement('h1', null, 'Hello, World!');"
   ]
  },
  {
   "cell_type": "markdown",
   "id": "d5fb03fb-4ece-4005-b85d-ba7eb1e90d6a",
   "metadata": {},
   "source": [
    "Iska matlab hai ki JSX ultimately React.createElement() ko call kar raha hai, jo ek React element create karta hai."
   ]
  },
  {
   "cell_type": "markdown",
   "id": "fae77d49-249b-4461-88d5-c3242f4c4399",
   "metadata": {},
   "source": [
    "#### Compilation Process (Babel): \n",
    "\n",
    "React ke project mein, Babel ek JavaScript compiler hota hai jo JSX ko valid JavaScript mein convert karta hai. Jab aap React project mein JSX likhte hain, toh Babel is code ko is tarah se transform karta hai ki browser ya JavaScript engine use kar sake."
   ]
  },
  {
   "cell_type": "code",
   "execution_count": null,
   "id": "786dbcdb-326a-4d73-891a-f19c38941982",
   "metadata": {
    "vscode": {
     "languageId": "javascript"
    }
   },
   "outputs": [],
   "source": [
    "const element = <h1>Welcome to React!</h1>;\n",
    "\n",
    "// Babel isse JavaScript mein transform karega:\n",
    "\n",
    "const element = React.createElement('h1', null, 'Welcome to React!');"
   ]
  },
  {
   "cell_type": "markdown",
   "id": "8c4470ca-259d-4563-9434-5d5c7445de1b",
   "metadata": {},
   "source": [
    "#### React.createElement: \n",
    "\n",
    "React.createElement() ek function hai jo 3 arguments leta hai:\n",
    "\n",
    "Type: HTML element (e.g., 'div', 'h1', etc.) ya React component.\n",
    "\n",
    "Props: Element ke properties (e.g., className, style, etc.).\n",
    "\n",
    "Children: Element ke andar jo content hoga, jo text ya nested elements ho sakte hain."
   ]
  },
  {
   "cell_type": "code",
   "execution_count": null,
   "id": "4e557b09-3fb4-47c4-93e3-c2f38f0c1d0c",
   "metadata": {
    "vscode": {
     "languageId": "javascript"
    }
   },
   "outputs": [],
   "source": [
    "const element = React.createElement('h1', { className: 'greeting' }, 'Hello, World!');\n",
    "\n",
    "// Yeh h1 element banata hai, jisme ek class greeting aur text Hello, World! hota hai."
   ]
  },
  {
   "cell_type": "markdown",
   "id": "e93b4543-5e1c-45b3-baf0-b389122003ad",
   "metadata": {},
   "source": [
    "#### Rendering in DOM: \n",
    "\n",
    "Jab JSX ko JavaScript mein convert kiya jata hai aur React element ban jata hai, tab React ReactDOM.render() function ka use karke us element ko real DOM mein render karta hai. Yani, us element ko web page pe dikhata hai."
   ]
  },
  {
   "cell_type": "code",
   "execution_count": null,
   "id": "cb50b3d1-f25c-44ef-95b4-b68d8d6dc166",
   "metadata": {
    "vscode": {
     "languageId": "javascript"
    }
   },
   "outputs": [],
   "source": [
    "ReactDOM.render(\n",
    "  <h1>Hello, World!</h1>,\n",
    "  document.getElementById('root')\n",
    ");\n"
   ]
  },
  {
   "cell_type": "markdown",
   "id": "cf89160d-6ab1-4fa1-91dc-d588c25a2add",
   "metadata": {},
   "source": [
    "#### Summary:\n",
    "JSX HTML jaise dikhta hai, lekin ultimately JavaScript mein convert hota hai.\n",
    "\n",
    "Babel JSX ko React.createElement() mein transform karta hai.\n",
    "\n",
    "React phir is element ko real DOM mein render karta hai."
   ]
  },
  {
   "cell_type": "markdown",
   "id": "d825240f-8081-4303-919a-7711265756b6",
   "metadata": {},
   "source": [
    "# What is component?"
   ]
  },
  {
   "cell_type": "markdown",
   "id": "73ed20d0-e093-4757-a690-9594c232df15",
   "metadata": {},
   "source": [
    "React me, component ek JavaScript function ya class hota hai jo UI (User Interface) ka ek part render karta hai. Components ki madad se hum apne UI ko chhote, reusability ke liye manageable hisso me divide kar sakte hain. Har component apna ek independent logic aur design rakhta hai aur jab data change hota hai, toh component apne aap ko re-render kar leta hai."
   ]
  },
  {
   "cell_type": "markdown",
   "id": "eac941a7-ad0a-4af3-a371-9f4a3f61a44b",
   "metadata": {},
   "source": [
    "### Functional Components: \n",
    "Ye simple JavaScript functions hote hain jo props ko accept karte hain aur UI ko return karte hain. Yeh modern React development me zyada use hote hain, especially with hooks."
   ]
  },
  {
   "cell_type": "code",
   "execution_count": null,
   "id": "60f5837f-45c5-47b1-8359-12856542d116",
   "metadata": {
    "vscode": {
     "languageId": "javascript"
    }
   },
   "outputs": [],
   "source": [
    "function MyComponent(props) {\n",
    "  return <h1>Hello, {props.name}!</h1>;\n",
    "}"
   ]
  },
  {
   "cell_type": "markdown",
   "id": "364b835a-83ab-41d9-8b23-fe21994217f1",
   "metadata": {},
   "source": [
    "### Class Components: \n",
    "Yeh thoda purane tareeke se banaye jaate hain aur React ke lifecycle methods ko use karte hain. Ab React me functional components aur hooks ka use zyada ho raha hai."
   ]
  },
  {
   "cell_type": "code",
   "execution_count": null,
   "id": "312c530a-c34d-47be-acf4-99afce0f0386",
   "metadata": {
    "vscode": {
     "languageId": "javascript"
    }
   },
   "outputs": [],
   "source": [
    "class MyComponent extends React.Component {\n",
    "  render() {\n",
    "    return <h1>Hello, {this.props.name}!</h1>;\n",
    "  }\n",
    "}"
   ]
  },
  {
   "cell_type": "markdown",
   "id": "2e78bc92-aca1-463c-ad25-a29935dcc6fa",
   "metadata": {},
   "source": [
    "# Advantage of Components:"
   ]
  },
  {
   "cell_type": "markdown",
   "id": "b1bb9a6a-9c6d-4c42-a613-2028bdc0acb3",
   "metadata": {},
   "source": [
    "##### Reusability:\n",
    "Components ko multiple places par reuse kiya ja sakta hai, jo development ko faster aur efficient banata hai. Agar aapne ek button ya form component banaya hai, to aap usse multiple screens ya pages par use kar sakte hain bina dobara likhe.\n",
    "\n",
    "##### Modularity:\n",
    "React mein UI ko chhote-chhote components mein divide kiya jata hai. Isse code clean aur maintainable rehta hai, aur agar koi problem ho to usse easily troubleshoot aur fix kiya ja sakta hai.\n",
    "\n",
    "##### Separation of Concerns:\n",
    "Components ko alag-alag tasks diye jate hain, jisse ek component sirf ek kaam karta hai (for example, ek form field ka validation ya ek button ka onClick event). Ye code ko simple aur understandable banata hai.\n",
    "\n",
    "##### State Management:\n",
    "React mein har component apna state manage kar sakta hai, jo UI ko update karne mein help karta hai jab user interact karta hai. Isse aapko complex state management ke liye external tools ki zaroorat nahi padti, jab tak aapka app chhota hai.\n",
    "\n",
    "##### Easier Debugging:\n",
    "Chhote components ko debug karna asaan hota hai, kyunki ek time par ek chhota piece of code manage ho raha hota hai. Isse errors ko pinpoint karna aur fix karna easy ho jata hai.\n",
    "\n",
    "##### Performance Optimization:\n",
    "React ka virtual DOM aur component lifecycle methods ka use karke performance ko optimize kiya ja sakta hai. Agar ek component ka state change hota hai, to sirf usi component ko re-render kiya jata hai, na ki poore app ko.\n",
    "\n",
    "##### Testing:\n",
    "Components ko independently test kiya ja sakta hai. Agar har component apne kaam mein self-contained hai, to unit testing aur integration testing kaafi asaan ho jati hai."
   ]
  },
  {
   "cell_type": "markdown",
   "id": "6a65e13d-d3b0-4612-8493-4c1ae7543310",
   "metadata": {},
   "source": [
    "# Real DOM vs Virtual DOM:"
   ]
  },
  {
   "cell_type": "markdown",
   "id": "63815af0-f601-4272-b7f0-df4e7508019c",
   "metadata": {},
   "source": [
    "#### Real DOM: \n",
    "Yeh actual DOM hai jo web browser mein hota hai. Jab bhi aapka page load hota hai, browser is DOM ko render karta hai. Har time jab page ke kisi part mein update hota hai, browser ko poore DOM ko re-render karna padta hai, jo performance ko slow bana sakta hai.\n",
    "#### Virtual DOM: \n",
    "Yeh ek in-memory representation hai jo React use karta hai. Yeh real DOM ka lightweight copy hota hai, aur isme updates pehle kiye jate hain. React phir diffing algorithm use karke, old aur new virtual DOM ke beech changes ko calculate karta hai, aur sirf unhi parts ko real DOM mein update karta hai jo actually change hue hain.\n",
    "\n",
    "React mein Virtual DOM ek concept hai jo ki real DOM (Document Object Model) ko optimize karne ke liye use hota hai. React app ke andar, jab bhi state ya UI update hota hai, React pehle ek virtual DOM mein changes karta hai aur phir actual DOM ko efficiently update karta hai."
   ]
  },
  {
   "cell_type": "markdown",
   "id": "f134790c-8ea0-4edc-a569-f00a31cc1615",
   "metadata": {},
   "source": [
    "#### React ka Virtual DOM kaise kaam karta hai: \n",
    "Jab React mein state ya props change hoti hai, to React sabse pehle virtual DOM mein changes karta hai. Yeh ek lightweight copy hota hai, aur changes ko efficient tareeqe se process karta hai. React phir yeh changes compare karta hai apne old virtual DOM se, aur diffing algorithm ke zariye, changes identify karta hai. Yeh algorithm, jo ki reconciliation algorithm kehlata hai, sirf un components ko real DOM mein update karta hai jo actually change hue hain. Is process se unnecessary rendering nahi hoti, aur app fast re-render hota hai."
   ]
  },
  {
   "cell_type": "markdown",
   "id": "efb530c4-cb9d-484f-8d41-2fe311ce1942",
   "metadata": {},
   "source": [
    "## Virtual DOM ke kaam karne ka tareeqa\n",
    "\n",
    "##### Initial Rendering: \n",
    "Jab React app pehli baar render hota hai, to React ek virtual DOM tree create karta hai jo ki real DOM ka lightweight copy hota hai.\n",
    "\n",
    "##### Update Process: \n",
    "Jab state ya props mein koi change hota hai, React pehle virtual DOM mein changes karta hai. Iske baad, React comparison karta hai apne purane virtual DOM (previous state) aur naye virtual DOM (updated state) ke beech.\n",
    "\n",
    "##### Diffing Algorithm: \n",
    "React ka diffing algorithm purane aur naye virtual DOM ke beech differences ko find karta hai. Sirf un parts ko update kiya jata hai jo change hue hain.\n",
    "\n",
    "##### Efficient Update to Real DOM: \n",
    "Jab React ne differences identify kar liye, to wo sirf unhi parts ko real DOM mein update karta hai jo actually change hue hain, jisse performance improve hoti hai. Is process ko \"reconciliation\" kaha jata hai."
   ]
  },
  {
   "cell_type": "markdown",
   "id": "23077de5-7516-441e-9243-6975247e8c30",
   "metadata": {},
   "source": [
    "### Example:\n",
    "Maan lijiye ki aap ek to-do list bana rahe hain. Jab aap ek new to-do item add karte hain:\n",
    "\n",
    "Pehle, React virtual DOM mein naya to-do item add karta hai.\n",
    "\n",
    "Fir, React virtual DOM mein changes ko old virtual DOM se compare karta hai.\n",
    "\n",
    "Agar koi difference milta hai, to React sirf usi part ko real DOM mein update karta hai jo new to-do item ko show karega."
   ]
  },
  {
   "cell_type": "markdown",
   "id": "51ccd43e-6390-457d-9327-d45f8d803933",
   "metadata": {},
   "source": [
    "### Why Not Directly Modify the Real DOM?:\n",
    "Directly real DOM ko modify karna inefficient ho sakta hai, kyunki browser ko har time poora page render karna padta hai. Agar app mein complex UI ho, aur state baar-baar change ho rahi ho, to baar-baar re-rendering performance ko bahut slow kar deti hai. Virtual DOM ki wajah se React sirf unhi parts ko update karta hai jo essential hai, aur isse rendering process fast ho jata hai."
   ]
  },
  {
   "cell_type": "markdown",
   "id": "d3df6c92-eb11-4022-a2a6-05c6093b97c0",
   "metadata": {},
   "source": [
    "### Virtual DOM ke fayde?\n",
    "\n",
    "##### Performance Optimization:\n",
    "Real DOM ke comparison mein, virtual DOM updates bahut fast hote hain kyunki React sirf necessary updates ko hi real DOM mein apply karta hai.\n",
    "\n",
    "##### Efficiency: \n",
    "Puri UI ko dobara se render karne ki bajaye, React sirf un parts ko update karta hai jo actually change hue hain, isse unnecessary re-rendering se bachne mein madad milti hai.\n",
    "\n",
    "##### Smooth User Experience: \n",
    "Yeh mechanism smooth aur responsive UI banata hai, kyunki updates fast aur efficient tareeqe se kiye jate hain.\n",
    "\n",
    "##### Asynchronous Updates: \n",
    "React asynchronous updates perform karta hai, jo ki UI responsiveness ko improve karta hai."
   ]
  },
  {
   "cell_type": "markdown",
   "id": "4f0fab03-cc68-4192-aab1-437089f35020",
   "metadata": {},
   "source": [
    "# Reconciliation Process?"
   ]
  },
  {
   "cell_type": "markdown",
   "id": "3890cc65-134b-49bb-b96b-06776a665b99",
   "metadata": {},
   "source": [
    "React mein reconciliation ek process hai jisme React apne virtual DOM aur actual DOM ko compare karke changes apply karta hai. Yeh process ensure karta hai ke UI efficiently update ho, sirf zaroori changes hi real DOM mein reflect ho.\n",
    "\n",
    "### Steps of Reconciliation in React:\n",
    "#### Virtual DOM: \n",
    "Jab React component ka state ya props change hoti hain, to React pehle uss component ka virtual DOM (ek in-memory representation) update karta hai.\n",
    "\n",
    "#### Diffing Algorithm: \n",
    "React ka diffing algorithm virtual DOM ke purane version aur naye version ko compare karta hai. Yeh algorithm ye decide karta hai ke kaunse elements ko add, update ya remove karna hai.\n",
    "\n",
    "#### Efficient Updates: \n",
    "Diffing algorithm ke result ke baad, React sirf un elements ko real DOM mein update karta hai jo actually change hue hote hain. Isse performance optimize hoti hai, kyunki poora DOM re-render nahi hota."
   ]
  },
  {
   "cell_type": "markdown",
   "id": "354c9072-5abe-4c9c-8b83-6de42709fabf",
   "metadata": {},
   "source": [
    "#### Example:\n",
    "Agar ek component mein ek button hai jo click hone par text change karta hai, to jab button click hota hai:\n",
    "\n",
    "React pehle virtual DOM mein changes apply karta hai.\n",
    "\n",
    "Phir diffing algorithm ko use karte hue, React compare karta hai ke purani aur naye virtual DOM mein kya farq hai.\n",
    "\n",
    "Sirf wo changes actual DOM mein reflect kiye jaate hain jo necessary hote hain."
   ]
  },
  {
   "cell_type": "markdown",
   "id": "2380a86e-aade-489e-b5e6-fafca47e089b",
   "metadata": {},
   "source": [
    "#  props and state?"
   ]
  },
  {
   "cell_type": "markdown",
   "id": "408c7be6-1e6f-463c-b209-1dc7774b02e1",
   "metadata": {},
   "source": [
    "### Props\n",
    "(short for properties) ko hum parent component se child component tak data pass karne ke liye use karte hain. Ye read-only hote hain, yani ki child component apne props ko modify nahi kar sakta. Props se hum apne components ko dynamic bana sakte hain, kyunki hum alag-alag values pass kar sakte hain.\n",
    "\n",
    "### State\n",
    "ek component ka local data storage hota hai, jo sirf usi component ke liye hota hai. State ko hum update kar sakte hain, aur jab state change hoti hai, toh component dobara render hota hai. State ko hum user interaction ya kisi event ke basis par change karte hain. Ye mutable (update ho sakti) hoti hai, jo props ke comparison mein alag hai."
   ]
  },
  {
   "cell_type": "markdown",
   "id": "ddfd7dbf-9649-4518-9503-57a7ad816b9b",
   "metadata": {},
   "source": [
    "# State and Props Diff?"
   ]
  },
  {
   "cell_type": "markdown",
   "id": "9caef5da-71da-4554-83e2-ddf6cc5dc026",
   "metadata": {},
   "source": [
    "#### Definition:\n",
    "\n",
    "Props: Parent se child component tak data pass karne ka tariqa hota hai.\n",
    "\n",
    "State: Component ke apne data ko store karne aur manage karne ka tareeqa hota hai.\n",
    "\n",
    "#### Mutability:\n",
    "\n",
    "Props: Ye read-only hote hain, yani child component apne props ko change nahi kar sakta.\n",
    "\n",
    "State: Ye mutable hote hain, yani component apni state ko change kar sakta hai.\n",
    "\n",
    "#### Usage:\n",
    "\n",
    "Props: Jab humein ek component se dusre component tak data pass karna ho, tab props ka use hota hai.\n",
    "\n",
    "State: Component ke andar apne data ko track karne aur update karne ke liye state ka use hota hai.\n",
    "\n",
    "#### Data Flow:\n",
    "\n",
    "Props: Data ek direction mein flow karte hain — parent se child component tak.\n",
    "\n",
    "State: State ka data ek hi component ke andar hota hai, aur uska flow change hota rehta hai jab state update hoti hai.\n",
    "\n",
    "#### Change Trigger:\n",
    "\n",
    "Props: Parent component jab props ko update karta hai, tab child component ko nayi props milti hain.\n",
    "\n",
    "State: Jab state change hoti hai, toh component re-render hota hai, aur state ko update karna typically component ke apne actions (jaise user input) ke through hota hai.\n",
    "\n",
    "#### Initial Value:\n",
    "\n",
    "Props: Parent component se pass kiya gaya data initial value hota hai.\n",
    "\n",
    "State: Component ka apna local data hota hai, jo initial value ke saath set kiya ja sakta hai (e.g., useState hook ke through).\n",
    "\n",
    "#### Reusability:\n",
    "\n",
    "Props: Same props ko multiple components mein reuse kiya ja sakta hai.\n",
    "\n",
    "State: State component ke liye local hoti hai aur dusre components mein reuse nahi hoti."
   ]
  },
  {
   "cell_type": "markdown",
   "id": "5e18e202",
   "metadata": {},
   "source": [
    "| Feature       | Props                        | State                      |\n",
    "| ------------- | ---------------------------- | -------------------------- |\n",
    "| **Ownership** | Parent component se aata hai | Apne component ka hota hai |\n",
    "| **Mutable?**  | Nahi (Immutable)             | Haan (Mutable)             |\n",
    "| **Usage**     | Data share karna             | Data track/update karna    |\n",
    "| **Control**   | Parent ke control mein       | Component ke control mein  |\n"
   ]
  },
  {
   "cell_type": "markdown",
   "id": "bbb1c6ab-1c44-4f4e-895b-3794ab527a3d",
   "metadata": {},
   "source": [
    "# What is Hooks?"
   ]
  },
  {
   "cell_type": "markdown",
   "id": "11b9d5b6-fe35-4630-aecb-b34adc679c0b",
   "metadata": {},
   "source": [
    "React me hooks ek special function hote hain jo functional components me state aur lifecycle features ko manage karne me madad karte hain. React hooks ko version 16.8 me introduce kiya gaya tha, jisse functional components me class components jaise features use kiye ja sakte hain."
   ]
  },
  {
   "cell_type": "markdown",
   "id": "e887cdef-98ee-48f5-9f66-1eab10d78f8d",
   "metadata": {},
   "source": [
    "# higher-order component"
   ]
  },
  {
   "cell_type": "markdown",
   "id": "5f9b7632-57bb-439b-9d06-af3ce8782b90",
   "metadata": {},
   "source": [
    "Higher-Order Component (HOC) React mein ek design pattern hai jo ek function hota hai, jo kisi component ko as an argument accept karta hai aur ek naya component return karta hai. Iska main purpose ek existing component ko enhance karna hota hai bina uske original code ko change kiye. HOC ka use common logic ko share karne ke liye kiya jata hai, jaise authentication check, data fetching, etc.\n",
    "\n",
    "HOC ek function hai jo ek component ko accept karta hai aur usse wrapped component return karta hai."
   ]
  },
  {
   "cell_type": "code",
   "execution_count": null,
   "id": "f8a4ca76-814b-4b55-8c6c-dd3130f2ec67",
   "metadata": {
    "vscode": {
     "languageId": "javascript"
    }
   },
   "outputs": [],
   "source": [
    "const withSomething = (WrappedComponent) => {\n",
    "  return class extends React.Component {\n",
    "    render() {\n",
    "      // Common functionality ya logic add kar sakte hain yaha\n",
    "      return <WrappedComponent {...this.props} />;\n",
    "    }\n",
    "  };\n",
    "};"
   ]
  },
  {
   "cell_type": "markdown",
   "id": "e6ca8955-3f56-47dc-b485-f37c512ef78b",
   "metadata": {},
   "source": [
    "#### Key points:\n",
    "HOC kabhi bhi props ko modify nahi karta, bas component ko enhance karta hai.\n",
    "\n",
    "HOC ko components ko reusability aur shared functionality ke liye use kiya jata hai.\n",
    "\n",
    "HOC React ke built-in features ka part nahi hai, ye ek design pattern hai."
   ]
  },
  {
   "cell_type": "markdown",
   "id": "10320089-5a71-4daf-ad65-64a200f33bba",
   "metadata": {},
   "source": [
    "# Pure Components in React"
   ]
  },
  {
   "cell_type": "markdown",
   "id": "701e3186-269e-4b8e-a6b5-86abc95f5817",
   "metadata": {},
   "source": [
    "React me Pure Components ek aise components hote hain jo sirf tab re-render hote hain jab unki props ya state me koi changes aaye. React me PureComponent ek built-in class hoti hai jo shouldComponentUpdate method ko optimize karti hai. Iska fayda yeh hai ki unnecessary re-renders avoid hote hain, jo application ki performance ko improve karte hain."
   ]
  },
  {
   "cell_type": "markdown",
   "id": "8ccf7d33-46f3-4496-8ce1-6c3d5b88c57f",
   "metadata": {},
   "source": [
    "### PureComponent ka kaam:\n",
    "PureComponent automatically shallow comparison karta hai props aur state ka. Matlab, agar props ya state me koi deep change nahi hota, to component ko re-render nahi kiya jata.\n",
    "\n",
    "Agar aap regular component (jo class se bana ho) use karte hain, to aapko shouldComponentUpdate method manually likhna padta hai.\n",
    "\n",
    "PureComponent use karte waqt aapko shouldComponentUpdate likhne ki zarurat nahi padti, kyunki React khud hi shallow comparison karta hai."
   ]
  },
  {
   "cell_type": "markdown",
   "id": "175a4aab-a904-4caa-a05d-e62b54cf3f15",
   "metadata": {},
   "source": [
    "#### Advantages:\n",
    "Performance improve hoti hai kyunki unnecessary renders avoid hote hain.\n",
    "\n",
    "Code ko simple aur efficient banaya jata hai.\n",
    "\n",
    "#### Important Note:\n",
    "PureComponent shallow comparison karta hai, isliye agar props ya state me koi complex object (e.g., arrays ya objects) hai, to agar unme internal changes hote hain (jaise array ke elements ya object ke properties), tab bhi component ko re-render kiya jayega. Aise cases me React.memo ya deep comparison ka use karna padta hai"
   ]
  },
  {
   "cell_type": "markdown",
   "id": "830457f0-dc14-4d64-86e9-d63756b1b254",
   "metadata": {},
   "source": [
    "# Software Development Life Cycle"
   ]
  },
  {
   "cell_type": "markdown",
   "id": "9d483a9b-e5c7-45a2-9cac-8b5f23b538ff",
   "metadata": {},
   "source": [
    "Software Development Life Cycle (SDLC) ek process hai jo software applications ko design, develop, test, aur maintain karne ke liye follow kiya jata hai. Is process ka maqsad software ke high-quality, reliable, aur efficient versions ko time pe deliver karna hai. SDLC mein kai phases hote hain, jinhein sequentially ya iterative tarike se follow kiya jata hai."
   ]
  },
  {
   "cell_type": "markdown",
   "id": "d7758f20-dc29-4b39-aa61-e7b98ec63914",
   "metadata": {},
   "source": [
    "### Planning\n",
    "Goal: Project ki scope aur requirements ko samajhna.\n",
    "\n",
    "Is phase mein, software development team aur stakeholders (clients, users, etc.) milke project ke goals define karte hain. Yeh phase software ke functionalities aur features ko clearly document karta hai.\n",
    "\n",
    "Output: Requirement Specification Document (SRS - Software Requirement Specification), jo batata hai ki software ko kis tarah se develop karna hai aur kya expectations hain"
   ]
  },
  {
   "cell_type": "markdown",
   "id": "6e36a983-52ab-450c-b860-8b009f7aa785",
   "metadata": {},
   "source": [
    "### Requirements:\n",
    "In this stage, all the requirements for the target software are specified. These requirements get approval from customers, market analysts, and stakeholders. \n",
    "\n",
    "This is fulfilled by utilizing SRS (Software Requirement Specification). This is a sort of document that specifies all those things that need to be defined and created during the entire project cycle. "
   ]
  },
  {
   "cell_type": "markdown",
   "id": "e097b3fb-0a42-4459-a8b5-22747858095a",
   "metadata": {},
   "source": [
    "### Architecture / System Design\n",
    "Goal: Architecture aur design ko plan karna.\n",
    "\n",
    "Is phase mein, software ka architecture design kiya jata hai. Yahan par technical specifications, database design, user interfaces (UI), aur system ke components ke structure ko define kiya jata hai.\n",
    "\n",
    "Types of Design:\n",
    "##### High-level Design (HLD): System ke overall structure ko define karta hai, jaise modules ka interaction aur data flow.\n",
    "\n",
    "##### Low-level Design (LLD): Detailed design hota hai, jisme individual components ki design aur code logic define hota hai.\n",
    "Output: Design Document, jo development ke liye blueprint ka kaam karta hai."
   ]
  },
  {
   "cell_type": "markdown",
   "id": "67761e38-e721-4968-aba7-2b28f28ddf91",
   "metadata": {},
   "source": [
    "### Implementation (Coding/Development)\n",
    "Goal: Software code likhna.\n",
    "\n",
    "Is phase mein developers software ko actual code ke roop mein implement karte hain. Development team system design ke hisaab se programming languages, frameworks, aur tools ka use karte hue software banate hain.\n",
    "\n",
    "Developers ko ensure karna hota hai ki code sahi tarike se likha jaye aur efficient ho.\n",
    "\n",
    "Output: Source code, jo ki system design aur specifications ke mutabiq hota hai."
   ]
  },
  {
   "cell_type": "markdown",
   "id": "3cc1433d-6afc-4de4-a5ca-fbe660eb6e44",
   "metadata": {},
   "source": [
    "### Testing\n",
    "Goal: Software ko bugs aur issues ke liye test karna.\n",
    "\n",
    "Testing phase mein, software ko multiple test cases ke through check kiya jata hai. Yeh phase ensure karta hai ke software requirements ke according kaam kar raha hai aur koi bugs ya errors na hon.\n",
    "\n",
    "Types of Testing:\n",
    "\n",
    "Unit Testing: Individual components ya modules ka testing.\n",
    "\n",
    "Integration Testing: Multiple modules ko integrate karke unka testing.\n",
    "\n",
    "System Testing: Puri system ko test karna.\n",
    "\n",
    "User Acceptance Testing (UAT): End-users ke dwara testing, taake confirm ho sake ki software unki requirements ko fulfill kar raha hai.\n",
    "\n",
    "Output: Test Reports aur Bug Fixes."
   ]
  },
  {
   "cell_type": "markdown",
   "id": "f1b115bd-1ac6-43a8-9cb4-710b7452fe4f",
   "metadata": {},
   "source": [
    "### Deployment\n",
    "Goal: Software ko production environment mein release karna.\n",
    "\n",
    "Jab software test ho jata hai, tab usse end-users ke liye deploy kiya jata hai. Is phase mein, software ko actual environment mein install aur configure kiya jata hai.\n",
    "\n",
    "Deployment kai stages mein ho sakta hai: first, beta version release hota hai, fir full-scale release.\n",
    "\n",
    "Output: Deployed Software in Production."
   ]
  },
  {
   "cell_type": "markdown",
   "id": "c4d9d561-6d2b-46f6-a4d1-386ab4eca63d",
   "metadata": {},
   "source": [
    "### Maintenance\n",
    "Goal: Software ki performance aur functionality ko monitor karna aur improve karna.\n",
    "\n",
    "Deployment ke baad, software ko continuously maintain kiya jata hai. Yeh phase software ko update karne, bugs ko fix karne, aur user feedback ke basis par improvements karne ka kaam karta hai.\n",
    "\n",
    "Types of Maintenance:\n",
    "\n",
    "Corrective Maintenance: Bugs ko fix karna jo production mein aaye hain.\n",
    "\n",
    "Adaptive Maintenance: Software ko updates ya changes ke liye adapt karna, jaise new features add karna ya environment changes ke liye.\n",
    "\n",
    "Perfective Maintenance: Existing features ko enhance karna.\n",
    "\n",
    "Preventive Maintenance: Future issues ko prevent karne ke liye changes aur improvements."
   ]
  },
  {
   "cell_type": "markdown",
   "id": "836ef7bc-a6a6-4aef-a3a6-2b5a962a3394",
   "metadata": {},
   "source": [
    "# Models of SDLC"
   ]
  },
  {
   "cell_type": "markdown",
   "id": "69a907c5-a6ae-45b7-af0a-2d6baf4a6de1",
   "metadata": {},
   "source": [
    "## Waterfall Model:-"
   ]
  },
  {
   "cell_type": "markdown",
   "id": "bffcf0fe-2c74-4eef-a654-842d7cddcfd5",
   "metadata": {},
   "source": [
    "Waterfall Model SDLC (Software Development Life Cycle) ka ek traditional approach hai, jisme development process sequential hoti hai. Is model mein har phase ek ke baad ek complete hota hai, aur jab ek phase complete ho jata hai, tab hi agla phase start hota hai. Iska naam \"Waterfall\" isliye rakha gaya hai kyunki ek phase ka output doosre phase ke liye input ban jata hai, jaise paani ek waterfall mein neeche girta hai.\n",
    "\n",
    "Waterfall Model ek linear aur sequential approach hai jisme ek phase complete hone ke baad hi agla phase start hota hai. Yeh ek rigid process hai, aur har phase ka apna ek defined output hota hai, jo agle phase ka input ban jaata hai."
   ]
  },
  {
   "cell_type": "markdown",
   "id": "3ad700ea-b236-4545-9f9f-fdb9eb8b2198",
   "metadata": {},
   "source": [
    "### Waterfall Model ke phases ko thoda aur detail mein samajhte hain:\n",
    "\n",
    "#### Requirement Analysis:\n",
    "Is phase mein client se milke unki requirements ko samjha jaata hai.\n",
    "\n",
    "Sabhi functional aur non-functional requirements ko document kiya jaata hai.\n",
    "\n",
    "Yeh phase sabse pehle hota hai aur isme system ki overall functionality ka overview liya jaata hai.\n",
    "\n",
    "Requirement clear hone ke baad, kisi bhi changes ki planning future mein mushkil ho sakti hai.\n",
    "\n",
    "#### System Design:\n",
    "Is phase mein, architecture aur design banaya jaata hai jo requirements ke basis par hota hai.\n",
    "\n",
    "Do tarah ka design hota hai:\n",
    "\n",
    "High-Level Design (HLD): Yeh system ke architecture aur components ko define karta hai.\n",
    "\n",
    "Low-Level Design (LLD): Yeh components ke detailed design ko define karta hai, jaise ki databases, user interfaces, etc.\n",
    "\n",
    "Design phase ke output ko developers aur testers use karte hain aage ke phases ke liye.\n",
    "\n",
    "#### Implementation (Coding):\n",
    "Jab design final ho jaata hai, tab actual coding ka kaam start hota hai.\n",
    "\n",
    "Developers is phase mein code likhte hain jo design document ke according hota hai.\n",
    "\n",
    "Yeh phase typically longest phase hota hai.\n",
    "\n",
    "Code likhne ke baad, modules ko integrate kiya jaata hai aur testing ki planning hoti hai.\n",
    "\n",
    "#### Integration and Testing (Verification):\n",
    "Jab coding complete hoti hai, tab system ko integrate karke testing start hoti hai.\n",
    "\n",
    "Testing mein system ki functionality check ki jaati hai ki wo requirements ke according kaam kar raha hai ya nahi.\n",
    "\n",
    "Agar koi bugs ya errors milte hain, toh unhe fix kiya jaata hai. Agar system expected behavior ke according kaam nahi kar raha hota, toh developers ko phir se code mein changes karne padte hain.\n",
    "\n",
    "Yeh phase bugs ko identify karne aur fix karne ka kaam karta hai.\n",
    "\n",
    "#### Deployment (Installation):\n",
    "Jab testing complete ho jaati hai aur system bug-free ho jaata hai, tab system ko deployment ke liye ready kiya jaata hai.\n",
    "\n",
    "System ko production environment mein install kiya jaata hai taaki end-users isse use kar sakein.\n",
    "\n",
    "Deployment ke baad, system ko users ko deliver kar diya jaata hai.\n",
    "\n",
    "#### Maintenance:\n",
    "Jab system live ho jaata hai aur users use karna shuru karte hain, tab maintenance phase start hota hai.\n",
    "\n",
    "Is phase mein system ko regularly update kiya jaata hai, bugs fix kiye jaate hain, aur enhancements kiye jaate hain.\n",
    "\n",
    "Maintenance ke dauran system ko optimize bhi kiya jaa sakta hai aur naye features bhi add kiye ja sakte hain."
   ]
  },
  {
   "cell_type": "markdown",
   "id": "1287a02a-910b-46a6-80c3-69a091da123e",
   "metadata": {},
   "source": [
    "### Features:-\n",
    "##### Sequential Process: \n",
    "Har phase ka ek clear output hota hai, jo agle phase ko input banata hai.\n",
    "\n",
    "##### Documentation: \n",
    "Har phase ke completion ke baad extensive documentation banayi jaati hai, jo project ke progress ko track karne mein madad karti hai.\n",
    "\n",
    "##### Clear Milestones: \n",
    "Har phase ka apna ek defined milestone hota hai, jisme next phase ke liye input ready hota hai.\n",
    "\n",
    "##### Rigid Structure: \n",
    "Waterfall model ka structure kaafi rigid hota hai. Agar aapko development ke dauran requirements mein koi change karna ho, toh wo kaafi mushkil ho sakta hai, kyunki ek phase complete hone ke baad aapko pehle ke phases mein changes karne padte hain."
   ]
  },
  {
   "cell_type": "markdown",
   "id": "5b16a16a-5ca9-425d-acca-65a5e933f731",
   "metadata": {},
   "source": [
    "### Advantages:-\n",
    "Simple aur Easy to Understand\n",
    "\n",
    "Clear and Structured Phases\n",
    "\n",
    "Good Documentation\n",
    "\n",
    "Individual Processing\n",
    "\n",
    "### Disadvantages:-\n",
    "\n",
    "Inflexible\n",
    "\n",
    "Late Testing\n",
    "\n",
    "High Risk\n",
    "\n",
    "No Overlapping of Phases\n",
    "\n",
    "Lengthy Development Cycle"
   ]
  },
  {
   "cell_type": "markdown",
   "id": "d78a7464-2881-43b7-a586-172077cac4a6",
   "metadata": {},
   "source": [
    "#### Waterfall Model ka use kab hota hai?\n",
    "Waterfall model un projects mein zyada use hota hai jahan requirements clear ho, scope stable ho, aur project ka complexity low ho. Example ke liye, small or simple projects jaise ek fixed software tool ya application jo clearly defined requirements ke saath banani hoti hai, wahan waterfall approach kaafi useful hoti hai."
   ]
  },
  {
   "cell_type": "markdown",
   "id": "231df851-a6d6-4078-91e9-be6cdff4779b",
   "metadata": {},
   "source": [
    "# Agile Model"
   ]
  },
  {
   "cell_type": "markdown",
   "id": "67ae1db9-70ab-4c54-b732-574923177c6f",
   "metadata": {},
   "source": [
    "Agile model, Software Development Life Cycle (SDLC) ka ek popular approach hai jo software development process ko iterative aur incremental banaata hai. Iska goal hai flexibility aur customer ke feedback ke basis par software ko continuously improve karna. Is model mein, development process ko chhote-chhote cycles ya \"sprints\" mein divide kiya jaata hai."
   ]
  },
  {
   "cell_type": "markdown",
   "id": "60c10dc1-8be6-4651-884b-598b63235805",
   "metadata": {},
   "source": [
    "### Agile Frameworks: \n",
    "Jaisa ki maine pehle bataya, Agile ek umbrella term hai, aur iske andar kayi different frameworks aate hain, jinme se kuch popular hain:\n",
    "\n",
    "#### Scrum: \n",
    "Scrum ek iterative framework hai jisme development process ko chhote sprints mein divide kiya jaata hai. Har sprint ke baad product increment deliver hota hai. Scrum mein Product Backlog, Sprint Backlog, Daily Standups, Sprint Planning, etc., ke specific ceremonies aur roles defined hote hain.\n",
    "\n",
    "#### Kanban: \n",
    "Kanban ek visual framework hai jisme tasks ko visual boards pe track kiya jaata hai. Har task ko ek specific column mein rakha jaata hai, jaise \"To Do\", \"In Progress\", \"Completed\". Iska main goal workflow ko optimize karna aur bottlenecks ko identify karna hota hai.\n",
    "\n",
    "#### Extreme Programming (XP): \n",
    "XP ka focus hai software development mein quality ko improve karna, jaise ki continuous integration, pair programming (do developers ek saath kaam karte hain), automated testing, aur frequent releases."
   ]
  },
  {
   "cell_type": "markdown",
   "id": "97bd9653-63dc-48f2-af1d-3740c375e10c",
   "metadata": {},
   "source": [
    "# UseState Hook's"
   ]
  },
  {
   "cell_type": "markdown",
   "id": "3d697cc7-3bb3-4685-b117-fe49c1b6e251",
   "metadata": {},
   "source": [
    "useState hook React me ek built-in hook hai jo functional components me state ko manage karne ke liye use hota hai. React me, jab hum functional component bana rahe hote hain, to hum directly this.state ya this.setState jaise class components wale state management methods ko use nahi kar sakte. useState hook ka use karke hum apne functional components me state create kar sakte hain aur usko update kar sakte hain."
   ]
  },
  {
   "cell_type": "markdown",
   "id": "c7d1ea9a-10ba-4d45-949a-96d4624f0f97",
   "metadata": {},
   "source": [
    "##### const [state, setState] = useState(initialState);\n",
    "\n",
    "state: Ye variable hai jisme hum apni state value store karte hain.\n",
    "\n",
    "setState: Ye ek function hai jo state ko update karne ke liye use hota hai.\n",
    "\n",
    "initialState: Ye wo initial value hai jo hum apni state ko dena chahte hain."
   ]
  },
  {
   "cell_type": "markdown",
   "id": "73a7e653-6d51-4c5b-b20e-931871e8625d",
   "metadata": {},
   "source": [
    "#### React Functional Component Mein State\n",
    "useState ko use karne se pehle, React ke functional components mein state ko manage karna possible nahi tha. Class components me state ko manage karne ke liye hum this.state aur this.setState ka use karte the, lekin functional components me aisa koi mechanism nahi tha. useState hook ko introduce karke React ne is problem ka solution diya."
   ]
  },
  {
   "cell_type": "markdown",
   "id": "b0053d42-d1db-4340-92ae-2de21451a263",
   "metadata": {},
   "source": [
    "#### State ko Track Karna\n",
    "Jab aap useState hook ka use karte hain, React us state ko track karta hai. Agar aap state ko update karte hain to React ko pata chal jata hai aur wo apne component ko re-render karta hai. Har time jab state update hoti hai, component ko nayi value ke saath dobara render kiya jata hai."
   ]
  },
  {
   "cell_type": "code",
   "execution_count": null,
   "id": "7faabbd8-44a9-4917-be50-04eb430c5bb4",
   "metadata": {
    "vscode": {
     "languageId": "javascript"
    }
   },
   "outputs": [],
   "source": [
    "import React, { useState } from 'react';\n",
    "\n",
    "function Counter() {\n",
    "  const [count, setCount] = useState(0);\n",
    "\n",
    "  const handleIncrease = () => {\n",
    "    setCount(count + 1);\n",
    "    console.log(count);  // Ye purani value print karega, state update ke baad nahi.\n",
    "  };\n",
    "\n",
    "  return (\n",
    "    <div>\n",
    "      <p>Count: {count}</p>\n",
    "      <button onClick={handleIncrease}>Increase</button>\n",
    "    </div>\n",
    "  );\n",
    "}\n",
    "\n",
    "export default Counter;"
   ]
  },
  {
   "cell_type": "markdown",
   "id": "d99b35ec-6f84-4b9a-892e-b427b2761c9e",
   "metadata": {},
   "source": [
    "#### Multiple States in One Component"
   ]
  },
  {
   "cell_type": "code",
   "execution_count": null,
   "id": "3dfdd59a-e068-427a-a814-df46c161acaa",
   "metadata": {
    "vscode": {
     "languageId": "javascript"
    }
   },
   "outputs": [],
   "source": [
    "import React, { useState } from 'react';\n",
    "\n",
    "function UserInfo() {\n",
    "  const [name, setName] = useState('');\n",
    "  const [age, setAge] = useState(0);\n",
    "\n",
    "  const handleNameChange = (e) => {\n",
    "    setName(e.target.value);\n",
    "  };\n",
    "\n",
    "  const handleAgeChange = (e) => {\n",
    "    setAge(e.target.value);\n",
    "  };\n",
    "\n",
    "  return (\n",
    "    <div>\n",
    "      <input type=\"text\" value={name} onChange={handleNameChange} placeholder=\"Enter name\" />\n",
    "      <input type=\"number\" value={age} onChange={handleAgeChange} placeholder=\"Enter age\" />\n",
    "      <p>Name: {name}</p>\n",
    "      <p>Age: {age}</p>\n",
    "    </div>\n",
    "  );\n",
    "}\n",
    "\n",
    "export default UserInfo;"
   ]
  },
  {
   "cell_type": "markdown",
   "id": "6b197e3d-70ea-4ff4-a009-799288471ae9",
   "metadata": {},
   "source": [
    "#### State ko Object ke Form Mein Store Karna"
   ]
  },
  {
   "cell_type": "code",
   "execution_count": null,
   "id": "c0f7d473-73a5-4059-a17d-602015195df9",
   "metadata": {
    "vscode": {
     "languageId": "javascript"
    }
   },
   "outputs": [],
   "source": [
    "const [user, setUser] = useState({\n",
    "  name: 'John',\n",
    "  age: 30\n",
    "});\n",
    "\n",
    "// Update state\n",
    "const updateUser = () => {\n",
    "  setUser(prevUser => ({ ...prevUser, age: 31 }));\n",
    "};"
   ]
  },
  {
   "cell_type": "markdown",
   "id": "3e5180cc-bf54-4ba0-ad58-9cdad4bbe6d3",
   "metadata": {},
   "source": [
    "# UseEffect Hook's"
   ]
  },
  {
   "cell_type": "markdown",
   "id": "c22f1304-2ea0-4edf-bfc9-0b6faca99094",
   "metadata": {},
   "source": [
    "React mein useEffect hook ek built-in hook hai jo functional components mein side effects handle karne ke liye use hota hai. Side effects se matlab hai wo operations jo React component render hone ke baad perform kiye jaate hain, jaise data fetching, subscriptions, DOM manipulations, ya timers.\n",
    "\n",
    "useEffect hook ko React mein side effects ko manage karne ke liye use kiya jata hai, jise hum lifecycle methods (jaise componentDidMount, componentDidUpdate, componentWillUnmount) ko functional components mein replace karte hain."
   ]
  },
  {
   "cell_type": "code",
   "execution_count": null,
   "id": "31b211ff-5b79-4745-bd76-f6a9023301f7",
   "metadata": {
    "vscode": {
     "languageId": "javascript"
    }
   },
   "outputs": [],
   "source": [
    "useEffect(() => {\n",
    "  // side effect logic yahan likhenge\n",
    "}, [dependencies]);"
   ]
  },
  {
   "cell_type": "markdown",
   "id": "c32bbba7-15f7-4875-90d0-ed29c0a75cfc",
   "metadata": {},
   "source": [
    "Pehla argument: A function jo side effect ko perform karega.Yeh function wo code hota hai jo hum chahte hain ke effect execute ho, jaise ki data fetch karna, DOM manipulation, event listeners set karna, etc.\n",
    "\n",
    "Dusra argument: A dependency array, jismein aap specify karte ho ke kaunse values ya state variables ke change hone par side effect run hoga. Agar ye array khali ho, toh side effect sirf component ke first render par chalega. Agar koi dependencies specified hain, toh side effect un dependencies ke change hone par execute hoga."
   ]
  },
  {
   "cell_type": "code",
   "execution_count": null,
   "id": "966b868c-0385-439e-852f-4c73b3238025",
   "metadata": {
    "vscode": {
     "languageId": "javascript"
    }
   },
   "outputs": [],
   "source": [
    "import React, { useState, useEffect } from 'react';\n",
    "\n",
    "function Example() {\n",
    "  const [count, setCount] = useState(0);\n",
    "\n",
    "  // Side effect: count update hone par console log\n",
    "  useEffect(() => {\n",
    "    console.log('Count has been updated:', count);\n",
    "  }, [count]); // Dependency array: count ke change hone par effect chalega\n",
    "\n",
    "  return (\n",
    "    <div>\n",
    "      <p>Count: {count}</p>\n",
    "      <button onClick={() => setCount(count + 1)}>Increment</button>\n",
    "    </div>\n",
    "  );\n",
    "}"
   ]
  },
  {
   "cell_type": "markdown",
   "id": "be5530fa-deb9-4c35-aadc-05c8b90a8661",
   "metadata": {},
   "source": [
    "* useEffect ko functional components mein lifecycle methods ko replace karne ke liye use kiya jata hai.\n",
    "* Agar aap dependency array mein empty array ([]) rakhte hain, toh effect sirf component ke first render par chalega.\n",
    "* Agar aap dependencies specify karte hain, toh effect un dependencies ke change hone par chalega.\n",
    "* Cleanup functions ko useEffect ke andar return statement se handle kiya ja sakta hai.\n",
    "* useEffect React mein lifecycle methods ka equivalent hai. Agar aapko componentDidMount, componentDidUpdate, ya componentWillUnmount ki tarah behavior chahiye ho, toh useEffect ko properly use kar sakte hain."
   ]
  },
  {
   "cell_type": "markdown",
   "id": "4d257712-e991-40f4-988f-e726ad644d13",
   "metadata": {},
   "source": [
    "##### useEffect ke kuch common use cases:-\n",
    "* Data Fetching\n",
    "* Event Listeners\n",
    "* Updating the Document Title\n",
    "* Cleanup Functions"
   ]
  },
  {
   "cell_type": "markdown",
   "id": "7ee3deff-bcb5-407f-8fa4-254ad2805dfb",
   "metadata": {},
   "source": [
    "# UseMemo Hook's"
   ]
  },
  {
   "cell_type": "markdown",
   "id": "111ad9db-d991-486d-bd88-e532ef57b6cc",
   "metadata": {},
   "source": [
    "useMemo React hook ka use component ke re-render ke dauran costly calculations ya functions ko optimize karne ke liye hota hai. Iska main purpose performance ko improve karna hai, taaki unnecessary re-renders ya recalculations na ho.\n",
    "\n",
    "Jab bhi kisi component ka state ya props change hota hai, to by default wo component re-render hota hai. Agar kisi specific calculation ko baar-baar dobara run karna ho, jo costly ho, to useMemo ka use karte hain taaki wo calculation sirf tab hi execute ho jab dependencies change hoti hain, na ki har re-render par."
   ]
  },
  {
   "cell_type": "markdown",
   "id": "6263bf66-4b98-47fe-89c7-e092aa23dfd8",
   "metadata": {},
   "source": [
    "##### useMemo ka kaam kis tarah se hota hai?\n",
    "useMemo ka primary purpose hota hai costly computations ko optimize karna. Agar aapke component me koi aisi calculation ho jo har render pe execute hoti ho, to us calculation ko useMemo ke andar wrap karke aap usse sirf tab run karwa sakte hain jab required dependencies change ho. Isse unnecessary calculations se bach jaate hain aur performance improve hoti hai."
   ]
  },
  {
   "cell_type": "markdown",
   "id": "ad5c9fe8-13aa-4080-9995-bd081cdd34bf",
   "metadata": {},
   "source": [
    "##### useMemo ka behaviour:\n",
    "Memoization ka matlab hai kisi value ko store karke rakhna, taki usse dobara calculate na karna pade jab tak us value ko forcefully re-compute karne ki zarurat na ho.\n",
    "\n",
    "Jab aap useMemo ko call karte hain, React dependency array ko monitor karta hai. Agar dependency array ke items (jaise count, text, etc.) me koi change hota hai, tabhi React useMemo ke andar di gayi function ko dobara execute karega. Agar dependencies me koi change nahi aata to React us value ko reuse karega jo pehle compute ki gayi thi."
   ]
  },
  {
   "cell_type": "markdown",
   "id": "8bdf3a82-8b98-4f5b-abca-9a45e7ba1f2e",
   "metadata": {},
   "source": [
    "#### useMemo ko kab use karein?\n",
    "Heavy Calculations: Agar aapka component me koi calculation ya function execution bohot heavy ho (e.g., sorting large arrays, filtering large datasets), to useMemo se us calculation ko optimize kar sakte hain.\n",
    "\n",
    "Re-render Optimization: Agar aapke component me kisi object ya array ka reference repeatedly change ho raha ho, to useMemo se aap us object ko stable rakh sakte hain. Iska matlab hai, object ya array ka reference wahi rahega jab tak uska actual content change na ho. Yeh React ke re-rendering ko optimize karta hai."
   ]
  },
  {
   "cell_type": "markdown",
   "id": "33be6311-dadf-4222-b2a8-5dd24616f68b",
   "metadata": {},
   "source": [
    "#### useMemo ka use kahan karein:\n",
    "Jab aapko kisi calculation ko memoize karna ho jo costly ho (e.g., loops, data processing).\n",
    "\n",
    "Jab aapko kisi object ya array ko memoize karna ho taaki unnecessary re-renders na ho."
   ]
  },
  {
   "cell_type": "code",
   "execution_count": null,
   "id": "ada38e79-5e59-47c2-becd-969a0a3255bb",
   "metadata": {
    "vscode": {
     "languageId": "javascript"
    }
   },
   "outputs": [],
   "source": [
    "#Syntax\n",
    "\n",
    "const sortedData = useMemo(() => {\n",
    " return expensiveSort(data);\n",
    "}, [data]);"
   ]
  },
  {
   "cell_type": "markdown",
   "id": "22788f0d-8d81-4674-b55b-81a5ab6ca703",
   "metadata": {},
   "source": [
    "#### useMemo vs useCallback:\n",
    "Agar aapko lagta hai ki aapko function ko memoize karna hai, to useMemo ka use kar sakte hain. Agar aapko specifically function ka reference memoize karna ho, to useCallback use karna better hota hai.\n",
    "\n",
    "* useMemo ko use karte hain jab aap kisi value ko memoize karna chahte hain.\n",
    "\n",
    "* useCallback ko use karte hain jab aapko ek function ko memoize karna ho."
   ]
  },
  {
   "cell_type": "code",
   "execution_count": null,
   "id": "4f736f18-3429-48de-82ce-5f22db415d73",
   "metadata": {
    "vscode": {
     "languageId": "javascript"
    }
   },
   "outputs": [],
   "source": [
    "// useCallback example\n",
    "const memoizedCallback = useCallback(() => {\n",
    "  console.log(\"This is memoized\");\n",
    "}, []);\n",
    "// Memoized function that doesn't change unless dependencies change."
   ]
  },
  {
   "cell_type": "markdown",
   "id": "4548a770-bdc1-439f-b758-332d11ca78bd",
   "metadata": {},
   "source": [
    "#### Jab useMemo ka use avoid karein:\n",
    "Agar aapko lagta hai ki optimization ke liye useMemo ko zaroori nahi hai, to isse avoid karein. React already kaafi optimizations karta hai.\n",
    "\n",
    "Agar aapke calculations ka impact bahut chhota hai (e.g., quick calculations ya simple rendering), to useMemo unnecessary ho sakta hai, aur ye extra complexity la sakta hai jo aapke code ko hard to maintain bana dega."
   ]
  },
  {
   "cell_type": "markdown",
   "id": "0f7f567a-ecb8-4884-b158-802f8ea4a9d8",
   "metadata": {},
   "source": [
    "#### Summary:\n",
    "useMemo ek powerful hook hai jo costly computations ko avoid karta hai aur performance ko optimize karta hai by memoizing values. Iska use aap tab karein jab aapko heavy calculations ya frequent re-renders ko optimize karna ho. Agar aap isse unnecessarily use karenge, to React ka internal optimization mechanism slow ho sakta hai."
   ]
  },
  {
   "cell_type": "markdown",
   "id": "e415e434-cb12-4301-83f9-6f7020ab482c",
   "metadata": {},
   "source": [
    "# UseRef Hook's"
   ]
  },
  {
   "cell_type": "markdown",
   "id": "2c6a9b06-d31a-48a5-bf28-b814ae5cb2b8",
   "metadata": {},
   "source": [
    "useRef React ka ek hook hai jo ek mutable reference object ko create karta hai jo component re-renders ke dauran preserve hota hai. Iska main use case DOM elements ko reference dena aur unki values ko track karna hai without causing re-renders."
   ]
  },
  {
   "cell_type": "code",
   "execution_count": null,
   "id": "c708e4a1-3810-471e-aabb-d166c0042df4",
   "metadata": {
    "vscode": {
     "languageId": "javascript"
    }
   },
   "outputs": [],
   "source": [
    "#Syntax\n",
    "import { useRef } from 'react';\n",
    "\n",
    "function MyComponent() {\n",
    " const latestScore = useRef(0);\n",
    " \n",
    " // Updating the latestScore\n",
    " latestScore.current = 100;\n",
    " \n",
    " // Accessing the latestScre\n",
    " console.log('Latest Score:', latestScore.current);\n",
    " \n",
    " return (\n",
    " <div>\n",
    " {/* Your component JSX */}\n",
    " </div>\n",
    " );\n",
    "}"
   ]
  },
  {
   "cell_type": "markdown",
   "id": "957e5274-cf8e-47dd-8702-86a433d37185",
   "metadata": {},
   "source": [
    "#### useRef ka use:\n",
    "DOM elements ko reference dena: Agar aapko kisi DOM element ko directly access karna ho (e.g., ek input field), to useRef ka use kiya jaata hai.\n",
    "\n",
    "Persisting values across renders: useRef ko aap kisi value ko store karne ke liye bhi use kar sakte hain jo render ke dauran change hoti hai, lekin re-render nahi chahte."
   ]
  },
  {
   "cell_type": "markdown",
   "id": "b24da625-fe76-4f4d-8c17-08c4041ea2b3",
   "metadata": {},
   "source": [
    "##### DOM Reference ke liye:\n",
    "Agar aapko kisi DOM element ko directly access karna hai, jaise ek input box ya button, to useRef bahut useful hota hai. React me ref ek aisa object hai jo DOM element ko point karta hai. useRef hook usi ref ko create karne ka kaam karta hai."
   ]
  },
  {
   "cell_type": "code",
   "execution_count": null,
   "id": "bdde5591-a51f-45a3-9c83-a70dc2fdb865",
   "metadata": {
    "vscode": {
     "languageId": "javascript"
    }
   },
   "outputs": [],
   "source": [
    "import React, { useRef } from 'react';\n",
    "\n",
    "function MyComponent() {\n",
    "  const inputRef = useRef();\n",
    "\n",
    "  const focusInput = () => {\n",
    "    // Directly accessing the input element using ref\n",
    "    inputRef.current.focus();\n",
    "  };\n",
    "\n",
    "  return (\n",
    "    <div>\n",
    "      <input ref={inputRef} type=\"text\" />\n",
    "      <button onClick={focusInput}>Focus the input</button>\n",
    "    </div>\n",
    "  );\n",
    "}"
   ]
  },
  {
   "cell_type": "markdown",
   "id": "173d26ce-350d-4b9d-8212-6ca59b05959c",
   "metadata": {},
   "source": [
    "Yahan, inputRef.current se hum directly input element ko access kar rahe hain, aur button click par usse focus kar rahe hain. Yeh inputRef.current me direct reference hai input field ka."
   ]
  },
  {
   "cell_type": "markdown",
   "id": "aa539a5b-23f1-42fd-b2a3-e6b8a8bad2ea",
   "metadata": {},
   "source": [
    "##### State Preservation Without Re-rendering:\n",
    "Jab aapko kisi value ko track karna ho jo baar-baar update ho, lekin aap nahi chahte ki component dobara render ho, tab useRef useful hota hai. Jaise ki agar aapko kisi value ko track karna ho jo ek event ya timer ke through change ho rahi ho, to aap useRef ka use kar sakte hain."
   ]
  },
  {
   "cell_type": "code",
   "execution_count": null,
   "id": "c6b394dc-c2bb-4979-8c62-29a7d6c438b5",
   "metadata": {
    "vscode": {
     "languageId": "javascript"
    }
   },
   "outputs": [],
   "source": [
    "import React, { useState, useEffect, useRef } from 'react';\n",
    "\n",
    "function TimerComponent() {\n",
    "  const [time, setTime] = useState(0);\n",
    "  const previousTimeRef = useRef();\n",
    "\n",
    "  useEffect(() => {\n",
    "    previousTimeRef.current = time;\n",
    "  }, [time]);\n",
    "\n",
    "  return (\n",
    "    <div>\n",
    "      <p>Current Time: {time}</p>\n",
    "      <p>Previous Time: {previousTimeRef.current}</p>\n",
    "      <button onClick={() => setTime(time + 1)}>Increment Time</button>\n",
    "    </div>\n",
    "  );\n",
    "}"
   ]
  },
  {
   "cell_type": "markdown",
   "id": "e748aabe-1f2c-4940-aa20-03228dd00554",
   "metadata": {},
   "source": [
    "Yahan, previousTimeRef useRef se banaya gaya hai aur usme previous time value store ki ja rahi hai. Jab bhi time update hota hai, previousTimeRef.current ko update kiya jata hai, lekin component ko dobara render nahi karna padta."
   ]
  },
  {
   "cell_type": "markdown",
   "id": "b41a0f2c-d2a6-417b-8f15-1c74d6b01761",
   "metadata": {},
   "source": [
    "##### Key Points:\n",
    "\n",
    "* Initial Value: useRef ko ek initial value di ja sakti hai (optional), jo initial render ke waqt reference object me stored hoti hai.\n",
    "\n",
    "* Preserving State: useRef se jo reference object milta hai, uska current property value ko store karta hai. Agar current ko update karte ho, to component re-render nahi hota.\n",
    "\n",
    "* No Re-renders: Agar ref object ki current property ko update kiya jata hai, to component re-render nahi hota."
   ]
  },
  {
   "cell_type": "markdown",
   "id": "d34fdb0f-e5aa-4088-a34b-3b84843c82d0",
   "metadata": {},
   "source": [
    "##### Summary:\n",
    "* useRef ek hook hai jo ek mutable reference object create karta hai.\n",
    "* DOM elements ko reference dena aur state ko track karna without re-rendering ke liye use hota hai.\n",
    "* useRef ko event listeners ya animations me bhi use kiya ja sakta hai.\n",
    "* Ye state ki tarah kaam karta hai, lekin ref me update hone par component re-render nahi hota.\n",
    "* State ko track kar sakte ho bina component ko re-render kiye."
   ]
  },
  {
   "cell_type": "markdown",
   "id": "38afb73b-c756-42d8-be16-11306d356f1e",
   "metadata": {},
   "source": [
    "useRef() reactJs interview mai puch le toh ab easily samjha dena interviewer ko\n",
    "\n",
    "useRef ek React hook hai jo humein allows karta hai ki hum kisi component mein ek persistent value ko store kar sake, jo render hone ke bawajood change nahi hota.\n",
    "\n",
    "Real-Life Example: Imagine a cricket match! Jab hum scoreboard dekhte hain, waha current score dikhta hai, lekin last wicket jo gira tha, woh bhi important hota hai. Yahi useRef humein karta hai! Woh store karta hai last wicket ka information jab tak humein zarurat ho.\n",
    "\n",
    "Machine-Level Impact: Machine level mein, useRef hamare components ko ek aisa \"sticky note\" provide karta hai jisme hum extra information rakhte hain, jo render hote samay change nahi hoti. Isse performance bhi improve hoti hai!"
   ]
  },
  {
   "cell_type": "markdown",
   "id": "9bf0b044-0ee7-4790-abee-1f24a75caeaf",
   "metadata": {},
   "source": [
    "### useRef vs useState:\n",
    "useState: Jab aap state update karte ho, to component re-render hota hai. State ko UI se link kiya ja sakta hai.\n",
    "\n",
    "useRef: Jab aap ref ko update karte ho, to component re-render nahi hota. ref mostly DOM se related hota hai ya aise values ko store karta hai jo UI se directly related nahi hoti."
   ]
  },
  {
   "cell_type": "code",
   "execution_count": null,
   "id": "50ef62c5-a741-408d-86d8-d21f4ed4c2d2",
   "metadata": {
    "vscode": {
     "languageId": "javascript"
    }
   },
   "outputs": [],
   "source": [
    "import React, { useRef } from 'react';\n",
    "\n",
    "function MyComponent() {\n",
    "  const inputRef = useRef();\n",
    "\n",
    "  const focusInput = () => {\n",
    "    // Ref se input ko focus karo\n",
    "    inputRef.current.focus();\n",
    "  };\n",
    "\n",
    "  return (\n",
    "    <div>\n",
    "      <input ref={inputRef} type=\"text\" />\n",
    "      <button onClick={focusInput}>Focus the input</button>\n",
    "    </div>\n",
    "  );\n",
    "}"
   ]
  },
  {
   "cell_type": "markdown",
   "id": "b22a2d32-b294-46e0-9e69-0012eeba4702",
   "metadata": {},
   "source": [
    "`Explanation: inputRef ke through aap direct input field ko access karte ho aur button click karte hi input ko focus karte ho. Yeh inputRef.current ke through hota hai.`"
   ]
  },
  {
   "cell_type": "markdown",
   "id": "1e33fe13",
   "metadata": {},
   "source": [
    "# What is conditional rendering in React?\n"
   ]
  },
  {
   "cell_type": "markdown",
   "id": "4f865959",
   "metadata": {},
   "source": [
    "Conditional rendering React mein ek technique hai jisme component user ke action, state ya kisi condition ke base par alag-alag output dikhata hai. Matlab, React dynamically decide karta hai ki kaunsa element ya component render karna hai."
   ]
  },
  {
   "cell_type": "markdown",
   "id": "2c0c3281",
   "metadata": {},
   "source": [
    "### If-else condition ka use:"
   ]
  },
  {
   "cell_type": "code",
   "execution_count": null,
   "id": "19dca0bb",
   "metadata": {
    "vscode": {
     "languageId": "javascript"
    }
   },
   "outputs": [],
   "source": [
    "function Greeting(props) {\n",
    "  if (props.isLoggedIn) {\n",
    "    return <h1>Welcome back!</h1>;\n",
    "  } else {\n",
    "    return <h1>Please sign in.</h1>;\n",
    "  }\n",
    "}"
   ]
  },
  {
   "cell_type": "markdown",
   "id": "b8705f09",
   "metadata": {},
   "source": [
    "### Ternary operator (Short form of if-else):\n"
   ]
  },
  {
   "cell_type": "code",
   "execution_count": null,
   "id": "c9a23dee",
   "metadata": {
    "vscode": {
     "languageId": "javascript"
    }
   },
   "outputs": [],
   "source": [
    "function Greeting(props) {\n",
    "  return (\n",
    "    <h1>{props.isLoggedIn ? \"Welcome back!\" : \"Please sign in.\"}</h1>\n",
    "  );\n",
    "}"
   ]
  },
  {
   "cell_type": "markdown",
   "id": "e24c3f45",
   "metadata": {},
   "source": [
    "### Logical AND (&&) operator:"
   ]
  },
  {
   "cell_type": "code",
   "execution_count": null,
   "id": "264f7b2c",
   "metadata": {
    "vscode": {
     "languageId": "javascript"
    }
   },
   "outputs": [],
   "source": [
    "function Notification(props) {\n",
    "  return (\n",
    "    <div>\n",
    "      {props.hasNotification && <p>You have new messages!</p>}\n",
    "    </div>\n",
    "  );\n",
    "}"
   ]
  },
  {
   "cell_type": "markdown",
   "id": "4673c06c",
   "metadata": {},
   "source": [
    "#### Real-life Example:\n",
    "\n",
    "Agar ek login system banana ho jisme button ka text \"Login\" ya \"Logout\" user ke status ke base par change ho"
   ]
  },
  {
   "cell_type": "code",
   "execution_count": null,
   "id": "367f187a",
   "metadata": {
    "vscode": {
     "languageId": "javascript"
    }
   },
   "outputs": [],
   "source": [
    "function LoginButton(props) {\n",
    "  return <button onClick={props.onClick}>Login</button>;\n",
    "}\n",
    "\n",
    "function LogoutButton(props) {\n",
    "  return <button onClick={props.onClick}>Logout</button>;\n",
    "}\n",
    "\n",
    "function UserControl(props) {\n",
    "  const [isLoggedIn, setIsLoggedIn] = React.useState(false);\n",
    "\n",
    "  const handleLogin = () => setIsLoggedIn(true);\n",
    "  const handleLogout = () => setIsLoggedIn(false);\n",
    "\n",
    "  return (\n",
    "    <div>\n",
    "      {isLoggedIn ? (\n",
    "        <LogoutButton onClick={handleLogout} />\n",
    "      ) : (\n",
    "        <LoginButton onClick={handleLogin} />\n",
    "      )}\n",
    "    </div>\n",
    "  );\n",
    "}"
   ]
  },
  {
   "cell_type": "markdown",
   "id": "62b5e497",
   "metadata": {},
   "source": [
    "# What are the differences between React and Angular/Vue?\n"
   ]
  },
  {
   "cell_type": "markdown",
   "id": "1e8deaef",
   "metadata": {},
   "source": [
    "| **Aspect**            | **React**                               | **Angular**                                |\n",
    "| --------------------- | --------------------------------------- | ------------------------------------------ |\n",
    "| **Type**              | Library for building UI components      | Full-fledged MVC framework                 |\n",
    "| **Language**          | JavaScript + JSX                        | TypeScript                                 |\n",
    "| **Architecture**      | Component-based                         | Component-based, MVVM                      |\n",
    "| **DOM Handling**      | Virtual DOM                             | Real DOM with Zone.js for change detection |\n",
    "| **Data Binding**      | One-way (Unidirectional)                | Two-way and One-way                        |\n",
    "| **State Management**  | Redux, Context API, MobX (Third-party)  | In-built (RxJS + Services)                 |\n",
    "| **Routing**           | React Router (Third-party)              | In-built (Angular Router)                  |\n",
    "| **Performance**       | High (Efficient reconciliation)         | Medium (Change detection overhead)         |\n",
    "| **Learning Curve**    | Moderate (JSX + State Management)       | Steep (TypeScript, Dependency Injection)   |\n",
    "| **Size**              | Lightweight (\\~42KB)                    | Heavy (\\~500KB)                            |\n",
    "| **Ecosystem**         | Flexible, relies on third-party tools   | Complete solution, all in-built            |\n",
    "| **Scalability**       | Excellent for large apps (customizable) | Ideal for enterprise-level apps            |\n",
    "| **Community Support** | Large (Backed by Meta/Facebook)         | Large (Backed by Google)                   |\n",
    "| **Use Cases**         | SPAs, Dashboards, Real-time Apps        | Enterprise-scale apps, Complex apps        |\n",
    "| **Examples**          | Facebook, Instagram, Airbnb             | Google products, Upwork                    |\n"
   ]
  },
  {
   "cell_type": "markdown",
   "id": "d9b33016",
   "metadata": {},
   "source": [
    "#### React Highlights:\n",
    "\n",
    "Virtual DOM: Ensures faster UI updates by reconciling changes.\n",
    "\n",
    "Unidirectional Data Flow: Makes it predictable and debuggable.\n",
    "\n",
    "Flexibility: Requires third-party tools for routing, state management, etc.\n",
    "\n",
    "JSX Syntax: Combines HTML and JavaScript, making it powerful yet a bit tricky to learn.\n",
    "\n",
    "#### Angular Highlights:\n",
    "\n",
    "TypeScript: Provides strong typing and better tooling.\n",
    "\n",
    "Two-way Binding: Simplifies UI updates with real-time synchronization.\n",
    "\n",
    "In-built Features: Everything is provided out-of-the-box, including HTTP, forms, routing, etc.\n",
    "\n",
    "Change Detection: Uses Zone.js for monitoring asynchronous tasks, which can affect performance in large apps."
   ]
  }
 ],
 "metadata": {
  "kernelspec": {
   "display_name": "Python 3 (ipykernel)",
   "language": "python",
   "name": "python3"
  },
  "language_info": {
   "codemirror_mode": {
    "name": "ipython",
    "version": 3
   },
   "file_extension": ".py",
   "mimetype": "text/x-python",
   "name": "python",
   "nbconvert_exporter": "python",
   "pygments_lexer": "ipython3",
   "version": "3.12.6"
  }
 },
 "nbformat": 4,
 "nbformat_minor": 5
}
