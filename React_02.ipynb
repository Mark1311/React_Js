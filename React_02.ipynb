{
 "cells": [
  {
   "cell_type": "markdown",
   "id": "04253589-9479-41a8-90e6-591b6a7950ca",
   "metadata": {},
   "source": [
    "# Promise:-"
   ]
  },
  {
   "cell_type": "markdown",
   "id": "4da3e642-8267-4e29-951a-6e0b6b6912a5",
   "metadata": {},
   "source": [
    "Imagine aapke paas ek magic lamp hai jisme ek genie (Promise) rehta hai. Ab jab aap us genie ko bulane ki koshish karte ho (promise call karte ho), toh genie turant kaam nahi karta. Genie aapko kehta hai, “Chill karo, mai kaam kar raha hoon, thoda time lagega.”\n",
    "\n",
    "* Step 1: Promise is called\n",
    "Jab aap ek promise banate ho, toh browser ko ek kaam diya jata hai jo future mein hoga. Samjho aapne ek ice cream order ki (yeh promise call hai). Lekin ice cream toh abhi milne waali nahi hai, toh aap wait karte ho.\n",
    "Is samay, aapka browser bolega \"OK bhai, yeh kaam pending hai.\" Browser ke andar ek special system hota hai jisko event loop kehte hain. Yeh event loop track karta hai ki kaunse kaam abhi pending hain aur kaunse complete ho gaye hain.\n",
    "\n",
    "* Step 2: Promise is pending\n",
    "Abhi tak, ice cream nahi aayi hai, toh browser kehta hai yeh promise “pending” state mein hai. Matlab kaam ho raha hai, lekin abhi tak complete nahi hua. Aap chill kar rahe ho aur doosre kaam kar rahe ho, jaise TV dekh rahe ho.\n",
    "Browser ke andar, JavaScript ko ek call stack mein daal diya jata hai jab wo ek promise ko execute karta hai. Lekin promise ka actual kaam call stack se nikal kar ek alag jagah chale jata hai jisko Web APIs bolte hain. Yeh Web APIs ka system kaam ko parallelly handle karta hai, taaki aapke browser mein aur kaam ruk na jaye.\n",
    "\n",
    "* Step 3: Job Queue\n",
    "Jab browser ko pata chal jata hai ki ice cream ready hone wali hai, toh wo ek queue mein (isko microtask queue ya job queue bolte hain) kaam ko daal deta hai. Job queue mein wo kaam hota hai jo promises ya microtasks ke liye ready hota hai.\n",
    "\n",
    "* Step 4: Promise Resolved or Rejected\n",
    "Ab genie apna kaam complete karta hai aur ice cream deliver ho jaati hai. Ab yeh promise \"resolved\" ho gaya hai. Agar kuch gadbad hoti hai, jaise ice cream gir gayi, toh yeh promise \"rejected\" ho jayega.\n",
    "Jab promise resolved ho jaata hai, event loop check karta hai ki job queue mein koi kaam pending hai kya. Agar kuch hai, toh browser use utha ke execute karta hai. Aapko ice cream mil jaati hai (promise fulfilled), ya phir aapko bataya jaata hai ki ice cream nahi aayi (promise rejected).\n"
   ]
  },
  {
   "cell_type": "markdown",
   "id": "551ffe20-4aaf-4a1f-8a25-9be16432dbd1",
   "metadata": {},
   "source": [
    "# Conditional Handeling"
   ]
  },
  {
   "cell_type": "markdown",
   "id": "372f1149-501c-4e0b-8eff-d78e65556037",
   "metadata": {},
   "source": [
    "Conditional handling in React refers to the practice of rendering different UI elements based on certain conditions. It allows developers to display content dynamically based on a state, props, or any other conditions that change during the app’s lifecycle."
   ]
  },
  {
   "cell_type": "code",
   "execution_count": null,
   "id": "5c91e9b0-723e-4c0a-b0d2-f8d2f75c959a",
   "metadata": {},
   "outputs": [],
   "source": [
    "##### Using if statements:\n",
    "\n",
    "function Welcome(props) {\n",
    "  if (props.isLoggedIn) {\n",
    "    return <h1>Welcome back!</h1>;\n",
    "  } else {\n",
    "    return <h1>Please sign up.</h1>;\n",
    "  }\n",
    "}\n",
    "\n",
    "##### Using Ternary Operators:\n",
    "\n",
    "function Welcome(props) {\n",
    "  return (\n",
    "    <h1>{props.isLoggedIn ? 'Welcome back!' : 'Please sign up.'}</h1>\n",
    "  );\n",
    "}\n",
    "\n",
    "##### Using Logical && Operator\n",
    "\n",
    "function Greeting(props) {\n",
    "  return (\n",
    "    <div>\n",
    "      {props.isLoggedIn && <h1>Welcome back!</h1>}\n",
    "    </div>\n",
    "  );\n",
    "}"
   ]
  },
  {
   "cell_type": "markdown",
   "id": "2960d189-b237-4c2f-8d45-cd63975e4be9",
   "metadata": {},
   "source": [
    "# useReducer Hook's"
   ]
  },
  {
   "cell_type": "markdown",
   "id": "135eb7c9-4721-43a5-b83b-21c4ff423e68",
   "metadata": {},
   "source": [
    "useReducer React ka ek hook hai jo state management ke liye use hota hai, khaas kar jab aapko complex state logic ko handle karna ho, ya jab aapko ek se zyada values ko ek saath manage karna ho ek single state object mein.\n",
    "\n",
    "Jab aapko useState ke sath state ko update karne ki zarurat ho, to aap simple updates ke liye use karte hain. Lekin agar aapko ek complex state ko multiple actions ke through manage karna ho, jaise kisi state ko ek sequence of actions ke through update karna, to useReducer ka use hota hai."
   ]
  },
  {
   "cell_type": "code",
   "execution_count": null,
   "id": "f8c7ef93-afb2-4b8f-8675-b3aea681e8e1",
   "metadata": {},
   "outputs": [],
   "source": [
    "#Syntax:-\n",
    "\n",
    "const [state, dispatch] = useReducer(reducer, initialState);"
   ]
  },
  {
   "cell_type": "markdown",
   "id": "b2d28e76-37bb-4666-b80c-7785744a2195",
   "metadata": {},
   "source": [
    "* state: Yeh wo current state hoti hai jo aapke component mein hoti hai.\n",
    "* dispatch: Yeh ek function hai jo actions ko trigger karta hai jisse state update hoti hai.\n",
    "* reducer: Yeh ek function hai jo state aur action ko input leta hai aur ek naya state return karta hai.\n",
    "* initialState: Yeh wo initial state hoti hai jo component pehli baar render hota waqt set hoti hai."
   ]
  },
  {
   "cell_type": "markdown",
   "id": "075cbd3d-6489-42eb-b991-cf0170c1efae",
   "metadata": {},
   "source": [
    "##### Key Points:\n",
    "* useReducer ko complex state updates handle karne ke liye use kiya jata hai.\n",
    "* Yeh ek reducer function use karta hai jo state aur action ko accept karke naya state return karta hai.\n",
    "* dispatch function actions ko trigger karta hai, jo reducer ke through state ko update karta hai."
   ]
  },
  {
   "cell_type": "markdown",
   "id": "1e32c76c-9720-4d3b-8d97-532f8dea956c",
   "metadata": {},
   "source": [
    "React mein useState() toh sabko pata hai, right? But jab state ka structure thoda heavy ho, ya actions multiple hon ya complex ho, tab useReducer() hero ban ke aata hai! \n",
    "\n",
    "Imagine karo, tumhare ghar mein ek almari hai (state) jisme bahut saare compartments hain (different pieces of state). Ab agar tum har ek compartment ko alag key se unlock kar rahe ho (useState()), toh cheezein thodi messy ho sakti hain. Isliye hum useReducer() ko bulaate hain, jo ek saath ek \"remote\" de deta hai. Bas ek button press karo, aur desired action perform ho jaaye! \n",
    "\n",
    "Toh exactly hota kya hai?\n",
    "\n",
    "1. Reducer Function: Ek function jo decide karega ki kaunsi action ka result kya hoga. Jaise ek manager jo sab decisions le raha ho.\n",
    "\n",
    "2. Dispatch: Tumhara ek command center jahan se tum batate ho kya karna hai, action type bhejke.\n",
    "\n",
    "Ab samjho ki tum ek form banate ho, jisme user ka naam, email, aur address store karna hai. Sab ke liye useState() lagane ki jagah, tum ek useReducer() use kar sakte ho, jo action ke hisaab se saari state ko manage karega.\n",
    "\n",
    "useReducer() basically kaam karta hai jab tumhare pass zyada complex state management ho, ya jab tumhe alag-alag actions perform karni ho, jaise ek restaurant mein waiter ko alag-alag tables ka order dena ho. \n"
   ]
  },
  {
   "cell_type": "markdown",
   "id": "f2671432-0383-466d-96ea-1dd460f13969",
   "metadata": {},
   "source": [
    "# useCallback Hook's"
   ]
  },
  {
   "cell_type": "markdown",
   "id": "1d2fdd74-4a27-4057-ba4c-83de59c68676",
   "metadata": {},
   "source": [
    "useCallback ek React hook hai jo function references ko memoize karne ke liye use hota hai, jisse unnecessary re-renders ko avoid kiya jaa sakta hai. Jab bhi aap kisi function ko component ke andar define karte hain, wo har render par nayi reference create karta hai, jo React ko lagta hai ke wo function change ho gaya hai, aur iske kaaran component ko unnecessary re-render karna padta hai.\n",
    "\n",
    "useCallback hook, function ke reference ko memoize karke is problem ko solve karta hai. Jab function ka dependency change nahi hota, to wo same reference return karta hai, jisse React ko unnecessary re-renders ka pata nahi chalta."
   ]
  },
  {
   "cell_type": "code",
   "execution_count": null,
   "id": "63bb04a0-8a27-46e6-956d-761fdc70f7f1",
   "metadata": {},
   "outputs": [],
   "source": [
    "## Syntax:-\n",
    "\n",
    "const memoizedCallback = useCallback(() => {\n",
    "  // function logic\n",
    "}, [dependencies]);\n"
   ]
  },
  {
   "cell_type": "markdown",
   "id": "59df136a-bf0a-41d3-b642-1d085111f7ba",
   "metadata": {},
   "source": [
    "##### Kab use karein useCallback?\n",
    "Agar aapke paas callback functions hain jo child components ko pass kiye ja rahe hain, aur aap nahi chahte ki wo child components har render pe re-render ho.\n",
    "\n",
    "Jab aapke function ke dependencies nahi badal rahe ho, tab useCallback ka use karke aap function ko memoize kar sakte hain, taake unnecessary re-renders avoid ho sakein."
   ]
  },
  {
   "cell_type": "markdown",
   "id": "aaec37b0-39f7-4a87-90ae-489f40d6a733",
   "metadata": {},
   "source": [
    "##### useCallback ka basic concept:\n",
    "Jab aap kisi function ko component ke andar define karte hain, wo function har baar re-render hone par naya reference bana leta hai. Agar aapne wo function kisi child component ko pass kiya ho, to child component ko har re-render par lagta hai ki us function ka reference change ho gaya hai, aur isliye wo child component bhi re-render ho jata hai. Yeh unnecessary re-renders performance ko slow kar sakte hain, khaas kar jab aapke paas complex components ho ya un components ko frequently re-render kiya jata ho.\n",
    "\n",
    "##### useCallback ka main kaam hai:\n",
    "\n",
    "* Function ka reference memoize karna, yaani agar us function ka dependency change nahi hua hai, to wo same reference ko return karega.\n",
    "\n",
    "* Isse aap unnecessary re-renders avoid kar sakte hain, aur performance improve hoti hai.\n",
    "\n",
    "##### useCallback ka Kaise kaam karta hai?\n",
    "Jab aap useCallback ko use karte hain, to yeh function ko memoize karta hai. Aur jab tak aapke useCallback ke dependency array mein koi change nahi hota, tab tak function ka reference same rahega"
   ]
  },
  {
   "cell_type": "markdown",
   "id": "2363eff2-0384-4668-9b98-e24c2e869465",
   "metadata": {},
   "source": [
    "#### Real-World Example:\n",
    "Maan lijiye aapke paas ek large form hai jisme multiple input fields hain, aur har input field apne aap mein ek component hai. Har input field ke saath ek callback function attached hai jo form ke state ko update karta hai.\n",
    "\n",
    "Agar aap har input ke function ko bina useCallback ke pass karte hain, to har re-render pe functions ka naya reference create hoga, jisse form ke components unnecessarily re-render honge. Is situation mein useCallback ka use karke aap unnecessary re-renders ko avoid kar sakte hain aur app ki performance ko optimize kar sakte hain."
   ]
  },
  {
   "cell_type": "markdown",
   "id": "0654475a-9d45-4c69-b2d1-2547a62f4050",
   "metadata": {},
   "source": [
    "# Example:-"
   ]
  },
  {
   "cell_type": "code",
   "execution_count": null,
   "id": "12a1fd5a-570b-46e3-8d61-6164337b8304",
   "metadata": {},
   "outputs": [],
   "source": [
    "# Example without useCallback:-\n",
    "\n",
    "import React, { useState } from 'react';\n",
    "\n",
    "function Counter() {\n",
    "  const [count, setCount] = useState(0);\n",
    "\n",
    "  // Simple function to increment the count\n",
    "  const increment = () => {\n",
    "    setCount(count + 1);\n",
    "  };\n",
    "\n",
    "  return (\n",
    "    <div>\n",
    "      <p>Count: {count}</p>\n",
    "      <button onClick={increment}>Increment</button>\n",
    "    </div>\n",
    "  );\n",
    "}\n",
    "\n",
    "export default Counter;"
   ]
  },
  {
   "cell_type": "code",
   "execution_count": null,
   "id": "f5df4cda-ed41-4fe8-aaa0-a61726976064",
   "metadata": {},
   "outputs": [],
   "source": [
    "# Example with useCallback:-\n",
    "\n",
    "import React, { useState, useCallback } from 'react';\n",
    "\n",
    "function Counter() {\n",
    "  const [count, setCount] = useState(0);\n",
    "\n",
    "  // Memoize the increment function using useCallback\n",
    "  const increment = useCallback(() => {\n",
    "    setCount(count + 1);\n",
    "  }, [count]); // Dependency array\n",
    "\n",
    "  return (\n",
    "    <div>\n",
    "      <p>Count: {count}</p>\n",
    "      <button onClick={increment}>Increment</button>\n",
    "    </div>\n",
    "  );\n",
    "}\n",
    "\n",
    "export default Counter;"
   ]
  },
  {
   "cell_type": "markdown",
   "id": "2a0af09d-628c-4cdc-a424-2b81ca508ca0",
   "metadata": {},
   "source": [
    "##### Kya changes kiye?\n",
    "* Humne increment function ko useCallback ke andar wrap kiya.\n",
    "* useCallback function ko ek dependency array diya ([count]), jo batata hai ki jab count change hoga, tabhi increment function ko update karna hai.\n",
    "* Ab, jab tak count value change nahi hoti, increment function ka reference same rahega, aur unnecessary re-renders nahi honge.\n",
    "\n",
    "##### Difference:\n",
    "* Without useCallback: Har render par naya function create hota hai.\n",
    "* With useCallback: Function ka reference memoize ho jaata hai aur unnecessary re-renders avoid hote hain."
   ]
  },
  {
   "cell_type": "markdown",
   "id": "85e50f27-653a-41ca-ba6c-9d82f8246d7c",
   "metadata": {},
   "source": [
    "# UseNavigate Hook's"
   ]
  },
  {
   "cell_type": "markdown",
   "id": "35ea9adf-c4ee-4eca-bd1b-212799ef9974",
   "metadata": {},
   "source": [
    "useNavigate hook React Router v6 mein introduced hua hai. Ye hook aapko programmatically navigation (routing) karne ki suvidha deta hai. Iska use aap React components ke andar kar sakte hain, jab aapko user ko ek route se dusre route par le jana ho bina traditional <a> tag ya Link component ke.\n",
    "\n",
    "Jab aap useNavigate ko call karte hain, ye aapko ek navigate function deta hai, jo aapko specific route par navigate karne mein help karta hai."
   ]
  },
  {
   "cell_type": "code",
   "execution_count": null,
   "id": "1645276f-9b15-4eb1-a9fe-c4fa328d50ec",
   "metadata": {},
   "outputs": [],
   "source": [
    "import React from 'react';\n",
    "import { useNavigate } from 'react-router-dom';\n",
    "\n",
    "const MyComponent = () => {\n",
    "  const navigate = useNavigate();\n",
    "\n",
    "  const handleClick = () => {\n",
    "    // Programmatically navigate to the '/home' route\n",
    "    navigate('/home');\n",
    "  };\n",
    "\n",
    "  return (\n",
    "    <div>\n",
    "      <button onClick={handleClick}>Go to Home</button>\n",
    "    </div>\n",
    "  );\n",
    "};\n",
    "\n",
    "export default MyComponent;\n"
   ]
  },
  {
   "cell_type": "code",
   "execution_count": null,
   "id": "6af9e94f-2a95-4727-ae13-b03d70ab6abc",
   "metadata": {},
   "outputs": [],
   "source": [
    "* useNavigate() hook se navigate function milta hai.\n",
    "* Jab user button click karega, navigate('/home') function call hota hai, jo /home route par navigate kar deta hai."
   ]
  },
  {
   "cell_type": "code",
   "execution_count": null,
   "id": "bd385f54-ab8d-4dd4-ba8b-b7bd3c932670",
   "metadata": {},
   "outputs": [],
   "source": [
    "# Syntax:-\n",
    "\n",
    "const navigate = useNavigate();\n",
    "navigate('/path');"
   ]
  },
  {
   "cell_type": "markdown",
   "id": "d9b816c8-aae2-4217-98e4-e5fbdffaf63f",
   "metadata": {},
   "source": [
    "### React-router or useNavigate me kya diff:-"
   ]
  },
  {
   "cell_type": "code",
   "execution_count": null,
   "id": "c217d651-7adb-4fc4-955c-33010ac3eaa7",
   "metadata": {},
   "outputs": [],
   "source": [
    "##### React Router:\n",
    "React Router ek library hai jo aapko client-side routing ki suvidha deti hai React applications mein. Iska main kaam URLs ko handle karna hai, jaise ki aap different components ko URL ke hisaab se render kar sakein bina page ko reload kiye.\n",
    "\n",
    "React Router mein Route, BrowserRouter, Link, aur Outlet jaise components hote hain jo routing ko manage karte hain."
   ]
  },
  {
   "cell_type": "code",
   "execution_count": null,
   "id": "31f68a3f-2657-4e99-a64c-21a9e57b5977",
   "metadata": {},
   "outputs": [],
   "source": [
    "import { BrowserRouter as Router, Route, Routes } from 'react-router-dom';\n",
    "\n",
    "const App = () => (\n",
    "  <Router>\n",
    "    <Routes>\n",
    "      <Route path=\"/\" element={<Home />} />\n",
    "      <Route path=\"/about\" element={<About />} />\n",
    "    </Routes>\n",
    "  </Router>\n",
    ");\n"
   ]
  },
  {
   "cell_type": "code",
   "execution_count": null,
   "id": "4477b829-87b6-4582-a4ee-a5e22d8df446",
   "metadata": {},
   "outputs": [],
   "source": [
    "##### useNavigate:\n",
    "useNavigate ek hook hai jo React Router v6 ka part hai. Ye aapko programmatically navigation karne ki suvidha deta hai. Matlab agar aapko kisi event (button click, form submit, etc.) ke basis par routing karni ho, toh aap useNavigate hook ka use karte hain.\n",
    "\n",
    "React Router ka useNavigate hook aapko ek navigate function deta hai, jiska use aap specific route pe navigate karne ke liye kar sakte hain."
   ]
  },
  {
   "cell_type": "code",
   "execution_count": null,
   "id": "a6c3f092-ea5f-4d65-9ed6-0aba85b05f11",
   "metadata": {},
   "outputs": [],
   "source": [
    "import { useNavigate } from 'react-router-dom';\n",
    "\n",
    "const MyComponent = () => {\n",
    "  const navigate = useNavigate();\n",
    "\n",
    "  const handleClick = () => {\n",
    "    // Programmatically navigate to the '/about' route\n",
    "    navigate('/about');\n",
    "  };\n",
    "\n",
    "  return <button onClick={handleClick}>Go to About</button>;\n",
    "};"
   ]
  },
  {
   "cell_type": "markdown",
   "id": "3c7c13ac-23e0-4bf0-983f-4ab24f4fc293",
   "metadata": {},
   "source": [
    "##### Summary of the Difference:\n",
    "1.React Router ek routing library hai jo URLs aur components ko handle karta hai.\n",
    "* Routes ko define karta hai jaise <Route path=\"/about\" element={<About />} />.\n",
    "* Aap URL ke basis par components render karne ke liye use karte hain.\n",
    "\n",
    "2. useNavigate ek hook hai jo React Router v6 ka part hai aur aapko programmatically navigate karne ki suvidha deta hai.\n",
    "* Aap button click, form submission, ya kisi other event ke basis par route change karne ke liye use karte hain."
   ]
  },
  {
   "cell_type": "markdown",
   "id": "3be6a695-12aa-4250-bf4d-d11c71e94b98",
   "metadata": {},
   "source": [
    "`// Use this to go back to previeous page or \n",
    "location navigate(-1);`"
   ]
  },
  {
   "cell_type": "markdown",
   "id": "eb6e30eb-47fe-4eef-ba92-dfdc6bdb906f",
   "metadata": {},
   "source": [
    "# UseContext and ContextAPI?"
   ]
  },
  {
   "cell_type": "markdown",
   "id": "aa0ec784-83cf-45af-bfa5-2fad24aa7755",
   "metadata": {},
   "source": [
    "useContext React ka ek hook hai jo functional components mein context ka use karne ke liye istemal hota hai. Iska primary purpose yeh hai ke aap global state ya data ko apne component tree mein asani se pass kar sakein, bina props drilling (yaani props ko ek component se doosre component tak manually pass karne) ke."
   ]
  },
  {
   "cell_type": "markdown",
   "id": "3c7137de-23e8-44a4-a9c3-4eec1c642575",
   "metadata": {},
   "source": [
    "### useContext ka use kaise hota hai?"
   ]
  },
  {
   "cell_type": "markdown",
   "id": "ac013994-f1de-4646-b0be-9a6d4ce8fe39",
   "metadata": {},
   "source": [
    "##### Context Create Karna: Sabse pehle aapko createContext se ek context create karna padta hai."
   ]
  },
  {
   "cell_type": "code",
   "execution_count": null,
   "id": "5b11d87c-7515-4e97-9cdc-50ee4d46ebc0",
   "metadata": {},
   "outputs": [],
   "source": [
    "import React, { createContext, useState } from 'react';\n",
    "\n",
    "const MyContext = createContext();"
   ]
  },
  {
   "cell_type": "markdown",
   "id": "95523bc7-7b17-45f2-9689-00ec2de7d956",
   "metadata": {},
   "source": [
    "##### Context Provider ka use karna: \n",
    "Aap apne root component ya kisi bhi parent component mein MyContext.Provider ko wrap karte hain jisme value ko define karte hain."
   ]
  },
  {
   "cell_type": "code",
   "execution_count": null,
   "id": "c975d1cc-10e2-435f-8dc0-f56d4d223827",
   "metadata": {},
   "outputs": [],
   "source": [
    "function App() {\n",
    "  const [count, setCount] = useState(0);\n",
    "\n",
    "  return (\n",
    "    <MyContext.Provider value={{ count, setCount }}>\n",
    "      <ChildComponent />\n",
    "    </MyContext.Provider>\n",
    "  );\n",
    "}"
   ]
  },
  {
   "cell_type": "markdown",
   "id": "05c4cab5-2aa1-4593-861d-e4707669e697",
   "metadata": {},
   "source": [
    "##### useContext ka use karna: \n",
    "Ab jab aapko kisi child component mein context ki value chahiye, to aap useContext hook ka use karte hain."
   ]
  },
  {
   "cell_type": "code",
   "execution_count": null,
   "id": "a26ac1a0-0408-45fd-8c7b-9fdc896ec419",
   "metadata": {},
   "outputs": [],
   "source": [
    "function ChildComponent() {\n",
    "  const { count, setCount } = useContext(MyContext);\n",
    "\n",
    "  return (\n",
    "    <div>\n",
    "      <p>Count: {count}</p>\n",
    "      <button onClick={() => setCount(count + 1)}>Increment</button>\n",
    "    </div>\n",
    "  );\n",
    "}"
   ]
  },
  {
   "cell_type": "markdown",
   "id": "6a5e8f1b-874b-46ed-a99f-f4d91d78a456",
   "metadata": {},
   "source": [
    "#### useContext ka fayda:\n",
    "\n",
    "* Props Drilling se bachna: \n",
    "Agar aapke paas deep nested components hain, to context ki madad se aap kisi bhi component mein easily value access kar sakte hain, bina har level pe props pass kiye.\n",
    "\n",
    "* Simpler code: \n",
    "useContext se code kaafi clean aur simple ho jata hai, kyunki aapko props chaining ki zarurat nahi hoti."
   ]
  },
  {
   "cell_type": "markdown",
   "id": "c8c713af-b5e5-40a6-9c93-e58611c39a59",
   "metadata": {},
   "source": [
    "# Diff between UseContext and ContextAPI:-"
   ]
  },
  {
   "cell_type": "markdown",
   "id": "4cd39746-6982-4ecc-a12f-a41a6cc98010",
   "metadata": {},
   "source": [
    "#### 1. Context API:\n",
    "The Context API in React is a way to share values between components without having to explicitly pass props down the component tree. It allows you to create global variables that can be accessed by any component that is a descendant of the context provider.\n",
    "\n",
    "* React.createContext(): This function creates a context object.\n",
    "\n",
    "* Context.Provider: This component is used to provide the context value to its descendants.\n",
    "\n",
    "* Context.Consumer: This component is used to consume the context value in class components (before hooks were introduced).\n",
    "\n",
    "##### 2. Context Hooks:\n",
    "React introduced hooks in version 16.8, which also includes hooks for working with Context API. These hooks make it easier to consume context values without having to use the Context.Consumer component.\n",
    "\n",
    "* useContext(): This hook is used to access the context value in functional components."
   ]
  },
  {
   "cell_type": "markdown",
   "id": "764ec1f0-660f-4eb7-b990-c80bb3ab9a9c",
   "metadata": {},
   "source": [
    "# Example:-"
   ]
  },
  {
   "cell_type": "code",
   "execution_count": null,
   "id": "1fe4e07e-d3a4-421d-b92f-dcd2311c6517",
   "metadata": {},
   "outputs": [],
   "source": [
    "import React, { createContext, useContext, useState } from 'react';\n",
    "\n",
    "// 1. Create Context\n",
    "const BiryaniContext = createContext();\n",
    "\n",
    "// 2. Provider\n",
    "const BiryaniProvider = ({ children }) => {\n",
    " const [ingredient, setIngredient] = useState(\"Rice\");\n",
    " return (\n",
    " <BiryaniContext.Provider value={{ ingredient, setIngredient }}>\n",
    " {children}\n",
    " </BiryaniContext.Provider>\n",
    " );\n",
    "};\n",
    "\n",
    "// 3. Consumer using Context\n",
    "const BiryaniConsumer = () => {\n",
    " const { ingredient, setIngredient } = useContext(BiryaniContext);\n",
    " return (\n",
    " <div>\n",
    " <h1>Ingredient: {ingredient}</h1>\n",
    " <button onClick​={() => setIngredient(\"Chicken\")}>Add Chicken</button>\n",
    " </div>\n",
    " );\n",
    "};\n",
    "\n",
    "// 4. Main App\n",
    "const App = () => (\n",
    " <BiryaniProvider>\n",
    " <BiryaniConsumer />\n",
    " </BiryaniProvider>\n",
    ");\n",
    "\n",
    "export default App;\n",
    "\n"
   ]
  },
  {
   "cell_type": "markdown",
   "id": "f638ee4d-8779-4ab2-bbed-7f0e27b7b3b5",
   "metadata": {},
   "source": [
    "Imagine karo tum ek biryani ki recipe bana rahe ho (Provider). Tumhare saare dost (Consumers) tumhare ingredients ka wait kar rahe hain, but instead of individually giving each one the ingredients (prop drilling), tum ek note bana kar sabko ek hi baar broadcast kar dete ho (Context API). Sabko biryani mil gayi!"
   ]
  },
  {
   "cell_type": "markdown",
   "id": "8860304c-e0af-46d6-81bc-b4175a88739b",
   "metadata": {},
   "source": [
    "# Event in React / Event Handler"
   ]
  },
  {
   "cell_type": "markdown",
   "id": "37d09692-0d97-4ad1-8964-ffa66c9c0647",
   "metadata": {},
   "source": [
    "React mein \"event\" ek interaction hota hai jo user ne kisi element ke saath perform kiya ho, jaise button click karna, form submit karna, mouse hover karna, ya keyboard key press karna. React events kaafi similar hote hain browser ke native events ke, lekin React mein ye thoda alag tarike se handle hote hain.\n",
    "\n",
    "React mein events ko handle karne ke liye hum event handler functions ka use karte hain. Ye event handler functions React components ke andar define kiye jaate hain aur unko specific DOM elements ke saath bind kiya jata hai."
   ]
  },
  {
   "cell_type": "markdown",
   "id": "286f6670-20c5-4697-ac09-329ea9229023",
   "metadata": {},
   "source": [
    "#### Simple Example:-"
   ]
  },
  {
   "cell_type": "code",
   "execution_count": null,
   "id": "19631248-3dde-4e49-aae8-a8a813618ecd",
   "metadata": {},
   "outputs": [],
   "source": [
    "import React, { useState } from 'react';\n",
    "\n",
    "function App() {\n",
    "  const [count, setCount] = useState(0);\n",
    "\n",
    "  const handleClick = () => {\n",
    "    setCount(count + 1);\n",
    "  };\n",
    "\n",
    "  return (\n",
    "    <div>\n",
    "      <p>Count: {count}</p>\n",
    "      <button onClick={handleClick}>Click me</button>\n",
    "    </div>\n",
    "  );\n",
    "}\n",
    "\n",
    "export default App;"
   ]
  },
  {
   "cell_type": "markdown",
   "id": "e760fa02-73e0-4c5a-939a-15bc7f9f57c6",
   "metadata": {},
   "source": [
    "# Component Life Cycle:-"
   ]
  },
  {
   "cell_type": "markdown",
   "id": "d5733343-2fa8-4e83-97f4-f015c79b7eab",
   "metadata": {},
   "source": [
    "Component Life Cycle React (aur aise hi baaki framework) mein ek process hai jisme ek component apni creation se lekar unmount hone tak kuch stages se guzarta hai. React mein component ka life cycle mainly 3 parts mein divide hota hai: Mounting, Updating, aur Unmounting."
   ]
  },
  {
   "cell_type": "markdown",
   "id": "bcf27d40-e03c-48d7-874c-2b83212961c9",
   "metadata": {},
   "source": [
    "## 1st Step:- Mounting (Component DOM mein insert ho raha hai)\n",
    "Jab ek component pehli baar render hota hai, yaani jab wo DOM mein insert hota hai, to uske liye `Mounting` phase hota hai. Is phase mein kuch important methods call kiye jate hain:\n",
    "\n",
    "#### constructor():\n",
    "* Jab ek component create hota hai to constructor() sabse pehle call hota hai.\n",
    "* Aap yahan initial state set kar sakte hain aur props ko initialize kar sakte hain.\n",
    "* Agar aapko parent class ko constructor se call karna ho to super(props) likhna padta hai."
   ]
  },
  {
   "cell_type": "code",
   "execution_count": null,
   "id": "3b2eb346-7caa-4400-9f76-f6ad0e379bcb",
   "metadata": {},
   "outputs": [],
   "source": [
    "constructor(props) {\n",
    "  super(props);\n",
    "  this.state = { count: 0 };\n",
    "}"
   ]
  },
  {
   "cell_type": "markdown",
   "id": "aac4e820-83c0-460f-94a7-a83473f05321",
   "metadata": {},
   "source": [
    "### static getDerivedStateFromProps():\n",
    "* Ye method props change hone par state ko update karne ke liye use hota hai.\n",
    "* Ye method render se pehle call hota hai, lekin yeh sirf class components mein hota hai.\n",
    "* Agar props change hoti hain to aap state ko update kar sakte hain."
   ]
  },
  {
   "cell_type": "code",
   "execution_count": null,
   "id": "98b0b1d9-4062-47b6-8a24-e3b2da5f03cb",
   "metadata": {},
   "outputs": [],
   "source": [
    "static getDerivedStateFromProps(nextProps, nextState) {\n",
    "  if (nextProps.value !== nextState.value) {\n",
    "    return { value: nextProps.value };\n",
    "  }\n",
    "  return null;\n",
    "}"
   ]
  },
  {
   "cell_type": "markdown",
   "id": "236ce822-aded-4301-9e70-cf9196e7ab6f",
   "metadata": {},
   "source": [
    "### render():\n",
    "* Ye method component ka actual UI render karta hai.\n",
    "* React ki render method ek pure function hoti hai jo props aur state ke base par UI return karti hai.\n",
    "* Ye method har time re-render hota hai jab state ya props change hoti hain."
   ]
  },
  {
   "cell_type": "code",
   "execution_count": null,
   "id": "7f0a50c4-2c2f-48c5-a6b6-beea3c761905",
   "metadata": {},
   "outputs": [],
   "source": [
    "render() {\n",
    "  return <div>{this.state.count}</div>;\n",
    "}"
   ]
  },
  {
   "cell_type": "markdown",
   "id": "2cea6a7f-bd5f-4ff9-ba5c-158485dd603e",
   "metadata": {},
   "source": [
    "### componentDidMount():\n",
    "* Ye method component ke render hone ke baad call hota hai.\n",
    "* Yahan aap side-effects (jaise API calls, event listeners, subscriptions, etc.) ko handle kar sakte hain.\n",
    "* Agar aapko data fetch karna ho ya timer set karna ho to yeh method use hota hai."
   ]
  },
  {
   "cell_type": "code",
   "execution_count": null,
   "id": "e454647b-2471-4307-ab30-e3dfc2c6c938",
   "metadata": {},
   "outputs": [],
   "source": [
    "componentDidMount() {\n",
    "  fetchData().then(data => this.setState({ data }));\n",
    "}\n"
   ]
  },
  {
   "cell_type": "markdown",
   "id": "43b6813e-284b-414c-8124-a6d24a77ca9a",
   "metadata": {},
   "source": [
    "# 2nd Step:- Updating (Component ka state ya props change ho raha hai)"
   ]
  },
  {
   "cell_type": "markdown",
   "id": "b4c5dacd-16d7-48e6-9040-4f2d384310c9",
   "metadata": {},
   "source": [
    "Agar component ka state ya props change hota hai, to component re-render hota hai. Is process ko Updating kaha jata hai."
   ]
  },
  {
   "cell_type": "markdown",
   "id": "07784910-8eef-4308-8f3d-14570f87f465",
   "metadata": {},
   "source": [
    "### static getDerivedStateFromProps():\n",
    "* Jaise ki Mounting phase mein bataya gaya, yeh method props change hone par call hota hai aur state ko update karne ka kaam karta hai."
   ]
  },
  {
   "cell_type": "markdown",
   "id": "e929a0c7-6cf0-4493-ad03-386046112f07",
   "metadata": {},
   "source": [
    "### shouldComponentUpdate():\n",
    "* Ye method decide karta hai ki component ko re-render karna hai ya nahi. Agar yeh method false return karta hai, to component re-render nahi hoga.\n",
    "* Ye method performance optimization ke liye use hota hai, jab aapko lagta hai ki props ya state change hone par re-render ki zarurat nahi hai."
   ]
  },
  {
   "cell_type": "code",
   "execution_count": null,
   "id": "55bf85c0-d7f9-4c7b-8421-6e77b936c3ad",
   "metadata": {},
   "outputs": [],
   "source": [
    "shouldComponentUpdate(nextProps, nextState) {\n",
    "  if (nextState.count === this.state.count) {\n",
    "    return false; // Re-render nahi hoga\n",
    "  }\n",
    "  return true; // Re-render hoga\n",
    "}"
   ]
  },
  {
   "cell_type": "markdown",
   "id": "eda6cf42-a1d4-4761-a029-adbea05b238c",
   "metadata": {},
   "source": [
    "### render():\n",
    "* Jab component ka state ya props change hota hai, tab render() method call hota hai. Isme naya UI generate hota hai."
   ]
  },
  {
   "cell_type": "markdown",
   "id": "6bf46b58-e49a-4f82-8425-f42e5043a1e6",
   "metadata": {},
   "source": [
    "### getSnapshotBeforeUpdate():\n",
    "* Ye method render() ke baad aur DOM update se pehle call hota hai.\n",
    "* Agar aapko DOM ka snapshot lena ho ya scroll position ko track karna ho to yeh method use hota hai."
   ]
  },
  {
   "cell_type": "code",
   "execution_count": null,
   "id": "e644737b-7e01-4138-aa1b-d6484b6dc5d0",
   "metadata": {},
   "outputs": [],
   "source": [
    "getSnapshotBeforeUpdate(prevProps, prevState) {\n",
    "  // Scroll position track karna\n",
    "  return this.state.scrollPosition;\n",
    "}"
   ]
  },
  {
   "cell_type": "markdown",
   "id": "8ce681da-4a1f-4c29-9866-5e72dd81e160",
   "metadata": {},
   "source": [
    "### componentDidUpdate():\n",
    "* Ye method render() ke baad call hota hai, jab component successfully DOM mein update ho jata hai.\n",
    "* Aap isme side effects ko handle kar sakte hain, jaise API call ya animations."
   ]
  },
  {
   "cell_type": "code",
   "execution_count": null,
   "id": "cc7de093-242e-4755-b1f8-04da4893ad3e",
   "metadata": {},
   "outputs": [],
   "source": [
    "componentDidUpdate(prevProps, prevState, snapshot) {\n",
    "  if (this.state.count !== prevState.count) {\n",
    "    // Data fetch ya kuch aur kar sakte hain\n",
    "  }\n",
    "}"
   ]
  },
  {
   "cell_type": "markdown",
   "id": "9d5b1a6e-2738-4cb3-b796-fd85b523abeb",
   "metadata": {},
   "source": [
    "# 3rd Step:- Unmounting (Component DOM se remove ho raha hai)"
   ]
  },
  {
   "cell_type": "markdown",
   "id": "9009b9ae-819b-4e71-8d28-d54810ab1f27",
   "metadata": {},
   "source": [
    "Jab ek component DOM se remove hota hai, to uske liye Unmounting phase hota hai."
   ]
  },
  {
   "cell_type": "markdown",
   "id": "e5eb44e2-972a-40d7-b927-9833f89cc0d1",
   "metadata": {},
   "source": [
    "### componentWillUnmount():\n",
    "* Ye method component ke unmount hone se pehle call hota hai.\n",
    "* Is method mein aapko cleanup tasks handle karne chahiye, jaise event listeners ko remove karna, timers ko clear karna, ya API requests ko cancel karna."
   ]
  },
  {
   "cell_type": "code",
   "execution_count": null,
   "id": "83e4172e-d32d-49a3-9274-e6045e5b2375",
   "metadata": {},
   "outputs": [],
   "source": [
    "componentWillUnmount() {\n",
    "  clearInterval(this.timer);\n",
    "}"
   ]
  },
  {
   "cell_type": "markdown",
   "id": "0253c8ec-15b6-49b8-9a14-8f2e1f360c87",
   "metadata": {},
   "source": [
    "React ka component life cycle aapko yeh samajhne mein madad karta hai ki component kab aur kaise update hota hai, aur jab wo unmount hota hai to uske cleanup tasks kya honge. Life cycle methods ko efficiently use karne se aap apne components ko optimized aur responsive bana sakte hain."
   ]
  },
  {
   "cell_type": "markdown",
   "id": "db119a6e-1a1a-4273-bf8a-4b23a293483d",
   "metadata": {},
   "source": [
    "# Link & NavLink me Diff(React-Router-Dom)"
   ]
  },
  {
   "cell_type": "markdown",
   "id": "9c5308ba-5e5c-46c9-b18c-76123b6d24b8",
   "metadata": {},
   "source": [
    "## Link:-\n",
    "Link component ka basic purpose hai ek route par navigate karna bina page ko reload kiye.\n",
    "\n",
    "* Usage: Link simple navigation ke liye use hota hai.\n",
    "* Behavior: Jab user Link par click karta hai, toh wo specified route pe navigate ho jaata hai."
   ]
  },
  {
   "cell_type": "code",
   "execution_count": null,
   "id": "77ff122f-70c0-44d3-9507-bd39e842fcc3",
   "metadata": {},
   "outputs": [],
   "source": [
    "import { Link } from 'react-router-dom';\n",
    "\n",
    "function App() {\n",
    "  return (\n",
    "    <nav>\n",
    "      <Link to=\"/home\">Home</Link>\n",
    "      <Link to=\"/about\">About</Link>\n",
    "    </nav>\n",
    "  );\n",
    "}"
   ]
  },
  {
   "cell_type": "markdown",
   "id": "1c844117-2983-4418-aba4-d6cbd9362612",
   "metadata": {},
   "source": [
    "## NavLink:\n",
    "NavLink bhi Link ki tarah hi route navigation ka kaam karta hai, lekin isme ek extra feature hota hai: active class ka automatic management.\n",
    "* Usage: NavLink ko zyada tar navigation links mein use kiya jata hai, jahan aapko current active link ko highlight karna hota hai (e.g., jab user currently ek page pe ho, toh uska link active dikhe).\n",
    "* Behavior: Jab user NavLink par click karta hai, wo route ko navigate karta hai, aur agar wo current route ke saath match karta hai, toh active class automatically add hoti hai."
   ]
  },
  {
   "cell_type": "code",
   "execution_count": null,
   "id": "ac320fea-bf5d-4d78-b6cb-d7ecebf6f44e",
   "metadata": {},
   "outputs": [],
   "source": [
    "import { NavLink } from 'react-router-dom';\n",
    "\n",
    "function App() {\n",
    "  return (\n",
    "    <nav>\n",
    "      <NavLink to=\"/home\" activeClassName=\"active-link\">Home</NavLink>\n",
    "      <NavLink to=\"/about\" activeClassName=\"active-link\">About</NavLink>\n",
    "    </nav>\n",
    "  );\n",
    "}"
   ]
  },
  {
   "cell_type": "markdown",
   "id": "fafce22c-9f7c-4918-b91a-3aa90c8a94e1",
   "metadata": {},
   "source": [
    "`Link: Simple navigation ke liye use hota hai, koi active state handling nahi hoti.`\n",
    "\n",
    "`NavLink: Active navigation link ko highlight karne ke liye use hota hai, jisme automatic active class add hoti hai jab link current route ke saath match karta hai.`"
   ]
  },
  {
   "cell_type": "markdown",
   "id": "bc20b3e2-9491-4883-b099-4dfa1f0fb9d6",
   "metadata": {},
   "source": [
    "# Redirect & Navigate:-"
   ]
  },
  {
   "cell_type": "markdown",
   "id": "3220061b-c136-430c-9a9c-dba1a9b44136",
   "metadata": {},
   "source": [
    "React Router DOM 6 (or later) me Redirect component ko replace kar diya gaya hai Navigate component se. Agar aapko ek route se dusre route par navigate karna hai, toh ab aap Navigate ka use kar sakte hain."
   ]
  },
  {
   "cell_type": "code",
   "execution_count": null,
   "id": "625a9418-02bc-4374-80b2-2e86fddb281c",
   "metadata": {},
   "outputs": [],
   "source": [
    "import { Navigate } from 'react-router-dom';\n",
    "\n",
    "function MyComponent() {\n",
    "  // Some logic here\n",
    "  return <Navigate to=\"/new-path\" />;\n",
    "}"
   ]
  },
  {
   "cell_type": "markdown",
   "id": "2405f938-4673-4655-89d9-516cda6ea469",
   "metadata": {},
   "source": [
    "* to prop: Yeh prop redirect hone wale route ko specify karta hai.\n",
    "* replace prop: Agar replace={true} set karenge to current entry ko history stack mein replace kar diya jayega, matlab back button se wapas nahi ja sakte."
   ]
  },
  {
   "cell_type": "markdown",
   "id": "7347d854-d775-4c57-a8ee-f5dc7ecb30e9",
   "metadata": {},
   "source": [
    "##### Agar aapko kisi route par ek element render karna ho, to aap Route component ka use karenge. Navigate sirf redirect ke liye hota hai, aur wo kisi component ko render nahi karta."
   ]
  },
  {
   "cell_type": "markdown",
   "id": "b1ed28b6-04a8-41cd-bed8-8f7293d715d6",
   "metadata": {},
   "source": [
    "###  Key Differences:\n",
    "#### Router:\n",
    "\n",
    "v5 me: BrowserRouter ya HashRouter ko use karte the, jo specific routing mode decide karte the (browser history ya hash-based).\n",
    "\n",
    "v6 me: Same tarike se BrowserRouter ya HashRouter use hota hai, lekin zyada tar cases me Routes component ki zarurat hoti hai.\n",
    "\n",
    "#### Routes:\n",
    "\n",
    "v5 me: Multiple Route components ko directly Router ke andar rakhte the.\n",
    "\n",
    "v6 me: Route components ko Routes ke andar wrap karna padta hai, jisse wo route matching ka kaam efficiently perform karte hain.\n",
    "\n",
    "#### Route:\n",
    "\n",
    "v5 me: Route me component prop use hota tha, ya phir render ya children prop ka use hota tha.\n",
    "\n",
    "v6 me: Route me element prop use hota hai, jisme ek React element pass karte hain."
   ]
  },
  {
   "cell_type": "markdown",
   "id": "4e5a118e-9fd3-44d3-bfc4-04c3159eb7d7",
   "metadata": {},
   "source": [
    "# React Redux"
   ]
  },
  {
   "cell_type": "markdown",
   "id": "0982e21f-6281-463b-be9d-91011292977e",
   "metadata": {},
   "source": [
    "React Redux ek JavaScript library hai jo React applications me state management ko asaan banata hai. Redux ek predictable state container hai jo apne app ke state ko ek centralized store me rakhta hai, jahan se har component apni required data ko fetch kar sakta hai.\n",
    "\n",
    "Iska use state ko manage karne ke liye kiya jata hai, khaas kar jab aapko large scale applications me multiple components ke beech data share karna ho."
   ]
  },
  {
   "cell_type": "markdown",
   "id": "5d741831-9f3d-4097-92c8-494c97856862",
   "metadata": {},
   "source": [
    "#### React Redux kaam kaise karta hai:\n",
    "\n",
    "##### Store: \n",
    "Redux me ek central store hota hai jahan aap app ka state rakhte ho. Yeh state poore app ke liye accessible hota hai.\n",
    "\n",
    "##### Actions: \n",
    "Actions ek plain JavaScript objects hote hain jo state me changes ke liye request bhejte hain. Action ek type field rakhta hai jo batata hai ki kis type ka action perform karna hai (jaise data fetch karna, user login, etc.).\n",
    "\n",
    "##### Reducers: \n",
    "Reducers wo functions hote hain jo action ke basis par state ko modify karte hain. Jab action dispatch hota hai, reducer wo action handle karke updated state return karta hai.\n",
    "\n",
    "##### Dispatch: \n",
    "React components me dispatch method use karke action ko call kiya jata hai, jise store me send kiya jata hai.\n",
    "\n",
    "##### Connect: \n",
    "connect() function ka use kar ke React component ko Redux store se connect kiya jata hai. Iske zariye, component ko store se data milta hai aur state me changes reflect hoti hain."
   ]
  },
  {
   "cell_type": "markdown",
   "id": "852fbe5b-3176-4b3e-8251-fef9cb802abd",
   "metadata": {},
   "source": [
    "### Redux ka fayda:\n",
    "Single Source of Truth: Saare state ek jagah par rehte hain, jo debugging aur maintenance ko asaan banata hai.\n",
    "\n",
    "Predictable: State ko modify karne ka process predictable hota hai, jise aap track kar sakte ho.\n",
    "\n",
    "Easy Debugging: Aap actions aur state changes ko easily track kar sakte ho, jo development aur debugging me madadgar hai."
   ]
  },
  {
   "cell_type": "markdown",
   "id": "5f176bc6-e8ba-4d64-819a-20e874f7c4ac",
   "metadata": {},
   "source": [
    "# What is Key?"
   ]
  },
  {
   "cell_type": "markdown",
   "id": "181c0fd9-fb6b-430c-a20b-c03d46a58c08",
   "metadata": {},
   "source": [
    "React me \"key\" ek special prop hota hai jo list items ko uniquely identify karne ke liye use hota hai. Jab aap kisi list ko render karte ho (jaise map() method se), toh React ko pata hona chahiye ki kaunsa item update hua hai, kaunsa item delete hua hai, ya kaunsa item add hua hai. Isliye key ka use kiya jata hai.\n",
    "\n",
    "React me key ka main purpose performance optimization aur re-rendering ko efficient banana hota hai."
   ]
  },
  {
   "cell_type": "code",
   "execution_count": null,
   "id": "5dac3fc4-5a1d-44f1-989e-4060124050c2",
   "metadata": {},
   "outputs": [],
   "source": [
    "const items = ['Apple', 'Banana', 'Orange'];\n",
    "\n",
    "const ItemList = () => {\n",
    "  return (\n",
    "    <ul>\n",
    "      {items.map((item, index) => (\n",
    "        <li key={index}>{item}</li>\n",
    "      ))}\n",
    "    </ul>\n",
    "  );\n",
    "};"
   ]
  },
  {
   "cell_type": "markdown",
   "id": "887e57f0-e4e5-4a5b-95c9-d7570a15ff24",
   "metadata": {},
   "source": [
    "#### Key ka Importance:\n",
    "Jab aap React me list items render karte hain (jaise map() function se), toh React ko yeh samajhna hota hai ki har item ka unique identity kya hai, taki wo efficiently update kar sake jab state ya props change ho. Agar aap key ka sahi tareeke se use nahi karte, toh React ko har item ko re-render karna padta hai, jo unnecessary performance cost hota hai.\n",
    "\n",
    "Agar aap key nahi provide karte, toh React default behavior me index ko key samajh kar use karta hai. Lekin yeh problem create kar sakta hai agar aapki list me items ka order change ho, ya items add/remove ho."
   ]
  },
  {
   "cell_type": "markdown",
   "id": "a4410005-23a6-435b-866a-48781abb8162",
   "metadata": {},
   "source": [
    "#### Key aur Re-rendering:\n",
    "React ko jab list me changes dekhna hote hain (jaise item add ya remove ho), toh wo virtual DOM me check karta hai ki kis item ka position change hua hai. Agar key sahi se set ki gayi ho, toh React ko pata chal jata hai ki kis item ko update karna hai, bina poore list ko dobara render kiye. Isse rendering fast hota hai."
   ]
  },
  {
   "cell_type": "code",
   "execution_count": null,
   "id": "148e92e1-aa42-4a7e-8032-90336d14b88c",
   "metadata": {},
   "outputs": [],
   "source": [
    "const products = [\n",
    "  { id: 1, name: 'Laptop', price: 50000 },\n",
    "  { id: 2, name: 'Phone', price: 30000 },\n",
    "  { id: 3, name: 'Headphones', price: 5000 }\n",
    "];\n",
    "\n",
    "const ProductList = () => {\n",
    "  return (\n",
    "    <ul>\n",
    "      {products.map((product) => (\n",
    "        <li key={product.id}>\n",
    "          {product.name} - ${product.price}\n",
    "        </li>\n",
    "      ))}\n",
    "    </ul>\n",
    "  );\n",
    "};\n"
   ]
  },
  {
   "cell_type": "markdown",
   "id": "767c9a25-9a68-4a6b-a591-a6ca9e59b05e",
   "metadata": {},
   "source": [
    "# setState()"
   ]
  },
  {
   "cell_type": "markdown",
   "id": "25a108f8-4c78-4e94-9daa-7f44be64b0b6",
   "metadata": {},
   "source": [
    "setState() React me ek method hai jo component ki state ko update karta hai. Lekin, jab hum functional components ki baat karte hain, to setState() ko directly use nahi kar sakte. Instead, functional components me hum useState() hook ka use karte hain, jo state ko handle karta hai.\n",
    "\n",
    "useState() hook ko call karte waqt, hum ek initial state value set karte hain aur ek function milta hai jise hum state ko update karne ke liye use karte hain."
   ]
  },
  {
   "cell_type": "code",
   "execution_count": null,
   "id": "ed3c5f83-8b1f-445a-ad38-cd51f4b68d62",
   "metadata": {},
   "outputs": [],
   "source": [
    "import React, { useState } from 'react';\n",
    "\n",
    "const Counter = () => {\n",
    "  // State ko initialize karna (initial value 0 hai)\n",
    "  const [count, setCount] = useState(0);\n",
    "\n",
    "  // Function jo state ko update karega\n",
    "  const increment = () => {\n",
    "    setCount(count + 1);  // State ko update karna\n",
    "  };\n",
    "\n",
    "  return (\n",
    "    <div>\n",
    "      <h1>Count: {count}</h1>\n",
    "      <button onClick={increment}>Increment</button>\n",
    "    </div>\n",
    "  );\n",
    "};\n",
    "\n",
    "export default Counter;"
   ]
  },
  {
   "cell_type": "markdown",
   "id": "a335d8b1-1745-4f38-86c1-e42979493181",
   "metadata": {},
   "source": [
    "#### Explanation:\n",
    "* const [count, setCount] = useState(0);\n",
    "* count state variable hai jo initial value 0 se start hota hai.\n",
    "* setCount wo function hai jo hum state ko update karne ke liye use karte hain.\n",
    "* increment function ke andar, hum setCount(count + 1) call karte hain, jo count ki value ko 1 se increment karta hai.\n",
    "* Jab button pe click hota hai, increment function call hota hai aur state update ho jati hai, jisse component re-render hota hai aur updated value UI me show hoti hai."
   ]
  },
  {
   "cell_type": "markdown",
   "id": "5fb6e9f2-4d23-44b0-ada3-a2f8ed63fc94",
   "metadata": {},
   "source": [
    "# Optimize React Code:-\n",
    "* Use useCallback and useMemo Hooks\n",
    "* Avoid Reconciliation with React.memo\n",
    "* Lazy Load Components using React.lazy\n",
    "* Use PureComponent or shouldComponentUpdate\n",
    "* Avoid Inline Functions in JSX\n",
    "* Batch State Updates\n",
    "* Code Splitting\n",
    "* Virtualize Long Lists\n",
    "* Avoid Excessive Re-Renders\n",
    "* Optimize CSS and Styling\n",
    "* Consider Server-Side Rendering (SSR) \n"
   ]
  },
  {
   "cell_type": "markdown",
   "id": "4d42fcad-2a9a-4664-abc7-e3491dbc3ddc",
   "metadata": {},
   "source": [
    "# Strict Mode in React"
   ]
  },
  {
   "cell_type": "markdown",
   "id": "219991fe-2be0-4067-bdd1-644dbadd8580",
   "metadata": {},
   "source": [
    "React mein Strict Mode ek development tool hai jo aapke application ko check karta hai aur kuch common mistakes ya problematic patterns ko identify karta hai. Ye sirf development mode mein kaam karta hai aur production build mein effect nahi dalta.\n",
    "\n",
    "#### Detecting Unsafe Lifecycles: \n",
    "React aapko un lifecycle methods ki warning deta hai jo future versions mein deprecated ho sakte hain. Jaise ki componentWillMount, componentWillReceiveProps, aur componentWillUpdate.\n",
    "\n",
    "#### Identifying Components with Side Effects: \n",
    "Ye ensure karta hai ki components mein unnecessary side effects na ho. React aise components ko identify karta hai jo render ke dauran state ya props ko change karte hain.\n",
    "\n",
    "#### Legacy Context API: \n",
    "Agar aap purani context API use kar rahe hain, toh Strict Mode aapko warn karega. React ne ek nayi context API introduce ki hai, jo ki zyada efficient hai.\n",
    "\n",
    "#### Double Rendering: \n",
    "Strict Mode development mein components ko intentionally do baar render karta hai (double rendering) taaki aap easily identify kar sakein agar koi unexpected side effects ya issues ho rahe hain."
   ]
  },
  {
   "cell_type": "code",
   "execution_count": null,
   "id": "77eca2cd-3853-4e5e-b843-c90226d050b2",
   "metadata": {},
   "outputs": [],
   "source": [
    "import React from 'react';\n",
    "import ReactDOM from 'react-dom';\n",
    "import App from './App';\n",
    "\n",
    "ReactDOM.render(\n",
    "  <React.StrictMode>\n",
    "    <App />\n",
    "  </React.StrictMode>,\n",
    "  document.getElementById('root')\n",
    ");\n"
   ]
  },
  {
   "cell_type": "code",
   "execution_count": null,
   "id": "c7bab3f4-81a8-4a28-9d2f-d3ddef4ae024",
   "metadata": {},
   "outputs": [],
   "source": []
  }
 ],
 "metadata": {
  "kernelspec": {
   "display_name": "Python 3 (ipykernel)",
   "language": "python",
   "name": "python3"
  },
  "language_info": {
   "codemirror_mode": {
    "name": "ipython",
    "version": 3
   },
   "file_extension": ".py",
   "mimetype": "text/x-python",
   "name": "python",
   "nbconvert_exporter": "python",
   "pygments_lexer": "ipython3",
   "version": "3.12.6"
  }
 },
 "nbformat": 4,
 "nbformat_minor": 5
}
